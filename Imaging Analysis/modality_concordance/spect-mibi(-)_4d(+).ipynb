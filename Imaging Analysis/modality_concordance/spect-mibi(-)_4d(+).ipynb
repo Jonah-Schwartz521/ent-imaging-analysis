{
 "cells": [
  {
   "cell_type": "markdown",
   "id": "6d9bc7e0",
   "metadata": {},
   "source": [
    "## 4D CT Performance in Patients with Negative SPECT/CT + Sestamibi\n",
    "\n",
    "This analysis evaluates patients whose **SPECT/CT + Sestamibi scans were non-localizing**, assessing the performance of **4D CT scans** in these diagnostically challenging cases.\n",
    "\n",
    "The table below summarizes the **counts and percentages** for each concordance category among these patients."
   ]
  },
  {
   "cell_type": "code",
   "execution_count": 11,
   "id": "02f6b19f",
   "metadata": {},
   "outputs": [],
   "source": [
    "import pandas as pd \n",
    "import matplotlib.pyplot as plt\n",
    "preop_imaging_df = pd.read_excel('../../Data/final_imaging_data.xlsx')"
   ]
  },
  {
   "cell_type": "code",
   "execution_count": 12,
   "id": "36e5683e",
   "metadata": {},
   "outputs": [],
   "source": [
    "# Filter for SPECT/CT + Sestamibi negative but 4D CT positive cases\n",
    "negative_spectmibi = preop_imaging_df[preop_imaging_df['SPECT/CT-Sestamibi'] == 'Non-localizing']\n",
    "sestamibi_neg_4d_pos = negative_spectmibi[\n",
    "    negative_spectmibi['4D CT Scan'].notnull() & \n",
    "    (negative_spectmibi['4D CT Scan'] != 'Non-localizing')\n",
    "]\n",
    "\n",
    "# Calculate counts for each concordance category\n",
    "total_cases = sestamibi_neg_4d_pos.shape[0]\n",
    "exact_count = (sestamibi_neg_4d_pos['4D CT Scan Calculated Concordance'] == 'Yes (Exact)').sum()\n",
    "side_count = (sestamibi_neg_4d_pos['4D CT Scan Calculated Concordance'] == 'Yes (Side)').sum()\n",
    "partial_count = (sestamibi_neg_4d_pos['4D CT Scan Calculated Concordance'] == 'Yes (Partial)').sum()\n",
    "incorrect_count = (sestamibi_neg_4d_pos['4D CT Scan Calculated Concordance'] == 'Incorrect Localization').sum()\n",
    "no_scan_count = (sestamibi_neg_4d_pos['4D CT Scan Calculated Concordance'] == 'No Scan').sum()\n",
    "non_localizing_count = (sestamibi_neg_4d_pos['4D CT Scan Calculated Concordance'] == 'Non-localizing').sum()"
   ]
  },
  {
   "cell_type": "code",
   "execution_count": 15,
   "id": "34917eea",
   "metadata": {},
   "outputs": [
    {
     "name": "stdout",
     "output_type": "stream",
     "text": [
      "Total SPECT/CT + Sestamibi negative / 4D CT positive cases: 51\n"
     ]
    },
    {
     "data": {
      "text/html": [
       "<div>\n",
       "<style scoped>\n",
       "    .dataframe tbody tr th:only-of-type {\n",
       "        vertical-align: middle;\n",
       "    }\n",
       "\n",
       "    .dataframe tbody tr th {\n",
       "        vertical-align: top;\n",
       "    }\n",
       "\n",
       "    .dataframe thead th {\n",
       "        text-align: right;\n",
       "    }\n",
       "</style>\n",
       "<table border=\"1\" class=\"dataframe\">\n",
       "  <thead>\n",
       "    <tr style=\"text-align: right;\">\n",
       "      <th></th>\n",
       "      <th>Match Type</th>\n",
       "      <th>Count</th>\n",
       "      <th>Percentage</th>\n",
       "    </tr>\n",
       "  </thead>\n",
       "  <tbody>\n",
       "    <tr>\n",
       "      <th>0</th>\n",
       "      <td>Exact Match</td>\n",
       "      <td>22</td>\n",
       "      <td>43.14%</td>\n",
       "    </tr>\n",
       "    <tr>\n",
       "      <th>1</th>\n",
       "      <td>Side Match</td>\n",
       "      <td>8</td>\n",
       "      <td>15.69%</td>\n",
       "    </tr>\n",
       "    <tr>\n",
       "      <th>2</th>\n",
       "      <td>Partial Match</td>\n",
       "      <td>3</td>\n",
       "      <td>5.88%</td>\n",
       "    </tr>\n",
       "    <tr>\n",
       "      <th>3</th>\n",
       "      <td>Incorrect Localization</td>\n",
       "      <td>18</td>\n",
       "      <td>35.29%</td>\n",
       "    </tr>\n",
       "  </tbody>\n",
       "</table>\n",
       "</div>"
      ],
      "text/plain": [
       "               Match Type  Count Percentage\n",
       "0             Exact Match     22     43.14%\n",
       "1              Side Match      8     15.69%\n",
       "2           Partial Match      3      5.88%\n",
       "3  Incorrect Localization     18     35.29%"
      ]
     },
     "metadata": {},
     "output_type": "display_data"
    }
   ],
   "source": [
    "# Calculate percentages\n",
    "def calc_pct(count): return f\"{(count/total_cases)*100:.2f}%\" if total_cases > 0 else 'N/A'\n",
    "\n",
    "# Create final clean summary dataframe\n",
    "summary_df = pd.DataFrame({\n",
    "    'Match Type': [\n",
    "        'Exact Match',\n",
    "        'Side Match',\n",
    "        'Partial Match',\n",
    "        'Incorrect Localization',\n",
    "        \n",
    "    ],\n",
    "    'Count': [\n",
    "        exact_count,\n",
    "        side_count,\n",
    "        partial_count,\n",
    "        incorrect_count,\n",
    "    ],\n",
    "    'Percentage': [\n",
    "        calc_pct(exact_count),\n",
    "        calc_pct(side_count),\n",
    "        calc_pct(partial_count),\n",
    "        calc_pct(incorrect_count),\n",
    "    ]\n",
    "})\n",
    "\n",
    "# Display results\n",
    "print(f\"Total SPECT/CT + Sestamibi negative / 4D CT positive cases: {total_cases}\")\n",
    "display(summary_df)\n",
    "\n"
   ]
  },
  {
   "cell_type": "code",
   "execution_count": 14,
   "id": "ceacdcd7",
   "metadata": {},
   "outputs": [],
   "source": [
    "# import matplotlib.pyplot as plt \n",
    "# labels = ['Exact Match', 'Side Match', 'Incorrect Localization']\n",
    "# counts = [exact_count, side_count, incorrect_count]\n",
    "# colors = ['green', 'orange', 'red']\n",
    "\n",
    "# plt.figure(figsize=(6,4))\n",
    "# bars = plt.bar(labels, counts, color=colors)\n",
    "\n",
    "# for bar in bars: \n",
    "#     height = bar.get_height()\n",
    "#     plt.text(bar.get_x() + bar.get_width()/2, height + 0.5, f'{int(height)}',\n",
    "#              ha='center', va='bottom', fontsize=10)\n",
    "    \n",
    "# plt.title('4D CT Concordance in Patients with Non-localizing SPECT/CT + Sestamibi)', fontsize=12)\n",
    "# plt.ylabel('Number of Patients')\n",
    "# plt.ylim(0, max(counts)*1.2)  # Adds headroom for labels\n",
    "\n",
    "# plt.tight_layout()\n",
    "# plt.show()\n"
   ]
  }
 ],
 "metadata": {
  "kernelspec": {
   "display_name": "base",
   "language": "python",
   "name": "python3"
  },
  "language_info": {
   "codemirror_mode": {
    "name": "ipython",
    "version": 3
   },
   "file_extension": ".py",
   "mimetype": "text/x-python",
   "name": "python",
   "nbconvert_exporter": "python",
   "pygments_lexer": "ipython3",
   "version": "3.12.4"
  }
 },
 "nbformat": 4,
 "nbformat_minor": 5
}
