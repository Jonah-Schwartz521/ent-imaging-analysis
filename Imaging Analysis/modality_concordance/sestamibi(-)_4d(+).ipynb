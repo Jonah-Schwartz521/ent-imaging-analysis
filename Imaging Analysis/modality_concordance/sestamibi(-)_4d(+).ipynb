{
 "cells": [
  {
   "cell_type": "markdown",
   "id": "4849ca97",
   "metadata": {},
   "source": [
    "# Concordance Analysis: Negative Sestamibi, Positive 4D CT\n",
    "\n",
    "### Objective\n",
    "\n",
    "Assess **4D CT concordance with surgical findings** in patients with **non-localizing Sestamibi scans but positive 4D CT results**.\n",
    "\n",
    "### Data Source\n",
    "\n",
    "- `side_concordance_results.xlsx` (pre-operative imaging and surgical outcomes)\n",
    "\n",
    "### Outputs\n",
    "\n",
    "- **Total cases:** 22\n",
    "- **Exact match:** 10 (**45.5%**)\n",
    "- **Side-only match:** 6 (**27.3%**)\n",
    "- **Combined side match (Exact + Side-only):** 16 (**72.7%**)\n",
    "- **Incorrect localization:** 6 (**27.3%**)\n",
    "\n",
    "---"
   ]
  },
  {
   "cell_type": "code",
   "execution_count": null,
   "id": "f05c4de4",
   "metadata": {},
   "outputs": [
    {
     "name": "stdout",
     "output_type": "stream",
     "text": [
      "Index(['Date of Procedure', 'Patient ID', 'Age ', 'Gender',\n",
      "       'Surgical Findings', 'Surgical Cure', 'SPECT/CT', 'Ultrasound',\n",
      "       '4D CT Scan', 'Sestamibi', 'MRI', 'SPECT/CT Calculated Concordance',\n",
      "       '4D CT Scan Calculated Concordance',\n",
      "       'Ultrasound Calculated Concordance', 'Sestamibi Calculated Concordance',\n",
      "       'MRI Calculated Concordance'],\n",
      "      dtype='object')\n"
     ]
    }
   ],
   "source": [
    "import pandas as pd \n",
    "preop_imaging_df = pd.read_excel('../../Data/FINAL_cleaned_with_concordance_v1.xlsx')"
   ]
  },
  {
   "cell_type": "code",
   "execution_count": null,
   "id": "4a1a203a",
   "metadata": {},
   "outputs": [],
   "source": [
    " # Function to extract imaging side\n",
    "def extract_side(location):\n",
    "    if pd.isnull(location):\n",
    "        return 'No Scan'\n",
    "    \n",
    "    if 'Left' in location:\n",
    "        return 'Left'\n",
    "    elif 'Right' in location:\n",
    "        return 'Right'\n",
    "    else:\n",
    "        return 'Unknown'"
   ]
  },
  {
   "cell_type": "code",
   "execution_count": null,
   "id": "53dd7ada",
   "metadata": {},
   "outputs": [
    {
     "name": "stdout",
     "output_type": "stream",
     "text": [
      "Total Sestamibi-negative / 4D CT positive cases: 22\n"
     ]
    },
    {
     "data": {
      "text/html": [
       "<div>\n",
       "<style scoped>\n",
       "    .dataframe tbody tr th:only-of-type {\n",
       "        vertical-align: middle;\n",
       "    }\n",
       "\n",
       "    .dataframe tbody tr th {\n",
       "        vertical-align: top;\n",
       "    }\n",
       "\n",
       "    .dataframe thead th {\n",
       "        text-align: right;\n",
       "    }\n",
       "</style>\n",
       "<table border=\"1\" class=\"dataframe\">\n",
       "  <thead>\n",
       "    <tr style=\"text-align: right;\">\n",
       "      <th></th>\n",
       "      <th>Match Type</th>\n",
       "      <th>Count</th>\n",
       "      <th>Percentage</th>\n",
       "    </tr>\n",
       "  </thead>\n",
       "  <tbody>\n",
       "    <tr>\n",
       "      <th>0</th>\n",
       "      <td>Exact Match</td>\n",
       "      <td>10</td>\n",
       "      <td>45.45%</td>\n",
       "    </tr>\n",
       "    <tr>\n",
       "      <th>1</th>\n",
       "      <td>Total Side Match (Exact + Side-only)</td>\n",
       "      <td>16</td>\n",
       "      <td>72.73%</td>\n",
       "    </tr>\n",
       "    <tr>\n",
       "      <th>2</th>\n",
       "      <td>Incorrect Localization</td>\n",
       "      <td>6</td>\n",
       "      <td>27.27%</td>\n",
       "    </tr>\n",
       "  </tbody>\n",
       "</table>\n",
       "</div>"
      ],
      "text/plain": [
       "                             Match Type  Count Percentage\n",
       "0                           Exact Match     10     45.45%\n",
       "1  Total Side Match (Exact + Side-only)     16     72.73%\n",
       "2                Incorrect Localization      6     27.27%"
      ]
     },
     "metadata": {},
     "output_type": "display_data"
    }
   ],
   "source": [
    "# generate imaging side columns\n",
    "preop_imaging_df['4D CT Imaging Side'] = preop_imaging_df['4D CT Scan'].apply(extract_side)\n",
    "preop_imaging_df['Sestamibi Imaging Side'] = preop_imaging_df['Sestamibi'].apply(extract_side)\n",
    "preop_imaging_df['Surgical Side'] = preop_imaging_df['Surgical Findings'].apply(extract_side)\n",
    "\n",
    "# Filter for sestamibi non-localizing patients\n",
    "negative_sestamibi = preop_imaging_df[preop_imaging_df['Sestamibi'] == 'Non-localizing'].copy()\n",
    "\n",
    "# Of those, keep only cases with positive 4D CT\n",
    "sestamibi_neg_4d_pos = negative_sestamibi[negative_sestamibi['4D CT Imaging Side'].isin(['Left', 'Right'])].copy()\n",
    "\n",
    "# Summary Analysis\n",
    "total_cases = sestamibi_neg_4d_pos.shape[0]\n",
    "exact_count = sestamibi_neg_4d_pos[sestamibi_neg_4d_pos['4D CT Scan Calculated Concordance'] == 'Yes (Exact)'].shape[0]\n",
    "side_count = sestamibi_neg_4d_pos[sestamibi_neg_4d_pos['4D CT Scan Calculated Concordance'] == 'Yes (Side)'].shape[0]\n",
    "incorrect_count = sestamibi_neg_4d_pos[sestamibi_neg_4d_pos['4D CT Scan Calculated Concordance'] == 'Incorrect Localization'].shape[0]"
   ]
  },
  {
   "cell_type": "code",
   "execution_count": null,
   "id": "48c2bffd",
   "metadata": {},
   "outputs": [],
   "source": [
    "# Summary Analysis\n",
    "total_cases = sestamibi_neg_4d_pos.shape[0]\n",
    "exact_count = sestamibi_neg_4d_pos[sestamibi_neg_4d_pos['4D CT Scan Calculated Concordance'] == 'Yes (Exact)'].shape[0]\n",
    "side_count = sestamibi_neg_4d_pos[sestamibi_neg_4d_pos['4D CT Scan Calculated Concordance'] == 'Yes (Side)'].shape[0]\n",
    "incorrect_count = sestamibi_neg_4d_pos[sestamibi_neg_4d_pos['4D CT Scan Calculated Concordance'] == 'Incorrect Localization'].shape[0]\n",
    "\n",
    "# Calculating Percentages\n",
    "exact_pct = round((exact_count / total_cases) * 100, 2) if total_cases > 0 else None \n",
    "side_pct = round((side_count / total_cases) * 100, 2) if total_cases > 0 else None\n",
    "incorrect_pct = round((incorrect_count / total_cases) * 100, 2) if total_cases > 0 else None \n",
    "\n",
    "\n",
    "total_side_match_count = side_count + exact_count\n",
    "total_side_match_pct = round((total_side_match_count / total_cases) * 100, 2) if total_cases > 0 else None"
   ]
  },
  {
   "cell_type": "code",
   "execution_count": 6,
   "id": "f87263fc",
   "metadata": {},
   "outputs": [
    {
     "name": "stdout",
     "output_type": "stream",
     "text": [
      "Total Sestamibi-negative / 4D CT positive cases: 22\n"
     ]
    },
    {
     "data": {
      "text/html": [
       "<div>\n",
       "<style scoped>\n",
       "    .dataframe tbody tr th:only-of-type {\n",
       "        vertical-align: middle;\n",
       "    }\n",
       "\n",
       "    .dataframe tbody tr th {\n",
       "        vertical-align: top;\n",
       "    }\n",
       "\n",
       "    .dataframe thead th {\n",
       "        text-align: right;\n",
       "    }\n",
       "</style>\n",
       "<table border=\"1\" class=\"dataframe\">\n",
       "  <thead>\n",
       "    <tr style=\"text-align: right;\">\n",
       "      <th></th>\n",
       "      <th>Match Type</th>\n",
       "      <th>Count</th>\n",
       "      <th>Percentage</th>\n",
       "    </tr>\n",
       "  </thead>\n",
       "  <tbody>\n",
       "    <tr>\n",
       "      <th>0</th>\n",
       "      <td>Exact Match</td>\n",
       "      <td>10</td>\n",
       "      <td>45.45%</td>\n",
       "    </tr>\n",
       "    <tr>\n",
       "      <th>1</th>\n",
       "      <td>Total Side Match (Exact + Side-only)</td>\n",
       "      <td>16</td>\n",
       "      <td>72.73%</td>\n",
       "    </tr>\n",
       "    <tr>\n",
       "      <th>2</th>\n",
       "      <td>Incorrect Localization</td>\n",
       "      <td>6</td>\n",
       "      <td>27.27%</td>\n",
       "    </tr>\n",
       "  </tbody>\n",
       "</table>\n",
       "</div>"
      ],
      "text/plain": [
       "                             Match Type  Count Percentage\n",
       "0                           Exact Match     10     45.45%\n",
       "1  Total Side Match (Exact + Side-only)     16     72.73%\n",
       "2                Incorrect Localization      6     27.27%"
      ]
     },
     "metadata": {},
     "output_type": "display_data"
    }
   ],
   "source": [
    "\n",
    "sestamibi_neg_4d_pos_summary_df = pd.DataFrame({\n",
    "    'Match Type': [\n",
    "        'Exact Match',\n",
    "        'Total Side Match (Exact + Side-only)',\n",
    "        'Incorrect Localization'\n",
    "    ],\n",
    "    'Count': [\n",
    "        exact_count,\n",
    "        total_side_match_count,\n",
    "        incorrect_count\n",
    "    ],\n",
    "    'Percentage': [\n",
    "        f\"{exact_pct:.2f}%\" if exact_pct is not None else 'N/A',\n",
    "        f\"{total_side_match_pct:.2f}%\" if total_side_match_pct is not None else 'N/A',\n",
    "        f\"{incorrect_pct:.2f}%\" if incorrect_pct is not None else 'N/A'\n",
    "    ]\n",
    "})\n",
    "\n",
    "print(f\"Total Sestamibi-negative / 4D CT positive cases: {total_cases}\")\n",
    "display(sestamibi_neg_4d_pos_summary_df)\n"
   ]
  },
  {
   "cell_type": "code",
   "execution_count": null,
   "id": "daea7f90",
   "metadata": {},
   "outputs": [],
   "source": []
  }
 ],
 "metadata": {
  "kernelspec": {
   "display_name": "base",
   "language": "python",
   "name": "python3"
  },
  "language_info": {
   "codemirror_mode": {
    "name": "ipython",
    "version": 3
   },
   "file_extension": ".py",
   "mimetype": "text/x-python",
   "name": "python",
   "nbconvert_exporter": "python",
   "pygments_lexer": "ipython3",
   "version": "3.12.4"
  }
 },
 "nbformat": 4,
 "nbformat_minor": 5
}
