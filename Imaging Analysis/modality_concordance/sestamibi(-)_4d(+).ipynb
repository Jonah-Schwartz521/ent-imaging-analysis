{
 "cells": [
  {
   "cell_type": "markdown",
   "id": "70883539",
   "metadata": {},
   "source": [
    "## 4D CT Performance in Sestamibi-negative Patients\n",
    "\n",
    "This analysis evaluates cases where **Sestamibi scans were non-localizing but 4D CT scans were positive**, assessing 4D CT's added value in these challenging scenarios."
   ]
  },
  {
   "cell_type": "code",
   "execution_count": 5,
   "id": "f05c4de4",
   "metadata": {},
   "outputs": [],
   "source": [
    "import pandas as pd \n",
    "preop_imaging_df = pd.read_excel('../../Data/final_imaging_data.xlsx')"
   ]
  },
  {
   "cell_type": "code",
   "execution_count": 13,
   "id": "53dd7ada",
   "metadata": {},
   "outputs": [],
   "source": [
    "# Filter for sestamibi non-localizing patients\n",
    "negative_sestamibi = preop_imaging_df[preop_imaging_df['Sestamibi'] == 'Non-localizing'].copy()\n",
    "\n",
    "# Of those, keep only cases with positive 4D CT\n",
    "sestamibi_neg_4d_pos = negative_sestamibi[negative_sestamibi['4D CT Imaging Side'].isin(['Left', 'Right'])].copy()\n",
    "\n",
    "# Summary Analysis\n",
    "total_cases = sestamibi_neg_4d_pos.shape[0]\n",
    "exact_count = sestamibi_neg_4d_pos[sestamibi_neg_4d_pos['4D CT Scan Calculated Concordance'] == 'Yes (Exact)'].shape[0]\n",
    "side_count = sestamibi_neg_4d_pos[sestamibi_neg_4d_pos['4D CT Scan Calculated Concordance'] == 'Yes (Side)'].shape[0]\n",
    "incorrect_count = sestamibi_neg_4d_pos[sestamibi_neg_4d_pos['4D CT Scan Calculated Concordance'] == 'Incorrect Localization'].shape[0]"
   ]
  },
  {
   "cell_type": "code",
   "execution_count": 14,
   "id": "48c2bffd",
   "metadata": {},
   "outputs": [],
   "source": [
    "# Summary Analysis\n",
    "total_cases = sestamibi_neg_4d_pos.shape[0]\n",
    "exact_count = sestamibi_neg_4d_pos[sestamibi_neg_4d_pos['4D CT Scan Calculated Concordance'] == 'Yes (Exact)'].shape[0]\n",
    "side_count = sestamibi_neg_4d_pos[sestamibi_neg_4d_pos['4D CT Scan Calculated Concordance'] == 'Yes (Side)'].shape[0]\n",
    "partial_count = sestamibi_neg_4d_pos[sestamibi_neg_4d_pos['4D CT Scan Calculated Concordance'] == 'Yes (Partial)'].shape[0]\n",
    "incorrect_count = sestamibi_neg_4d_pos[sestamibi_neg_4d_pos['4D CT Scan Calculated Concordance'] == 'Incorrect Localization'].shape[0]\n",
    "\n",
    "# Calculating Percentages\n",
    "exact_pct = round((exact_count / total_cases) * 100, 2) if total_cases > 0 else None \n",
    "side_pct = round((side_count / total_cases) * 100, 2) if total_cases > 0 else None\n",
    "partial_pct = round((partial_count / total_cases) * 100, 2) if total_cases > 0 else None\n",
    "incorrect_pct = round((incorrect_count / total_cases) * 100, 2) if total_cases > 0 else None \n",
    "\n",
    "# Calculate total side match count and percentage (Exact + Side-only)\n",
    "total_side_match_count = side_count + exact_count\n",
    "total_side_match_pct = round((total_side_match_count / total_cases) * 100, 2) if total_cases > 0 else None"
   ]
  },
  {
   "cell_type": "code",
   "execution_count": 18,
   "id": "f87263fc",
   "metadata": {},
   "outputs": [
    {
     "name": "stdout",
     "output_type": "stream",
     "text": [
      "Total Sestamibi-negative / 4D CT positive cases: 22\n"
     ]
    },
    {
     "data": {
      "text/html": [
       "<div>\n",
       "<style scoped>\n",
       "    .dataframe tbody tr th:only-of-type {\n",
       "        vertical-align: middle;\n",
       "    }\n",
       "\n",
       "    .dataframe tbody tr th {\n",
       "        vertical-align: top;\n",
       "    }\n",
       "\n",
       "    .dataframe thead th {\n",
       "        text-align: right;\n",
       "    }\n",
       "</style>\n",
       "<table border=\"1\" class=\"dataframe\">\n",
       "  <thead>\n",
       "    <tr style=\"text-align: right;\">\n",
       "      <th></th>\n",
       "      <th>Match Type</th>\n",
       "      <th>Count</th>\n",
       "      <th>Percentage</th>\n",
       "    </tr>\n",
       "  </thead>\n",
       "  <tbody>\n",
       "    <tr>\n",
       "      <th>0</th>\n",
       "      <td>Exact Match</td>\n",
       "      <td>9</td>\n",
       "      <td>40.91%</td>\n",
       "    </tr>\n",
       "    <tr>\n",
       "      <th>1</th>\n",
       "      <td>Side Match</td>\n",
       "      <td>5</td>\n",
       "      <td>22.73%</td>\n",
       "    </tr>\n",
       "    <tr>\n",
       "      <th>2</th>\n",
       "      <td>Partial Match</td>\n",
       "      <td>2</td>\n",
       "      <td>9.09%</td>\n",
       "    </tr>\n",
       "    <tr>\n",
       "      <th>3</th>\n",
       "      <td>Incorrect Localization</td>\n",
       "      <td>6</td>\n",
       "      <td>27.27%</td>\n",
       "    </tr>\n",
       "  </tbody>\n",
       "</table>\n",
       "</div>"
      ],
      "text/plain": [
       "               Match Type  Count Percentage\n",
       "0             Exact Match      9     40.91%\n",
       "1              Side Match      5     22.73%\n",
       "2           Partial Match      2      9.09%\n",
       "3  Incorrect Localization      6     27.27%"
      ]
     },
     "metadata": {},
     "output_type": "display_data"
    }
   ],
   "source": [
    "sestamibi_neg_4d_pos_summary_df = pd.DataFrame({\n",
    "    'Match Type': [\n",
    "        'Exact Match',\n",
    "        'Side Match',\n",
    "        'Partial Match',\n",
    "        'Incorrect Localization'\n",
    "    ],\n",
    "    'Count': [\n",
    "        exact_count,\n",
    "        side_count,\n",
    "        partial_count,\n",
    "        incorrect_count\n",
    "    ],\n",
    "    'Percentage': [\n",
    "        f\"{exact_pct:.2f}%\" if exact_pct is not None else 'N/A',\n",
    "        f\"{side_pct:.2f}%\" if side_pct is not None else 'N/A',\n",
    "        f\"{partial_pct:.2f}%\" if partial_pct is not None else 'N/A',\n",
    "        f\"{incorrect_pct:.2f}%\" if incorrect_pct is not None else 'N/A',\n",
    "\n",
    "\n",
    "    ]\n",
    "})\n",
    "\n",
    "print(f\"Total Sestamibi-negative / 4D CT positive cases: {total_cases}\")\n",
    "display(sestamibi_neg_4d_pos_summary_df)\n",
    "\n"
   ]
  },
  {
   "cell_type": "code",
   "execution_count": null,
   "id": "827ec911",
   "metadata": {},
   "outputs": [],
   "source": []
  }
 ],
 "metadata": {
  "kernelspec": {
   "display_name": "base",
   "language": "python",
   "name": "python3"
  },
  "language_info": {
   "codemirror_mode": {
    "name": "ipython",
    "version": 3
   },
   "file_extension": ".py",
   "mimetype": "text/x-python",
   "name": "python",
   "nbconvert_exporter": "python",
   "pygments_lexer": "ipython3",
   "version": "3.12.4"
  }
 },
 "nbformat": 4,
 "nbformat_minor": 5
}
