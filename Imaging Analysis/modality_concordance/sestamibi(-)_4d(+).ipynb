{
 "cells": [
  {
   "cell_type": "code",
   "execution_count": 1,
   "id": "f05c4de4",
   "metadata": {},
   "outputs": [],
   "source": [
    "import pandas as pd \n",
    "preop_imaging_df = pd.read_excel('../../Data/side_concordance_results.xlsx')"
   ]
  },
  {
   "cell_type": "code",
   "execution_count": 2,
   "id": "4a1a203a",
   "metadata": {},
   "outputs": [],
   "source": [
    "def extract_side(location):\n",
    "    if pd.isnull(location):\n",
    "        return 'No Scan'\n",
    "    \n",
    "    if 'Left' in location:\n",
    "        return 'Left'\n",
    "    elif 'Right' in location:\n",
    "        return 'Right'\n",
    "    else:\n",
    "        return 'Unknown'"
   ]
  },
  {
   "cell_type": "code",
   "execution_count": 3,
   "id": "53dd7ada",
   "metadata": {},
   "outputs": [],
   "source": [
    "modality_sestamibi = 'Sestamibi'\n",
    "modality_4dct = '4D CT Scan'\n",
    "\n",
    "preop_imaging_df['4D CT Imaging Side'] = preop_imaging_df[modality_4dct].apply(extract_side)\n",
    "preop_imaging_df['Surgical Side'] = preop_imaging_df['Surgical_Findings'].apply(extract_side)\n",
    "\n",
    "negative_sestamibi = preop_imaging_df[preop_imaging_df[modality_sestamibi] == 'Non-localizing'].copy()\n",
    "\n",
    "sestamibi_neg_4d_pos = negative_sestamibi[negative_sestamibi['4D CT Imaging Side'].isin(['Left', 'Right'])]\n"
   ]
  },
  {
   "cell_type": "code",
   "execution_count": 4,
   "id": "5ecf723a",
   "metadata": {},
   "outputs": [],
   "source": [
    "def check_concordance(row):\n",
    "    imaging = row['4D CT Scan']\n",
    "    surgical = row['Surgical_Findings']\n",
    "    \n",
    "    if pd.isnull(imaging) or pd.isnull(surgical):\n",
    "        return 'Unknown'\n",
    "    imaging_glands = [g.strip() for g in imaging.split(',')]\n",
    "    surgical_glands = [g.strip() for g in surgical.split(',')]\n",
    "    \n",
    "    if any(sg in imaging_glands for sg in surgical_glands):\n",
    "        return 'Yes (Exact)'\n",
    "    \n",
    "    imaging_sides = []\n",
    "    for ig in imaging_glands:\n",
    "        if 'Left' in ig:\n",
    "            imaging_sides.append('Left')\n",
    "        if 'Right' in ig:\n",
    "            imaging_sides.append('Right')\n",
    "    \n",
    "    surgical_sides = []\n",
    "    for sg in surgical_glands:\n",
    "        if 'Left' in sg:\n",
    "            surgical_sides.append('Left')\n",
    "        if 'Right' in sg:\n",
    "            surgical_sides.append('Right')\n",
    "    \n",
    "    if any(side in surgical_sides for side in imaging_sides):\n",
    "        return 'Yes (Side)'\n",
    "    \n",
    "    return 'Incorrect Localization'\n",
    "\n",
    "    \n",
    "    "
   ]
  },
  {
   "cell_type": "code",
   "execution_count": 5,
   "id": "0d965bb9",
   "metadata": {},
   "outputs": [],
   "source": [
    "sestamibi_neg_4d_pos = sestamibi_neg_4d_pos.copy()\n",
    "sestamibi_neg_4d_pos['Calculated Concordance'] = sestamibi_neg_4d_pos.apply(check_concordance, axis=1)\n",
    "\n",
    "# total cases \n",
    "total_cases = sestamibi_neg_4d_pos.shape[0]"
   ]
  },
  {
   "cell_type": "code",
   "execution_count": 6,
   "id": "45ecd22f",
   "metadata": {},
   "outputs": [
    {
     "name": "stdout",
     "output_type": "stream",
     "text": [
      "Exact Count: 10\n",
      "Side Count: 6\n",
      "Incorrect Count: 6\n"
     ]
    }
   ],
   "source": [
    "exact_count = sestamibi_neg_4d_pos[sestamibi_neg_4d_pos['Calculated Concordance'] == 'Yes (Exact)'].shape[0]\n",
    "side_count = sestamibi_neg_4d_pos[sestamibi_neg_4d_pos['Calculated Concordance'] == 'Yes (Side)'].shape[0]\n",
    "incorrect_count = sestamibi_neg_4d_pos[sestamibi_neg_4d_pos['Calculated Concordance'] == 'Incorrect Localization'].shape[0]\n",
    "print(f'Exact Count: {exact_count}')\n",
    "print(f'Side Count: {side_count}')\n",
    "print(f'Incorrect Count: {incorrect_count}')"
   ]
  },
  {
   "cell_type": "code",
   "execution_count": 7,
   "id": "1f4e4370",
   "metadata": {},
   "outputs": [
    {
     "name": "stdout",
     "output_type": "stream",
     "text": [
      "Exact Percentage: 45.45\n",
      "Side Percentage: 27.27\n",
      "Incorrect Percentage: 27.27\n"
     ]
    }
   ],
   "source": [
    "exact_pct = round((exact_count / total_cases) * 100, 2) if total_cases > 0 else None \n",
    "side_pct = round((side_count / total_cases) * 100, 2) if total_cases > 0 else None\n",
    "incorrect_pct = round((incorrect_count / total_cases) * 100, 2) if total_cases > 0 else None \n",
    "print(f'Exact Percentage: {exact_pct}')\n",
    "print(f'Side Percentage: {side_pct}')\n",
    "print(f'Incorrect Percentage: {incorrect_pct}')"
   ]
  },
  {
   "cell_type": "code",
   "execution_count": 8,
   "id": "0819bdf4",
   "metadata": {},
   "outputs": [
    {
     "name": "stdout",
     "output_type": "stream",
     "text": [
      "Total Sestamibi negative / 4D CT positive cases: 22\n"
     ]
    },
    {
     "data": {
      "text/html": [
       "<div>\n",
       "<style scoped>\n",
       "    .dataframe tbody tr th:only-of-type {\n",
       "        vertical-align: middle;\n",
       "    }\n",
       "\n",
       "    .dataframe tbody tr th {\n",
       "        vertical-align: top;\n",
       "    }\n",
       "\n",
       "    .dataframe thead th {\n",
       "        text-align: right;\n",
       "    }\n",
       "</style>\n",
       "<table border=\"1\" class=\"dataframe\">\n",
       "  <thead>\n",
       "    <tr style=\"text-align: right;\">\n",
       "      <th></th>\n",
       "      <th>Match Type</th>\n",
       "      <th>Count</th>\n",
       "      <th>Percentage</th>\n",
       "    </tr>\n",
       "  </thead>\n",
       "  <tbody>\n",
       "    <tr>\n",
       "      <th>0</th>\n",
       "      <td>Exact Match</td>\n",
       "      <td>10</td>\n",
       "      <td>45.45%</td>\n",
       "    </tr>\n",
       "    <tr>\n",
       "      <th>1</th>\n",
       "      <td>Total Side Match (Exact + Side-only)</td>\n",
       "      <td>16</td>\n",
       "      <td>72.73%</td>\n",
       "    </tr>\n",
       "    <tr>\n",
       "      <th>2</th>\n",
       "      <td>Incorect Localization</td>\n",
       "      <td>6</td>\n",
       "      <td>27.27%</td>\n",
       "    </tr>\n",
       "  </tbody>\n",
       "</table>\n",
       "</div>"
      ],
      "text/plain": [
       "                             Match Type  Count Percentage\n",
       "0                           Exact Match     10     45.45%\n",
       "1  Total Side Match (Exact + Side-only)     16     72.73%\n",
       "2                 Incorect Localization      6     27.27%"
      ]
     },
     "metadata": {},
     "output_type": "display_data"
    }
   ],
   "source": [
    "total_side_match_count = side_count + exact_count\n",
    "total_side_match_pct = (total_side_match_count / total_cases) * 100 if total_cases > 0 else None\n",
    "\n",
    "sestamibi_neg_4d_pos_summary_df = pd.DataFrame({\n",
    "    'Match Type': [\n",
    "        'Exact Match',\n",
    "        'Total Side Match (Exact + Side-only)',\n",
    "        'Incorect Localization'\n",
    "    ],\n",
    "    'Count': [\n",
    "        exact_count,\n",
    "        total_side_match_count,\n",
    "        incorrect_count\n",
    "    ],\n",
    "    'Percentage': [\n",
    "        f\"{exact_pct:.2f}%\" if exact_pct is not None else 'N/A',\n",
    "        f\"{total_side_match_pct:.2f}%\" if total_side_match_pct is not None else 'N/A',\n",
    "        f\"{incorrect_pct:.2f}%\" if incorrect_pct is not None else 'N/A'\n",
    "\n",
    "    ]\n",
    "     \n",
    "})\n",
    "print(f\"Total Sestamibi negative / 4D CT positive cases: {total_cases}\")\n",
    "display(sestamibi_neg_4d_pos_summary_df)"
   ]
  },
  {
   "cell_type": "code",
   "execution_count": 9,
   "id": "59824da3",
   "metadata": {},
   "outputs": [
    {
     "data": {
      "text/plain": [
       "Surgical_Findings\n",
       "Left Superior                    5\n",
       "Right Superior                   5\n",
       "Right Inferior                   4\n",
       "Left Inferior                    3\n",
       "4 Gland Hyperplasia              2\n",
       "Left, Right Superior             1\n",
       "No Tumor Identified              1\n",
       "Left Superior, Right Superior    1\n",
       "Name: count, dtype: int64"
      ]
     },
     "execution_count": 9,
     "metadata": {},
     "output_type": "execute_result"
    }
   ],
   "source": [
    "sestamibi_neg_4d_pos['Surgical_Findings'].value_counts()"
   ]
  }
 ],
 "metadata": {
  "kernelspec": {
   "display_name": "base",
   "language": "python",
   "name": "python3"
  },
  "language_info": {
   "codemirror_mode": {
    "name": "ipython",
    "version": 3
   },
   "file_extension": ".py",
   "mimetype": "text/x-python",
   "name": "python",
   "nbconvert_exporter": "python",
   "pygments_lexer": "ipython3",
   "version": "3.12.4"
  }
 },
 "nbformat": 4,
 "nbformat_minor": 5
}
