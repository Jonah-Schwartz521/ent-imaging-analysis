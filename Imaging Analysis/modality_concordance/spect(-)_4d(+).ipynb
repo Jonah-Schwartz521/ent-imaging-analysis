{
 "cells": [
  {
   "cell_type": "markdown",
   "id": "5d5ce4f4",
   "metadata": {},
   "source": [
    "## 4D CT Performance in SPECT/CT-negative Patients\n",
    "\n",
    "This section analyzes patients whose **SPECT/CT scans were non-localizing** but **4D CT scans localized pathology**, evaluating the distribution of concordance outcomes.\n",
    "\n",
    "The table below summarizes the **counts and percentages** for each match category among these SPECT-negative, 4D CT-positive cases."
   ]
  },
  {
   "cell_type": "code",
   "execution_count": 1,
   "id": "bab4ccaf",
   "metadata": {},
   "outputs": [],
   "source": [
    "import pandas as pd \n",
    "preop_imaging_df = pd.read_excel('../../Data/final_imaging_data.xlsx')"
   ]
  },
  {
   "cell_type": "code",
   "execution_count": null,
   "id": "2985140e",
   "metadata": {},
   "outputs": [],
   "source": [
    "# Define modalities\n",
    "spect_modality = 'SPECT/CT'\n",
    "modality_4dct = '4D CT Scan'\n",
    "\n",
    "# Filter for SPECT non-localizing cases\n",
    "negative_spect = preop_imaging_df[preop_imaging_df[spect_modality] == 'Non-localizing'].copy()\n",
    "\n",
    "# Filter for those with positive 4D CT localization (Left or Right side)\n",
    "spect_neg_4d_pos = negative_spect[\n",
    "    negative_spect['4D CT Imaging Side'].isin(['Left', 'Right'])\n",
    "].copy()\n",
    "\n",
    "# Calculate counts after creating the column\n",
    "exact_count = (spect_neg_4d_pos['4D CT Scan Calculated Concordance'] == 'Yes (Exact)').sum()\n",
    "# ... rest of count calculations remain unchanged"
   ]
  },
  {
   "cell_type": "code",
   "execution_count": 3,
   "id": "2e7f5e6a",
   "metadata": {},
   "outputs": [],
   "source": [
    "# Calculate counts for match types\n",
    "total_cases = spect_neg_4d_pos.shape[0]\n",
    "exact_count = (spect_neg_4d_pos['4D CT Scan Calculated Concordance'] == 'Yes (Exact)').sum()\n",
    "side_count = (spect_neg_4d_pos['4D CT Scan Calculated Concordance'] == 'Yes (Side)').sum()\n",
    "partial_count = (spect_neg_4d_pos['4D CT Scan Calculated Concordance'] == 'Yes (Partial)').sum()\n",
    "incorrect_count = (spect_neg_4d_pos['4D CT Scan Calculated Concordance'] == 'Incorrect Localization').sum()\n",
    "\n",
    "# Calculate percentages\n",
    "exact_pct = (exact_count / total_cases * 100) if total_cases > 0 else None\n",
    "side_pct = (side_count / total_cases * 100) if total_cases > 0 else None\n",
    "partial_pct = (partial_count / total_cases * 100) if total_cases > 0 else None\n",
    "incorrect_pct = (incorrect_count / total_cases * 100) if total_cases > 0 else None\n",
    "\n",
    "# # Calculate combined side match\n",
    "# total_side_match_count = exact_count + side_count\n",
    "# total_side_match_pct = (total_side_match_count / total_cases * 100) if total_cases > 0 else None\n"
   ]
  },
  {
   "cell_type": "code",
   "execution_count": 4,
   "id": "90ef4fa4",
   "metadata": {},
   "outputs": [
    {
     "name": "stdout",
     "output_type": "stream",
     "text": [
      "Total SPECT-negative / 4D CT-positive cases: 31\n"
     ]
    },
    {
     "data": {
      "text/html": [
       "<div>\n",
       "<style scoped>\n",
       "    .dataframe tbody tr th:only-of-type {\n",
       "        vertical-align: middle;\n",
       "    }\n",
       "\n",
       "    .dataframe tbody tr th {\n",
       "        vertical-align: top;\n",
       "    }\n",
       "\n",
       "    .dataframe thead th {\n",
       "        text-align: right;\n",
       "    }\n",
       "</style>\n",
       "<table border=\"1\" class=\"dataframe\">\n",
       "  <thead>\n",
       "    <tr style=\"text-align: right;\">\n",
       "      <th></th>\n",
       "      <th>Match Type</th>\n",
       "      <th>Count</th>\n",
       "      <th>Percentage</th>\n",
       "    </tr>\n",
       "  </thead>\n",
       "  <tbody>\n",
       "    <tr>\n",
       "      <th>0</th>\n",
       "      <td>Exact Match</td>\n",
       "      <td>15</td>\n",
       "      <td>48.39%</td>\n",
       "    </tr>\n",
       "    <tr>\n",
       "      <th>1</th>\n",
       "      <td>Side Match</td>\n",
       "      <td>4</td>\n",
       "      <td>12.90%</td>\n",
       "    </tr>\n",
       "    <tr>\n",
       "      <th>2</th>\n",
       "      <td>Partial Match</td>\n",
       "      <td>1</td>\n",
       "      <td>3.23%</td>\n",
       "    </tr>\n",
       "    <tr>\n",
       "      <th>3</th>\n",
       "      <td>Incorrect Localization</td>\n",
       "      <td>11</td>\n",
       "      <td>35.48%</td>\n",
       "    </tr>\n",
       "  </tbody>\n",
       "</table>\n",
       "</div>"
      ],
      "text/plain": [
       "               Match Type  Count Percentage\n",
       "0             Exact Match     15     48.39%\n",
       "1              Side Match      4     12.90%\n",
       "2           Partial Match      1      3.23%\n",
       "3  Incorrect Localization     11     35.48%"
      ]
     },
     "metadata": {},
     "output_type": "display_data"
    }
   ],
   "source": [
    "# Create clean final summary dataframe\n",
    "spect_neg_4d_pos_summary_df = pd.DataFrame({\n",
    "    'Match Type': [\n",
    "        'Exact Match',\n",
    "        'Side Match',\n",
    "        'Partial Match',\n",
    "        'Incorrect Localization'\n",
    "    ],\n",
    "    'Count': [\n",
    "        exact_count,\n",
    "        side_count,\n",
    "        partial_count,\n",
    "        incorrect_count\n",
    "    ],\n",
    "    'Percentage': [\n",
    "        f\"{exact_pct:.2f}%\" if exact_pct is not None else 'N/A',\n",
    "        f\"{side_pct:.2f}%\" if side_pct is not None else 'N/A',\n",
    "        f\"{partial_pct:.2f}%\" if partial_pct is not None else 'N/A',\n",
    "        f\"{incorrect_pct:.2f}%\" if incorrect_pct is not None else 'N/A'\n",
    "    ]\n",
    "})\n",
    "\n",
    "# Display results\n",
    "print(f\"Total SPECT-negative / 4D CT-positive cases: {total_cases}\")\n",
    "display(spect_neg_4d_pos_summary_df)"
   ]
  },
  {
   "cell_type": "code",
   "execution_count": null,
   "id": "76043a56",
   "metadata": {},
   "outputs": [],
   "source": []
  }
 ],
 "metadata": {
  "kernelspec": {
   "display_name": "base",
   "language": "python",
   "name": "python3"
  },
  "language_info": {
   "codemirror_mode": {
    "name": "ipython",
    "version": 3
   },
   "file_extension": ".py",
   "mimetype": "text/x-python",
   "name": "python",
   "nbconvert_exporter": "python",
   "pygments_lexer": "ipython3",
   "version": "3.12.4"
  }
 },
 "nbformat": 4,
 "nbformat_minor": 5
}
