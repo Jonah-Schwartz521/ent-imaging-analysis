{
 "cells": [
  {
   "cell_type": "markdown",
   "id": "6edac5fa",
   "metadata": {},
   "source": [
    "# Surgical Cure in Cases with Both Sestamibi and 4D CT Non-localizing\n",
    "\n",
    "This analysis identifies patients whose **Sestamibi and 4D CT scans were both non-localizing**, but who were successfully cured surgically.\n",
    "\n",
    "The table below summarizes:\n",
    "\n",
    "- The total number of such cases  \n",
    "- The number of patients cured  \n",
    "- The cure rate within this group"
   ]
  },
  {
   "cell_type": "code",
   "execution_count": 1,
   "id": "d44177dd",
   "metadata": {},
   "outputs": [],
   "source": [
    "import pandas as pd\n",
    "preop_imaging_df = pd.read_excel('../../Data/final_imaging_data.xlsx')"
   ]
  },
  {
   "cell_type": "code",
   "execution_count": 2,
   "id": "2a851ca6",
   "metadata": {},
   "outputs": [
    {
     "name": "stdout",
     "output_type": "stream",
     "text": [
      "18 cases (100.00%) had both modalities non-localizing but were cured in surgery.\n"
     ]
    },
    {
     "data": {
      "text/html": [
       "<div>\n",
       "<style scoped>\n",
       "    .dataframe tbody tr th:only-of-type {\n",
       "        vertical-align: middle;\n",
       "    }\n",
       "\n",
       "    .dataframe tbody tr th {\n",
       "        vertical-align: top;\n",
       "    }\n",
       "\n",
       "    .dataframe thead th {\n",
       "        text-align: right;\n",
       "    }\n",
       "</style>\n",
       "<table border=\"1\" class=\"dataframe\">\n",
       "  <thead>\n",
       "    <tr style=\"text-align: right;\">\n",
       "      <th></th>\n",
       "      <th>Metric</th>\n",
       "      <th>Count</th>\n",
       "    </tr>\n",
       "  </thead>\n",
       "  <tbody>\n",
       "    <tr>\n",
       "      <th>0</th>\n",
       "      <td>Total cases with both modalities non-localizing</td>\n",
       "      <td>18</td>\n",
       "    </tr>\n",
       "    <tr>\n",
       "      <th>1</th>\n",
       "      <td>Cases cured in surgery</td>\n",
       "      <td>18</td>\n",
       "    </tr>\n",
       "    <tr>\n",
       "      <th>2</th>\n",
       "      <td>Percent cured within both-negative cases</td>\n",
       "      <td>100.00%</td>\n",
       "    </tr>\n",
       "  </tbody>\n",
       "</table>\n",
       "</div>"
      ],
      "text/plain": [
       "                                            Metric    Count\n",
       "0  Total cases with both modalities non-localizing       18\n",
       "1                           Cases cured in surgery       18\n",
       "2         Percent cured within both-negative cases  100.00%"
      ]
     },
     "metadata": {},
     "output_type": "display_data"
    }
   ],
   "source": [
    "# Filter dataframe to patients where both Sestamibi and 4D CT Scan were non-localizing\n",
    "negative_sestamibi_and_4d = preop_imaging_df[\n",
    "    (preop_imaging_df['Sestamibi'] == 'Non-localizing') &\n",
    "    (preop_imaging_df['4D CT Scan'] == 'Non-localizing')\n",
    "]\n",
    "# Calculate total number of such cases\n",
    "total_cases = negative_sestamibi_and_4d.shape[0]\n",
    "\n",
    "# Calculate how many of these patients were cured surgically\n",
    "total_surgical_cure = negative_sestamibi_and_4d[negative_sestamibi_and_4d['Surgical Cure'] == 'Yes'].shape[0]\n",
    "\n",
    "# Calculate percentage cured among both-negative cases\n",
    "percentage = (total_surgical_cure / total_cases) * 100 \n",
    "\n",
    "\n",
    "print(f\"{total_cases} cases ({percentage:.2f}%) had both modalities non-localizing but were cured in surgery.\")\n",
    "\n",
    "# Create summary dataframe for display\n",
    "negative_sestamibi_4d_summary_df = pd.DataFrame({\n",
    "    'Metric': [\n",
    "        'Total cases with both modalities non-localizing',\n",
    "        'Cases cured in surgery',\n",
    "        'Percent cured within both-negative cases'\n",
    "    ],\n",
    "    'Count': [\n",
    "        total_cases,\n",
    "        total_surgical_cure,\n",
    "        f\"{percentage:.2f}%\"\n",
    "    ]\n",
    "})\n",
    "display(negative_sestamibi_4d_summary_df)"
   ]
  },
  {
   "cell_type": "code",
   "execution_count": null,
   "id": "b6563e9c",
   "metadata": {},
   "outputs": [],
   "source": []
  }
 ],
 "metadata": {
  "kernelspec": {
   "display_name": "base",
   "language": "python",
   "name": "python3"
  },
  "language_info": {
   "codemirror_mode": {
    "name": "ipython",
    "version": 3
   },
   "file_extension": ".py",
   "mimetype": "text/x-python",
   "name": "python",
   "nbconvert_exporter": "python",
   "pygments_lexer": "ipython3",
   "version": "3.12.4"
  }
 },
 "nbformat": 4,
 "nbformat_minor": 5
}
