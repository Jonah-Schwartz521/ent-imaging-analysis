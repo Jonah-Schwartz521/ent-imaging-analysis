{
 "cells": [
  {
   "cell_type": "code",
   "execution_count": 2,
   "id": "ccc9f9ea",
   "metadata": {},
   "outputs": [],
   "source": [
    "import pandas as pd \n",
    "preop_imaging_df = pd.read_excel('../../Data/side_concordance_results.xlsx')"
   ]
  },
  {
   "cell_type": "code",
   "execution_count": 7,
   "id": "9f3c193c",
   "metadata": {},
   "outputs": [],
   "source": [
    "def extract_side(location):\n",
    "    if pd.isnull(location):\n",
    "        return 'No Scan'\n",
    "    \n",
    "    if 'Left' in location:\n",
    "        return 'Left'\n",
    "    elif 'Right' in location:\n",
    "        return 'Right'\n",
    "    else:\n",
    "        return 'Unknown'\n",
    "    \n",
    "    preop_imaging_df['Surgical Side'] = preop_imaging_df['Surgical_Findings'].apply(extract_side)"
   ]
  },
  {
   "cell_type": "code",
   "execution_count": 8,
   "id": "749285c4",
   "metadata": {},
   "outputs": [
    {
     "data": {
      "text/plain": [
       "0    Sestamibi: Right Inferior\n",
       "1               Non-localizing\n",
       "2     Sestamibi: Left Inferior\n",
       "3     Sestamibi: Left Inferior\n",
       "4              Sestamibi: Left\n",
       "Name: SPECT/CT-Sestamibi, dtype: object"
      ]
     },
     "execution_count": 8,
     "metadata": {},
     "output_type": "execute_result"
    }
   ],
   "source": [
    "def check_spect_sestamibi(row):\n",
    "    spect = row['SPECT/CT']\n",
    "    sestamibi = row['Sestamibi']\n",
    "    \n",
    "    spect_localizing = pd.notnull(spect) and spect not in ['No Scan', 'Non-localizing']\n",
    "    sestamibi_localizing = pd.notnull(sestamibi) and sestamibi not in ['No Scan', 'Non-localizing']\n",
    "    \n",
    "    if not pd.notnull(spect) and not pd.notnull(sestamibi):\n",
    "        return 'No SPECT/CT or Sestamibi Recorded'\n",
    "    elif spect_localizing and sestamibi_localizing:\n",
    "        return f\"SPECT: {spect} | Sestamibi: {sestamibi}\"\n",
    "    elif spect_localizing:\n",
    "        return f'SPECT/CT: {spect}'\n",
    "    elif sestamibi_localizing:\n",
    "        return f'Sestamibi: {sestamibi}'\n",
    "    else:\n",
    "        return 'Non-localizing'\n",
    "    \n",
    "preop_imaging_df['SPECT/CT-Sestamibi'] = preop_imaging_df.apply(check_spect_sestamibi, axis=1)\n",
    "preop_imaging_df['SPECT/CT-Sestamibi'].head()"
   ]
  },
  {
   "cell_type": "code",
   "execution_count": 9,
   "id": "c86fedfe",
   "metadata": {},
   "outputs": [],
   "source": [
    "def check_concordance(row):\n",
    "    imaging = row['SPECT/CT-Sestamibi']\n",
    "    surgical = row['Surgical_Findings']\n",
    "    \n",
    "    if pd.isnull(imaging) or pd.isnull(surgical):\n",
    "        return 'Unknown'\n",
    "    imaging_glands = [g.strip() for g in imaging.split(',')]\n",
    "    surgical_glands = [g.strip() for g in surgical.split(',')]\n",
    "    \n",
    "    if any(sg in imaging_glands for sg in surgical_glands):\n",
    "        return 'Yes (Exact)'\n",
    "    \n",
    "    imaging_sides = []\n",
    "    for ig in imaging_glands:\n",
    "        if 'Left' in ig:\n",
    "            imaging_sides.append('Left')\n",
    "        if 'Right' in ig:\n",
    "            imaging_sides.append('Right')\n",
    "    \n",
    "    surgical_sides = []\n",
    "    for sg in surgical_glands:\n",
    "        if 'Left' in sg:\n",
    "            surgical_sides.append('Left')\n",
    "        if 'Right' in sg:\n",
    "            surgical_sides.append('Right')\n",
    "    \n",
    "    if any(side in surgical_sides for side in imaging_sides):\n",
    "        return 'Yes (Side)'\n",
    "    \n",
    "    return 'Incorrect Localization'\n"
   ]
  },
  {
   "cell_type": "code",
   "execution_count": 10,
   "id": "d0b4c62c",
   "metadata": {},
   "outputs": [
    {
     "data": {
      "text/plain": [
       "285"
      ]
     },
     "execution_count": 10,
     "metadata": {},
     "output_type": "execute_result"
    }
   ],
   "source": [
    "modality_spectmibi = 'SPECT/CT-Sestamibi'\n",
    "\n",
    "# Apply extract_side function\n",
    "preop_imaging_df['SPECT/CT-Sestamibi Imaging Side'] = preop_imaging_df[modality_spectmibi].apply(extract_side)\n",
    "\n",
    "\n",
    "# Filter to scans that localized anywhere (Left, Right)\n",
    "localized_spectmibi = preop_imaging_df[preop_imaging_df['SPECT/CT-Sestamibi Imaging Side'].isin(['Left', 'Right'])]\n",
    "\n",
    "# Count total localized scans\n",
    "total_localized_spectmibi = localized_spectmibi.shape[0]\n",
    "\n",
    "total_localized_spectmibi"
   ]
  },
  {
   "cell_type": "code",
   "execution_count": null,
   "id": "dbb89c7d",
   "metadata": {},
   "outputs": [
    {
     "data": {
      "text/plain": [
       "255"
      ]
     },
     "execution_count": 16,
     "metadata": {},
     "output_type": "execute_result"
    }
   ],
   "source": [
    "\n",
    "# Compare sides to see if there is at least a side match\n",
    "\n",
    "localized_spectmibi = localized_spectmibi.copy()\n",
    "\n",
    "# Filter to only rows in localized_4dct for side match calculation\n",
    "localized_spectmibi['Side Match'] = localized_spectmibi['SPECT/CT-Sestamibi Imaging Side'] == localized_spectmibi['Surgical Side']\n",
    "\n",
    "\n"
   ]
  },
  {
   "cell_type": "code",
   "execution_count": null,
   "id": "1ca739cf",
   "metadata": {},
   "outputs": [],
   "source": [
    "# Count how many matched on side (including exact matches)\n",
    "side_match_count_spectmibi = localized_spectmibi['Side Match'].sum()\n",
    "\n",
    "# Calculate percentage of scans that correlated with surgery (side match or exact match both count as a win here)\n",
    "side_concordance_percentage_spectmibi = (side_match_count_spectmibi / total_localized_spectmibi) * 100 if total_localized_spectmibi > 0 else None\n"
   ]
  },
  {
   "cell_type": "code",
   "execution_count": 19,
   "id": "fd518930",
   "metadata": {},
   "outputs": [
    {
     "data": {
      "text/html": [
       "<div>\n",
       "<style scoped>\n",
       "    .dataframe tbody tr th:only-of-type {\n",
       "        vertical-align: middle;\n",
       "    }\n",
       "\n",
       "    .dataframe tbody tr th {\n",
       "        vertical-align: top;\n",
       "    }\n",
       "\n",
       "    .dataframe thead th {\n",
       "        text-align: right;\n",
       "    }\n",
       "</style>\n",
       "<table border=\"1\" class=\"dataframe\">\n",
       "  <thead>\n",
       "    <tr style=\"text-align: right;\">\n",
       "      <th></th>\n",
       "      <th>Metric</th>\n",
       "      <th>Value</th>\n",
       "    </tr>\n",
       "  </thead>\n",
       "  <tbody>\n",
       "    <tr>\n",
       "      <th>0</th>\n",
       "      <td>Total SPECT CT + Sestamibi scans with localiza...</td>\n",
       "      <td>285</td>\n",
       "    </tr>\n",
       "    <tr>\n",
       "      <th>1</th>\n",
       "      <td>Scans matching surgical side or exact gland</td>\n",
       "      <td>255 (89.47%)</td>\n",
       "    </tr>\n",
       "  </tbody>\n",
       "</table>\n",
       "</div>"
      ],
      "text/plain": [
       "                                              Metric         Value\n",
       "0  Total SPECT CT + Sestamibi scans with localiza...           285\n",
       "1        Scans matching surgical side or exact gland  255 (89.47%)"
      ]
     },
     "metadata": {},
     "output_type": "display_data"
    }
   ],
   "source": [
    "# Create a results dataframe for clean display\n",
    "side_concordance_spectmibi_df = pd.DataFrame({\n",
    "    'Metric': [\n",
    "        'Total SPECT CT + Sestamibi scans with localization',\n",
    "        'Scans matching surgical side or exact gland'\n",
    "    ],\n",
    "    'Value': [\n",
    "        total_localized_spectmibi,\n",
    "        f\"{side_match_count_spectmibi} ({side_concordance_percentage_spectmibi:.2f}%)\"\n",
    "    ]\n",
    "})\n",
    "\n",
    "# Display the dataframe\n",
    "display(side_concordance_spectmibi_df)"
   ]
  },
  {
   "cell_type": "code",
   "execution_count": null,
   "id": "24e665b9",
   "metadata": {},
   "outputs": [],
   "source": []
  },
  {
   "cell_type": "markdown",
   "id": "71096c68",
   "metadata": {},
   "source": []
  }
 ],
 "metadata": {
  "kernelspec": {
   "display_name": "base",
   "language": "python",
   "name": "python3"
  },
  "language_info": {
   "codemirror_mode": {
    "name": "ipython",
    "version": 3
   },
   "file_extension": ".py",
   "mimetype": "text/x-python",
   "name": "python",
   "nbconvert_exporter": "python",
   "pygments_lexer": "ipython3",
   "version": "3.12.4"
  }
 },
 "nbformat": 4,
 "nbformat_minor": 5
}
