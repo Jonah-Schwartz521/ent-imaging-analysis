{
 "cells": [
  {
   "cell_type": "markdown",
   "id": "f28c11cc",
   "metadata": {},
   "source": [
    "# Concordance Analysis: Positive SPECT/CT + Sestamibi Scans\n",
    "\n",
    "### Objective\n",
    "\n",
    "Assess **localization concordance with surgical findings** for patients with **positive SPECT/CT + Sestamibi scans**.\n",
    "\n",
    "### Data Source\n",
    "\n",
    "- `side_concordance_results.xlsx` (pre-operative imaging results and surgical outcomes)\n",
    "\n",
    "### Outputs\n",
    "\n",
    "- **Total scans with localization:** 285\n",
    "- **Scans matching surgical side or exact gland:** 270 (**94.7%**)\n",
    "---"
   ]
  },
  {
   "cell_type": "code",
   "execution_count": 7,
   "id": "ccc9f9ea",
   "metadata": {},
   "outputs": [],
   "source": [
    "import pandas as pd \n",
    "preop_imaging_df = pd.read_excel('../../Data/side_concordance_results.xlsx')"
   ]
  },
  {
   "cell_type": "code",
   "execution_count": 8,
   "id": "9f3c193c",
   "metadata": {},
   "outputs": [],
   "source": [
    "def extract_side(location):\n",
    "    if pd.isnull(location):\n",
    "        return 'No Scan'\n",
    "    \n",
    "    if 'Left' in location:\n",
    "        return 'Left'\n",
    "    elif 'Right' in location:\n",
    "        return 'Right'\n",
    "    else:\n",
    "        return 'Unknown'\n",
    "    \n",
    "preop_imaging_df['Surgical Side'] = preop_imaging_df['Surgical_Findings'].apply(extract_side)"
   ]
  },
  {
   "cell_type": "code",
   "execution_count": 9,
   "id": "749285c4",
   "metadata": {},
   "outputs": [
    {
     "data": {
      "text/plain": [
       "0    Sestamibi: Right Inferior\n",
       "1               Non-localizing\n",
       "2     Sestamibi: Left Inferior\n",
       "3     Sestamibi: Left Inferior\n",
       "4              Sestamibi: Left\n",
       "Name: SPECT/CT-Sestamibi, dtype: object"
      ]
     },
     "execution_count": 9,
     "metadata": {},
     "output_type": "execute_result"
    }
   ],
   "source": [
    "def check_spect_sestamibi(row):\n",
    "    spect = row['SPECT/CT']\n",
    "    sestamibi = row['Sestamibi']\n",
    "    \n",
    "    spect_localizing = pd.notnull(spect) and spect not in ['No Scan', 'Non-localizing']\n",
    "    sestamibi_localizing = pd.notnull(sestamibi) and sestamibi not in ['No Scan', 'Non-localizing']\n",
    "    \n",
    "    if not pd.notnull(spect) and not pd.notnull(sestamibi):\n",
    "        return 'No SPECT/CT or Sestamibi Recorded'\n",
    "    elif spect_localizing and sestamibi_localizing:\n",
    "        return f\"SPECT: {spect} | Sestamibi: {sestamibi}\"\n",
    "    elif spect_localizing:\n",
    "        return f'SPECT/CT: {spect}'\n",
    "    elif sestamibi_localizing:\n",
    "        return f'Sestamibi: {sestamibi}'\n",
    "    else:\n",
    "        return 'Non-localizing'\n",
    "    \n",
    "preop_imaging_df['SPECT/CT-Sestamibi'] = preop_imaging_df.apply(check_spect_sestamibi, axis=1)\n",
    "preop_imaging_df['SPECT/CT-Sestamibi'].head()"
   ]
  },
  {
   "cell_type": "code",
   "execution_count": 10,
   "id": "c86fedfe",
   "metadata": {},
   "outputs": [],
   "source": [
    "def check_concordance(row, modality_col):\n",
    "    imaging = row[modality_col]\n",
    "    surgical = row['Surgical_Findings']\n",
    "    \n",
    "    if pd.isnull(imaging) or pd.isnull(surgical):\n",
    "        return 'Unknown'\n",
    "    \n",
    "    imaging_glands = [g.strip() for g in imaging.split(',')]\n",
    "    surgical_glands = [g.strip() for g in surgical.split(',')]\n",
    "    \n",
    "    # Exact gland match\n",
    "    if any(sg in imaging_glands for sg in surgical_glands):\n",
    "        return 'Yes (Exact)'\n",
    "    \n",
    "    # Side match\n",
    "    imaging_sides = []\n",
    "    for ig in imaging_glands:\n",
    "        if 'Left' in ig:\n",
    "            imaging_sides.append('Left')\n",
    "        if 'Right' in ig:\n",
    "            imaging_sides.append('Right')\n",
    "    \n",
    "    surgical_sides = []\n",
    "    for sg in surgical_glands:\n",
    "        if 'Left' in sg:\n",
    "            surgical_sides.append('Left')\n",
    "        if 'Right' in sg:\n",
    "            surgical_sides.append('Right')\n",
    "    \n",
    "    if any(side in surgical_sides for side in imaging_sides):\n",
    "        return 'Yes (Side)'\n",
    "    \n",
    "    return 'Incorrect Localization'"
   ]
  },
  {
   "cell_type": "code",
   "execution_count": 11,
   "id": "d0b4c62c",
   "metadata": {},
   "outputs": [],
   "source": [
    "# Define modality\n",
    "modality = 'SPECT/CT-Sestamibi'\n",
    "imaging_side_col = 'SPECT/CT-Sestamibi Imaging Side'\n",
    "\n",
    "# Apply extract_side function\n",
    "preop_imaging_df[imaging_side_col] = preop_imaging_df[modality].apply(extract_side)\n",
    "\n",
    "# Filter to scans that localized (Left or Right)\n",
    "localized_spectmibi = preop_imaging_df[preop_imaging_df[imaging_side_col].isin(['Left', 'Right'])].copy()\n",
    "total_localized_spectmibi = localized_spectmibi.shape[0]\n"
   ]
  },
  {
   "cell_type": "code",
   "execution_count": 12,
   "id": "dbb89c7d",
   "metadata": {},
   "outputs": [],
   "source": [
    "# Extract surgical side if not already done\n",
    "if 'Surgical Side' not in preop_imaging_df.columns:\n",
    "    preop_imaging_df['Surgical Side'] = preop_imaging_df['Surgical_Findings'].apply(extract_side)\n",
    "\n",
    "# Apply generalized check_concordance function\n",
    "localized_spectmibi['Calculated Concordance'] = localized_spectmibi.apply(\n",
    "    lambda row: check_concordance(row, modality), axis=1\n",
    ")\n",
    "    "
   ]
  },
  {
   "cell_type": "code",
   "execution_count": 13,
   "id": "1ca739cf",
   "metadata": {},
   "outputs": [
    {
     "data": {
      "text/html": [
       "<div>\n",
       "<style scoped>\n",
       "    .dataframe tbody tr th:only-of-type {\n",
       "        vertical-align: middle;\n",
       "    }\n",
       "\n",
       "    .dataframe tbody tr th {\n",
       "        vertical-align: top;\n",
       "    }\n",
       "\n",
       "    .dataframe thead th {\n",
       "        text-align: right;\n",
       "    }\n",
       "</style>\n",
       "<table border=\"1\" class=\"dataframe\">\n",
       "  <thead>\n",
       "    <tr style=\"text-align: right;\">\n",
       "      <th></th>\n",
       "      <th>Metric</th>\n",
       "      <th>Value</th>\n",
       "    </tr>\n",
       "  </thead>\n",
       "  <tbody>\n",
       "    <tr>\n",
       "      <th>0</th>\n",
       "      <td>Total SPECT/CT-Sestamibi scans with localization</td>\n",
       "      <td>285</td>\n",
       "    </tr>\n",
       "    <tr>\n",
       "      <th>1</th>\n",
       "      <td>Scans matching surgical side or exact gland</td>\n",
       "      <td>270 (94.74%)</td>\n",
       "    </tr>\n",
       "  </tbody>\n",
       "</table>\n",
       "</div>"
      ],
      "text/plain": [
       "                                             Metric         Value\n",
       "0  Total SPECT/CT-Sestamibi scans with localization           285\n",
       "1       Scans matching surgical side or exact gland  270 (94.74%)"
      ]
     },
     "metadata": {},
     "output_type": "display_data"
    }
   ],
   "source": [
    "# Count total concordant (either exact or side match)\n",
    "total_concordant = localized_spectmibi['Calculated Concordance'].isin(['Yes (Exact)', 'Yes (Side)']).sum()\n",
    "\n",
    "# Calculate percentage\n",
    "side_concordance_percentage_spectmibi = (total_concordant / total_localized_spectmibi * 100) if total_localized_spectmibi > 0 else None\n",
    "\n",
    "# Create results dataframe for clean display\n",
    "side_concordance_spectmibi_df = pd.DataFrame({\n",
    "    'Metric': [\n",
    "        'Total SPECT/CT-Sestamibi scans with localization',\n",
    "        'Scans matching surgical side or exact gland'\n",
    "    ],\n",
    "    'Value': [\n",
    "        total_localized_spectmibi,\n",
    "        f\"{total_concordant} ({side_concordance_percentage_spectmibi:.2f}%)\"\n",
    "    ]\n",
    "})\n",
    "\n",
    "# Display results\n",
    "display(side_concordance_spectmibi_df)"
   ]
  },
  {
   "cell_type": "markdown",
   "id": "71096c68",
   "metadata": {},
   "source": [
    "---\n",
    "\n",
    "### Interpretation\n",
    "\n",
    "Positive SPECT/CT + Sestamibi scans showed **high concordance (95%) with surgical findings**, indicating strong diagnostic utility when both modalities localize.\n",
    "\n",
    "\n",
    "\n",
    "### Next Steps\n",
    "\n",
    "- Compare these results to **4D CT and combined modality performance** to guide imaging pathway recommendations in the manuscript."
   ]
  }
 ],
 "metadata": {
  "kernelspec": {
   "display_name": "base",
   "language": "python",
   "name": "python3"
  },
  "language_info": {
   "codemirror_mode": {
    "name": "ipython",
    "version": 3
   },
   "file_extension": ".py",
   "mimetype": "text/x-python",
   "name": "python",
   "nbconvert_exporter": "python",
   "pygments_lexer": "ipython3",
   "version": "3.12.4"
  }
 },
 "nbformat": 4,
 "nbformat_minor": 5
}
