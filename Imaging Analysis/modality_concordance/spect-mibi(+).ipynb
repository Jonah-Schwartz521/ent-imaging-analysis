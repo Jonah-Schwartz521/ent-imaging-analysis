{
 "cells": [
  {
   "cell_type": "markdown",
   "id": "f28c11cc",
   "metadata": {},
   "source": [
    "# Concordance Analysis: Positive SPECT/CT + Sestamibi Scans\n",
    "\n",
    "### Objective\n",
    "\n",
    "Assess **localization concordance with surgical findings** for patients with **positive SPECT/CT + Sestamibi scans**.\n",
    "\n",
    "### Data Source\n",
    "\n",
    "- `side_concordance_results.xlsx` (pre-operative imaging results and surgical outcomes)\n",
    "\n",
    "### Outputs\n",
    "\n",
    "- **Total scans with localization:** 285\n",
    "- **Scans matching surgical side or exact gland:** 270 (**94.7%**)\n",
    "---"
   ]
  },
  {
   "cell_type": "code",
   "execution_count": 1,
   "id": "ccc9f9ea",
   "metadata": {},
   "outputs": [],
   "source": [
    "import pandas as pd \n",
    "preop_imaging_df = pd.read_excel('../../Data/final_cleaned_with_hyperplasia_concordance.xlsx')"
   ]
  },
  {
   "cell_type": "code",
   "execution_count": 2,
   "id": "42822cf8",
   "metadata": {},
   "outputs": [],
   "source": [
    "def check_concordance(row):\n",
    "    imaging = row['SPECT/CT-Sestamibi']\n",
    "    surgical = row['Surgical Findings']\n",
    "\n",
    "    if pd.isnull(imaging) or pd.isnull(surgical):\n",
    "        return 'Unknown'\n",
    "\n",
    "    # Clean imaging string\n",
    "    imaging_clean = imaging.replace('SPECT/CT:', '').replace('Sestamibi:', '').replace('|', ',').strip()\n",
    "\n",
    "    if imaging_clean == 'No SPECT/CT or Sestamibi Recorded':\n",
    "        return 'Unknown'\n",
    "\n",
    "    # Hyperplasia always Incorrect Localization\n",
    "    if 'hyperplasia' in surgical.lower():\n",
    "        return 'Incorrect Localization'\n",
    "\n",
    "    if imaging_clean == 'Non-localizing':\n",
    "        return 'Non-localizing'\n",
    "\n",
    "    imaging_glands = [g.strip().lower() for g in imaging_clean.split(',')]\n",
    "    surgical_glands = [g.strip().lower() for g in surgical.split(',')]\n",
    "\n",
    "    imaging_set = set(imaging_glands)\n",
    "    surgical_set = set(surgical_glands)\n",
    "\n",
    "    if surgical_set.issubset(imaging_set):\n",
    "        return 'Yes (Exact)'\n",
    "    elif imaging_set & surgical_set:\n",
    "        return 'Yes (Partial)'\n",
    "\n",
    "    # Side match check\n",
    "    imaging_sides = ['left' for ig in imaging_glands if 'left' in ig] + \\\n",
    "                    ['right' for ig in imaging_glands if 'right' in ig]\n",
    "    surgical_sides = ['left' for sg in surgical_glands if 'left' in sg] + \\\n",
    "                     ['right' for sg in surgical_glands if 'right' in sg]\n",
    "\n",
    "    if any(side in surgical_sides for side in imaging_sides):\n",
    "        return 'Yes (Side)'\n",
    "\n",
    "    return 'Incorrect Localization'"
   ]
  },
  {
   "cell_type": "code",
   "execution_count": 3,
   "id": "2e7e39f7",
   "metadata": {},
   "outputs": [],
   "source": [
    "\n",
    "# Apply to dataframe\n",
    "preop_imaging_df['SPECT/CT-Sestamibi Calculated Concordance'] = preop_imaging_df.apply(check_concordance, axis=1)\n",
    "\n",
    "# Filter only localized scans (exclude Non-localizing and No Scan)\n",
    "localized_df = preop_imaging_df[\n",
    "    ~preop_imaging_df['SPECT/CT-Sestamibi'].isin(['No Scan', 'Non-localizing'])\n",
    "]\n",
    "\n",
    "# Calculate counts\n",
    "concordance_col = 'SPECT/CT-Sestamibi Calculated Concordance'\n",
    "total = localized_df.shape[0]\n",
    "exact = (localized_df[concordance_col] == 'Yes (Exact)').sum()\n",
    "side = (localized_df[concordance_col] == 'Yes (Side)').sum()\n",
    "partial = (localized_df[concordance_col] == 'Yes (Partial)').sum()\n",
    "incorrect = (localized_df[concordance_col] == 'Incorrect Localization').sum()\n",
    "\n"
   ]
  },
  {
   "cell_type": "code",
   "execution_count": 4,
   "id": "e2967308",
   "metadata": {},
   "outputs": [
    {
     "name": "stdout",
     "output_type": "stream",
     "text": [
      " Total localized SPECT/CT + Sestamibi scans analyzed: 299\n"
     ]
    },
    {
     "data": {
      "text/html": [
       "<div>\n",
       "<style scoped>\n",
       "    .dataframe tbody tr th:only-of-type {\n",
       "        vertical-align: middle;\n",
       "    }\n",
       "\n",
       "    .dataframe tbody tr th {\n",
       "        vertical-align: top;\n",
       "    }\n",
       "\n",
       "    .dataframe thead th {\n",
       "        text-align: right;\n",
       "    }\n",
       "</style>\n",
       "<table border=\"1\" class=\"dataframe\">\n",
       "  <thead>\n",
       "    <tr style=\"text-align: right;\">\n",
       "      <th></th>\n",
       "      <th>Match Type</th>\n",
       "      <th>Count</th>\n",
       "      <th>Percentage</th>\n",
       "    </tr>\n",
       "  </thead>\n",
       "  <tbody>\n",
       "    <tr>\n",
       "      <th>0</th>\n",
       "      <td>Exact Match</td>\n",
       "      <td>117</td>\n",
       "      <td>39.13%</td>\n",
       "    </tr>\n",
       "    <tr>\n",
       "      <th>1</th>\n",
       "      <td>Side Match</td>\n",
       "      <td>137</td>\n",
       "      <td>45.82%</td>\n",
       "    </tr>\n",
       "    <tr>\n",
       "      <th>2</th>\n",
       "      <td>Partial Match</td>\n",
       "      <td>16</td>\n",
       "      <td>5.35%</td>\n",
       "    </tr>\n",
       "    <tr>\n",
       "      <th>3</th>\n",
       "      <td>Incorrect Localization</td>\n",
       "      <td>16</td>\n",
       "      <td>5.35%</td>\n",
       "    </tr>\n",
       "  </tbody>\n",
       "</table>\n",
       "</div>"
      ],
      "text/plain": [
       "               Match Type  Count Percentage\n",
       "0             Exact Match    117     39.13%\n",
       "1              Side Match    137     45.82%\n",
       "2           Partial Match     16      5.35%\n",
       "3  Incorrect Localization     16      5.35%"
      ]
     },
     "metadata": {},
     "output_type": "display_data"
    }
   ],
   "source": [
    "# Create summary table\n",
    "summary_df = pd.DataFrame({\n",
    "    'Match Type': ['Exact Match', 'Side Match', 'Partial Match', 'Incorrect Localization'],\n",
    "    'Count': [exact, side, partial, incorrect],\n",
    "    'Percentage': [f\"{(c/total)*100:.2f}%\" if total > 0 else 'N/A' for c in [exact, side, partial, incorrect]]\n",
    "})\n",
    "\n",
    "print(f\" Total localized SPECT/CT + Sestamibi scans analyzed: {total}\")\n",
    "display(summary_df)"
   ]
  },
  {
   "cell_type": "code",
   "execution_count": null,
   "id": "f51cbf92",
   "metadata": {},
   "outputs": [],
   "source": []
  },
  {
   "cell_type": "code",
   "execution_count": null,
   "id": "6b8b43c7",
   "metadata": {},
   "outputs": [],
   "source": []
  },
  {
   "cell_type": "code",
   "execution_count": null,
   "id": "6c82c08e",
   "metadata": {},
   "outputs": [],
   "source": []
  }
 ],
 "metadata": {
  "kernelspec": {
   "display_name": "base",
   "language": "python",
   "name": "python3"
  },
  "language_info": {
   "codemirror_mode": {
    "name": "ipython",
    "version": 3
   },
   "file_extension": ".py",
   "mimetype": "text/x-python",
   "name": "python",
   "nbconvert_exporter": "python",
   "pygments_lexer": "ipython3",
   "version": "3.12.4"
  }
 },
 "nbformat": 4,
 "nbformat_minor": 5
}
