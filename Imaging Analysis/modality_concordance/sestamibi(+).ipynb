{
 "cells": [
  {
   "cell_type": "markdown",
   "id": "0436aede",
   "metadata": {},
   "source": [
    "# Concordance Analysis: Positive Sestamibi Scans\n",
    "\n",
    "### Objective\n",
    "\n",
    "Assess **localization concordance with surgical findings** for patients with **positive Sestamibi scans**.\n",
    "\n",
    "### Data Source\n",
    "\n",
    "- `side_concordance_results.xlsx` (pre-operative imaging and surgical outcomes)\n",
    "\n",
    "### Outputs\n",
    "\n",
    "- **Total scans with localization:** 113\n",
    "- **Scans matching surgical side or exact gland:** 112 (**99.1%**)\n",
    "\n",
    "---"
   ]
  },
  {
   "cell_type": "code",
   "execution_count": 1,
   "id": "ca0581e9",
   "metadata": {},
   "outputs": [],
   "source": [
    "import pandas as pd \n",
    "preop_imaging_df = pd.read_excel('../../Data/final_cleaned_with_sides_and_concordance.xlsx')"
   ]
  },
  {
   "cell_type": "code",
   "execution_count": 2,
   "id": "3845f27f",
   "metadata": {},
   "outputs": [],
   "source": [
    "# Define modality and relevant columns\n",
    "modality = 'Sestamibi'\n",
    "concordance_col = 'Sestamibi Calculated Concordance'\n",
    "imaging_side_col = 'Sestamibi Imaging Side'"
   ]
  },
  {
   "cell_type": "code",
   "execution_count": 4,
   "id": "c4bf372c",
   "metadata": {},
   "outputs": [],
   "source": [
    "# Filter: only scans that localized to Left or Right\n",
    "localized_sestamibi = preop_imaging_df[preop_imaging_df[imaging_side_col].isin(['Left', 'Right'])].copy()\n",
    "total_localized_sestamibi = localized_sestamibi.shape[0]"
   ]
  },
  {
   "cell_type": "code",
   "execution_count": 5,
   "id": "5fc8c7ab",
   "metadata": {},
   "outputs": [],
   "source": [
    "# Calculate counts from pre-calculated concordance\n",
    "exact_count = localized_sestamibi[localized_sestamibi[concordance_col] == 'Yes (Exact)'].shape[0]\n",
    "side_count = localized_sestamibi[localized_sestamibi[concordance_col] == 'Yes (Side)'].shape[0]\n",
    "incorrect_count = localized_sestamibi[localized_sestamibi[concordance_col] == 'Incorrect Localization'].shape[0]\n",
    "\n",
    "# Calculate percentages\n",
    "exact_pct = round((exact_count / total_localized_sestamibi) * 100, 2) if total_localized_sestamibi > 0 else None \n",
    "side_pct = round((side_count / total_localized_sestamibi) * 100, 2) if total_localized_sestamibi > 0 else None\n",
    "incorrect_pct = round((incorrect_count / total_localized_sestamibi) * 100, 2) if total_localized_sestamibi > 0 else None \n",
    "\n",
    "# Combine exact + side for total side match\n",
    "total_side_match_count = exact_count + side_count\n",
    "total_side_match_pct = round((total_side_match_count / total_localized_sestamibi) * 100, 2) if total_localized_sestamibi > 0 else None\n",
    "\n"
   ]
  },
  {
   "cell_type": "code",
   "execution_count": 6,
   "id": "02af2934",
   "metadata": {},
   "outputs": [
    {
     "name": "stdout",
     "output_type": "stream",
     "text": [
      "Total localized Sestamibi scans: 113\n"
     ]
    },
    {
     "data": {
      "text/html": [
       "<div>\n",
       "<style scoped>\n",
       "    .dataframe tbody tr th:only-of-type {\n",
       "        vertical-align: middle;\n",
       "    }\n",
       "\n",
       "    .dataframe tbody tr th {\n",
       "        vertical-align: top;\n",
       "    }\n",
       "\n",
       "    .dataframe thead th {\n",
       "        text-align: right;\n",
       "    }\n",
       "</style>\n",
       "<table border=\"1\" class=\"dataframe\">\n",
       "  <thead>\n",
       "    <tr style=\"text-align: right;\">\n",
       "      <th></th>\n",
       "      <th>Match Type</th>\n",
       "      <th>Count</th>\n",
       "      <th>Percentage</th>\n",
       "    </tr>\n",
       "  </thead>\n",
       "  <tbody>\n",
       "    <tr>\n",
       "      <th>0</th>\n",
       "      <td>Exact Match</td>\n",
       "      <td>52</td>\n",
       "      <td>46.02%</td>\n",
       "    </tr>\n",
       "    <tr>\n",
       "      <th>1</th>\n",
       "      <td>Total Side Match (Exact + Side-only)</td>\n",
       "      <td>112</td>\n",
       "      <td>99.12%</td>\n",
       "    </tr>\n",
       "    <tr>\n",
       "      <th>2</th>\n",
       "      <td>Incorrect Localization</td>\n",
       "      <td>1</td>\n",
       "      <td>0.88%</td>\n",
       "    </tr>\n",
       "  </tbody>\n",
       "</table>\n",
       "</div>"
      ],
      "text/plain": [
       "                             Match Type  Count Percentage\n",
       "0                           Exact Match     52     46.02%\n",
       "1  Total Side Match (Exact + Side-only)    112     99.12%\n",
       "2                Incorrect Localization      1      0.88%"
      ]
     },
     "metadata": {},
     "output_type": "display_data"
    }
   ],
   "source": [
    "# Build clean summary dataframe\n",
    "side_concordance_sestamibi_df = pd.DataFrame({\n",
    "    'Match Type': [\n",
    "        'Exact Match',\n",
    "        'Total Side Match (Exact + Side-only)',\n",
    "        'Incorrect Localization'\n",
    "    ],\n",
    "    'Count': [\n",
    "        exact_count,\n",
    "        total_side_match_count,\n",
    "        incorrect_count\n",
    "    ],\n",
    "    'Percentage': [\n",
    "        f\"{exact_pct:.2f}%\" if exact_pct is not None else 'N/A',\n",
    "        f\"{total_side_match_pct:.2f}%\" if total_side_match_pct is not None else 'N/A',\n",
    "        f\"{incorrect_pct:.2f}%\" if incorrect_pct is not None else 'N/A'\n",
    "    ]\n",
    "})\n",
    "\n",
    "print(f\"Total localized Sestamibi scans: {total_localized_sestamibi}\")\n",
    "display(side_concordance_sestamibi_df)"
   ]
  },
  {
   "cell_type": "markdown",
   "id": "ac8bbd14",
   "metadata": {},
   "source": [
    "---\n",
    "\n",
    "### Interpretation\n",
    "\n",
    "Positive Sestamibi scans demonstrated **high concordance (99%) with surgical findings**, indicating strong standalone diagnostic accuracy.\n",
    "\n",
    "\n",
    "\n",
    "### Next Steps\n",
    "\n",
    "- Compare to **SPECT/CT, 4D CT, and combined modality performance** to inform imaging pathway optimization in the manuscript."
   ]
  }
 ],
 "metadata": {
  "kernelspec": {
   "display_name": "base",
   "language": "python",
   "name": "python3"
  },
  "language_info": {
   "codemirror_mode": {
    "name": "ipython",
    "version": 3
   },
   "file_extension": ".py",
   "mimetype": "text/x-python",
   "name": "python",
   "nbconvert_exporter": "python",
   "pygments_lexer": "ipython3",
   "version": "3.12.4"
  }
 },
 "nbformat": 4,
 "nbformat_minor": 5
}
