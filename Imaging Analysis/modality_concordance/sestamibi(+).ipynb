{
 "cells": [
  {
   "cell_type": "markdown",
   "id": "36922611",
   "metadata": {},
   "source": [
    "## Sestamibi Scan Concordance Analysis\n",
    "\n",
    "This section analyzes the **performance of Sestamibi scans** in localizing parathyroid pathology among patients with localizing scans (Left or Right).\n",
    "\n",
    "### **Summary Metrics**\n",
    "\n",
    "- **Exact Match:** Imaging identified the exact surgical gland.  \n",
    "- **Side Match:** Imaging identified the correct side but not the exact gland.  \n",
    "- **Partial Match:** Imaging identified at least one of multiple surgical glands but not all, or had a side match in multi-gland disease without gland match.  \n",
    "- **Incorrect Localization:** Imaging findings did not match surgical findings.\n",
    "\n",
    "The table below summarizes the **counts and percentages** for each match category among all localized Sestamibi scans in the dataset."
   ]
  },
  {
   "cell_type": "code",
   "execution_count": null,
   "id": "ca0581e9",
   "metadata": {},
   "outputs": [],
   "source": [
    "import pandas as pd \n",
    "preop_imaging_df = pd.read_excel('../../Data/final_imaging_data.xlsx')"
   ]
  },
  {
   "cell_type": "code",
   "execution_count": 2,
   "id": "3845f27f",
   "metadata": {},
   "outputs": [],
   "source": [
    "# Define modality and relevant columns\n",
    "modality = 'Sestamibi'\n",
    "concordance_col = 'Sestamibi Calculated Concordance'\n",
    "imaging_side_col = 'Sestamibi Imaging Side'"
   ]
  },
  {
   "cell_type": "code",
   "execution_count": 3,
   "id": "c4bf372c",
   "metadata": {},
   "outputs": [],
   "source": [
    "# Filter: only scans that localized to Left or Right\n",
    "localized_sestamibi = preop_imaging_df[preop_imaging_df[imaging_side_col].isin(['Left', 'Right'])].copy()\n",
    "total_localized_sestamibi = localized_sestamibi.shape[0]"
   ]
  },
  {
   "cell_type": "code",
   "execution_count": 7,
   "id": "5fc8c7ab",
   "metadata": {},
   "outputs": [],
   "source": [
    "# Calculate counts from pre-calculated concordance\n",
    "exact_count = localized_sestamibi[localized_sestamibi[concordance_col] == 'Yes (Exact)'].shape[0]\n",
    "side_count = localized_sestamibi[localized_sestamibi[concordance_col] == 'Yes (Side)'].shape[0]\n",
    "partial_count = localized_sestamibi[localized_sestamibi[concordance_col] == 'Yes (Partial)'].shape[0]\n",
    "incorrect_count = localized_sestamibi[localized_sestamibi[concordance_col] == 'Incorrect Localization'].shape[0]\n",
    "\n",
    "# Calculate percentages\n",
    "exact_pct = round((exact_count / total_localized_sestamibi) * 100, 2) if total_localized_sestamibi > 0 else None \n",
    "side_pct = round((side_count / total_localized_sestamibi) * 100, 2) if total_localized_sestamibi > 0 else None\n",
    "partial_pct = round((partial_count / total_localized_sestamibi) * 100, 2) if total_localized_sestamibi > 0 else None\n",
    "incorrect_pct = round((incorrect_count / total_localized_sestamibi) * 100, 2) if total_localized_sestamibi > 0 else None \n",
    "\n",
    "# Combine exact + side for total side match\n",
    "total_side_match_count = exact_count + side_count\n",
    "total_side_match_pct = round((total_side_match_count / total_localized_sestamibi) * 100, 2) if total_localized_sestamibi > 0 else None\n",
    "\n"
   ]
  },
  {
   "cell_type": "code",
   "execution_count": 10,
   "id": "02af2934",
   "metadata": {},
   "outputs": [
    {
     "name": "stdout",
     "output_type": "stream",
     "text": [
      "Total localized Sestamibi scans: 113\n"
     ]
    },
    {
     "data": {
      "text/html": [
       "<div>\n",
       "<style scoped>\n",
       "    .dataframe tbody tr th:only-of-type {\n",
       "        vertical-align: middle;\n",
       "    }\n",
       "\n",
       "    .dataframe tbody tr th {\n",
       "        vertical-align: top;\n",
       "    }\n",
       "\n",
       "    .dataframe thead th {\n",
       "        text-align: right;\n",
       "    }\n",
       "</style>\n",
       "<table border=\"1\" class=\"dataframe\">\n",
       "  <thead>\n",
       "    <tr style=\"text-align: right;\">\n",
       "      <th></th>\n",
       "      <th>Match Type</th>\n",
       "      <th>Count</th>\n",
       "      <th>Percentage</th>\n",
       "    </tr>\n",
       "  </thead>\n",
       "  <tbody>\n",
       "    <tr>\n",
       "      <th>0</th>\n",
       "      <td>Exact Match</td>\n",
       "      <td>46</td>\n",
       "      <td>40.71%</td>\n",
       "    </tr>\n",
       "    <tr>\n",
       "      <th>1</th>\n",
       "      <td>Side Match</td>\n",
       "      <td>58</td>\n",
       "      <td>51.33%</td>\n",
       "    </tr>\n",
       "    <tr>\n",
       "      <th>2</th>\n",
       "      <td>Partial Match</td>\n",
       "      <td>8</td>\n",
       "      <td>7.08%</td>\n",
       "    </tr>\n",
       "    <tr>\n",
       "      <th>3</th>\n",
       "      <td>Incorrect Localization</td>\n",
       "      <td>1</td>\n",
       "      <td>0.88%</td>\n",
       "    </tr>\n",
       "  </tbody>\n",
       "</table>\n",
       "</div>"
      ],
      "text/plain": [
       "               Match Type  Count Percentage\n",
       "0             Exact Match     46     40.71%\n",
       "1              Side Match     58     51.33%\n",
       "2           Partial Match      8      7.08%\n",
       "3  Incorrect Localization      1      0.88%"
      ]
     },
     "metadata": {},
     "output_type": "display_data"
    }
   ],
   "source": [
    "# Build clean summary dataframe\n",
    "side_concordance_sestamibi_df = pd.DataFrame({\n",
    "    'Match Type': [\n",
    "        'Exact Match',\n",
    "        'Side Match',\n",
    "        'Partial Match',\n",
    "        'Incorrect Localization'\n",
    "    ],\n",
    "    'Count': [\n",
    "        exact_count,\n",
    "        side_count,\n",
    "        partial_count,\n",
    "        incorrect_count\n",
    "    ],\n",
    "    'Percentage': [\n",
    "        f\"{exact_pct:.2f}%\" if exact_pct is not None else 'N/A',\n",
    "        f\"{side_pct:.2f}%\" if side_pct is not None else 'N/A',\n",
    "        f\"{partial_pct:.2f}%\" if partial_pct is not None else 'N/A',\n",
    "        f\"{incorrect_pct:.2f}%\" if incorrect_pct is not None else 'N/A'\n",
    "    ]\n",
    "})\n",
    "\n",
    "print(f\"Total localized Sestamibi scans: {total_localized_sestamibi}\")\n",
    "display(side_concordance_sestamibi_df)"
   ]
  },
  {
   "cell_type": "code",
   "execution_count": null,
   "id": "3b1cb28c",
   "metadata": {},
   "outputs": [],
   "source": []
  }
 ],
 "metadata": {
  "kernelspec": {
   "display_name": "base",
   "language": "python",
   "name": "python3"
  },
  "language_info": {
   "codemirror_mode": {
    "name": "ipython",
    "version": 3
   },
   "file_extension": ".py",
   "mimetype": "text/x-python",
   "name": "python",
   "nbconvert_exporter": "python",
   "pygments_lexer": "ipython3",
   "version": "3.12.4"
  }
 },
 "nbformat": 4,
 "nbformat_minor": 5
}
