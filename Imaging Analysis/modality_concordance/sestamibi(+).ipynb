{
 "cells": [
  {
   "cell_type": "markdown",
   "id": "0436aede",
   "metadata": {},
   "source": [
    "# Concordance Analysis: Positive Sestamibi Scans\n",
    "\n",
    "### Objective\n",
    "\n",
    "Assess **localization concordance with surgical findings** for patients with **positive Sestamibi scans**.\n",
    "\n",
    "### Data Source\n",
    "\n",
    "- `side_concordance_results.xlsx` (pre-operative imaging and surgical outcomes)\n",
    "\n",
    "### Outputs\n",
    "\n",
    "- **Total scans with localization:** 113\n",
    "- **Scans matching surgical side or exact gland:** 112 (**99.1%**)\n",
    "\n",
    "---"
   ]
  },
  {
   "cell_type": "code",
   "execution_count": 1,
   "id": "ca0581e9",
   "metadata": {},
   "outputs": [],
   "source": [
    "import pandas as pd \n",
    "preop_imaging_df = pd.read_excel('../../Data/side_concordance_results.xlsx')"
   ]
  },
  {
   "cell_type": "code",
   "execution_count": 2,
   "id": "2c4fc0c3",
   "metadata": {},
   "outputs": [],
   "source": [
    "def extract_side(location):\n",
    "    if pd.isnull(location):\n",
    "        return 'No Scan'\n",
    "    \n",
    "    if 'Left' in location:\n",
    "        return 'Left'\n",
    "    elif 'Right' in location:\n",
    "        return 'Right'\n",
    "    else:\n",
    "        return 'Unknown'\n",
    "    \n",
    "preop_imaging_df['Surgical Side'] = preop_imaging_df['Surgical_Findings'].apply(extract_side)"
   ]
  },
  {
   "cell_type": "code",
   "execution_count": 3,
   "id": "26b7c91f",
   "metadata": {},
   "outputs": [],
   "source": [
    "def check_concordance(row, modality_col):\n",
    "    imaging = row[modality_col]\n",
    "    surgical = row['Surgical_Findings']\n",
    "    \n",
    "    if pd.isnull(imaging) or pd.isnull(surgical):\n",
    "        return 'Unknown'\n",
    "    \n",
    "    imaging_glands = [g.strip() for g in imaging.split(',')]\n",
    "    surgical_glands = [g.strip() for g in surgical.split(',')]\n",
    "    \n",
    "    # Exact gland match\n",
    "    if any(sg in imaging_glands for sg in surgical_glands):\n",
    "        return 'Yes (Exact)'\n",
    "    \n",
    "    # Side match\n",
    "    imaging_sides = []\n",
    "    for ig in imaging_glands:\n",
    "        if 'Left' in ig:\n",
    "            imaging_sides.append('Left')\n",
    "        if 'Right' in ig:\n",
    "            imaging_sides.append('Right')\n",
    "    \n",
    "    surgical_sides = []\n",
    "    for sg in surgical_glands:\n",
    "        if 'Left' in sg:\n",
    "            surgical_sides.append('Left')\n",
    "        if 'Right' in sg:\n",
    "            surgical_sides.append('Right')\n",
    "    \n",
    "    if any(side in surgical_sides for side in imaging_sides):\n",
    "        return 'Yes (Side)'\n",
    "    \n",
    "    return 'Incorrect Localization'"
   ]
  },
  {
   "cell_type": "code",
   "execution_count": 4,
   "id": "9d13ce15",
   "metadata": {},
   "outputs": [],
   "source": [
    "# Define modality\n",
    "modality = 'Sestamibi'\n",
    "imaging_side_col = 'Sestamibi Imaging Side'\n",
    "\n",
    "# Apply extract_side function to get imaging side\n",
    "preop_imaging_df[imaging_side_col] = preop_imaging_df[modality].apply(extract_side)\n",
    "\n",
    "# Filter to scans that localized (Left or Right)\n",
    "localized_sestamibi = preop_imaging_df[preop_imaging_df[imaging_side_col].isin(['Left', 'Right'])].copy()\n",
    "total_localized_sestamibi = localized_sestamibi.shape[0]\n",
    "\n",
    "# Extract surgical side if not already done\n",
    "if 'Surgical Side' not in preop_imaging_df.columns:\n",
    "    preop_imaging_df['Surgical Side'] = preop_imaging_df['Surgical_Findings'].apply(extract_side)\n",
    "\n",
    "# Apply generalized check_concordance function\n",
    "localized_sestamibi['Calculated Concordance'] = localized_sestamibi.apply(\n",
    "    lambda row: check_concordance(row, modality), axis=1\n",
    ")"
   ]
  },
  {
   "cell_type": "code",
   "execution_count": 5,
   "id": "8672854a",
   "metadata": {},
   "outputs": [
    {
     "data": {
      "text/html": [
       "<div>\n",
       "<style scoped>\n",
       "    .dataframe tbody tr th:only-of-type {\n",
       "        vertical-align: middle;\n",
       "    }\n",
       "\n",
       "    .dataframe tbody tr th {\n",
       "        vertical-align: top;\n",
       "    }\n",
       "\n",
       "    .dataframe thead th {\n",
       "        text-align: right;\n",
       "    }\n",
       "</style>\n",
       "<table border=\"1\" class=\"dataframe\">\n",
       "  <thead>\n",
       "    <tr style=\"text-align: right;\">\n",
       "      <th></th>\n",
       "      <th>Metric</th>\n",
       "      <th>Value</th>\n",
       "    </tr>\n",
       "  </thead>\n",
       "  <tbody>\n",
       "    <tr>\n",
       "      <th>0</th>\n",
       "      <td>Total Sestamibi scans with localization</td>\n",
       "      <td>113</td>\n",
       "    </tr>\n",
       "    <tr>\n",
       "      <th>1</th>\n",
       "      <td>Scans matching surgical side or exact gland</td>\n",
       "      <td>112 (99.12%)</td>\n",
       "    </tr>\n",
       "  </tbody>\n",
       "</table>\n",
       "</div>"
      ],
      "text/plain": [
       "                                        Metric         Value\n",
       "0      Total Sestamibi scans with localization           113\n",
       "1  Scans matching surgical side or exact gland  112 (99.12%)"
      ]
     },
     "metadata": {},
     "output_type": "display_data"
    }
   ],
   "source": [
    "# Count total concordant (either exact or side match)\n",
    "total_concordant = localized_sestamibi['Calculated Concordance'].isin(['Yes (Exact)', 'Yes (Side)']).sum()\n",
    "\n",
    "# Calculate percentage\n",
    "side_concordance_percentage_sestamibi = (total_concordant / total_localized_sestamibi * 100) if total_localized_sestamibi > 0 else None\n",
    "\n",
    "# Create a results dataframe for clean display\n",
    "side_concordance_sestamibi_df = pd.DataFrame({\n",
    "    'Metric': [\n",
    "        'Total Sestamibi scans with localization',\n",
    "        'Scans matching surgical side or exact gland'\n",
    "    ],\n",
    "    'Value': [\n",
    "        total_localized_sestamibi,\n",
    "        f\"{total_concordant} ({side_concordance_percentage_sestamibi:.2f}%)\"\n",
    "    ]\n",
    "})\n",
    "\n",
    "# Display the dataframe\n",
    "display(side_concordance_sestamibi_df)"
   ]
  },
  {
   "cell_type": "markdown",
   "id": "ac8bbd14",
   "metadata": {},
   "source": [
    "---\n",
    "\n",
    "### Interpretation\n",
    "\n",
    "Positive Sestamibi scans demonstrated **high concordance (99%) with surgical findings**, indicating strong standalone diagnostic accuracy.\n",
    "\n",
    "\n",
    "\n",
    "### Next Steps\n",
    "\n",
    "- Compare to **SPECT/CT, 4D CT, and combined modality performance** to inform imaging pathway optimization in the manuscript."
   ]
  }
 ],
 "metadata": {
  "kernelspec": {
   "display_name": "base",
   "language": "python",
   "name": "python3"
  },
  "language_info": {
   "codemirror_mode": {
    "name": "ipython",
    "version": 3
   },
   "file_extension": ".py",
   "mimetype": "text/x-python",
   "name": "python",
   "nbconvert_exporter": "python",
   "pygments_lexer": "ipython3",
   "version": "3.12.4"
  }
 },
 "nbformat": 4,
 "nbformat_minor": 5
}
