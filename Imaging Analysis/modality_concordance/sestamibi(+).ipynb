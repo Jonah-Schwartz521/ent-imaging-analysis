{
 "cells": [
  {
   "cell_type": "code",
   "execution_count": 25,
   "id": "ca0581e9",
   "metadata": {},
   "outputs": [],
   "source": [
    "import pandas as pd \n",
    "preop_imaging_df = pd.read_excel('../../Data/side_concordance_results.xlsx')"
   ]
  },
  {
   "cell_type": "code",
   "execution_count": null,
   "id": "2c4fc0c3",
   "metadata": {},
   "outputs": [
    {
     "ename": "NameError",
     "evalue": "name 'preop_imaging_df' is not defined",
     "output_type": "error",
     "traceback": [
      "\u001b[0;31m---------------------------------------------------------------------------\u001b[0m",
      "\u001b[0;31mNameError\u001b[0m                                 Traceback (most recent call last)",
      "Cell \u001b[0;32mIn[1], line 12\u001b[0m\n\u001b[1;32m      9\u001b[0m     \u001b[38;5;28;01melse\u001b[39;00m:\n\u001b[1;32m     10\u001b[0m         \u001b[38;5;28;01mreturn\u001b[39;00m \u001b[38;5;124m'\u001b[39m\u001b[38;5;124mUnknown\u001b[39m\u001b[38;5;124m'\u001b[39m\n\u001b[0;32m---> 12\u001b[0m preop_imaging_df[\u001b[38;5;124m'\u001b[39m\u001b[38;5;124mSurgical Side\u001b[39m\u001b[38;5;124m'\u001b[39m] \u001b[38;5;241m=\u001b[39m preop_imaging_df[\u001b[38;5;124m'\u001b[39m\u001b[38;5;124mSurgical_Findings\u001b[39m\u001b[38;5;124m'\u001b[39m]\u001b[38;5;241m.\u001b[39mapply(extract_side)\n\u001b[1;32m     13\u001b[0m preop_imaging_df[\u001b[38;5;124m'\u001b[39m\u001b[38;5;124mSestamibi Imaging Side\u001b[39m\u001b[38;5;124m'\u001b[39m] \u001b[38;5;241m=\u001b[39m preop_imaging_df[\u001b[38;5;124m'\u001b[39m\u001b[38;5;124mSestamibi\u001b[39m\u001b[38;5;124m'\u001b[39m]\u001b[38;5;241m.\u001b[39mapply(extract_side)\n",
      "\u001b[0;31mNameError\u001b[0m: name 'preop_imaging_df' is not defined"
     ]
    }
   ],
   "source": [
    "def extract_side(location):\n",
    "    if pd.isnull(location):\n",
    "        return 'No Scan'\n",
    "    \n",
    "    if 'Left' in location:\n",
    "        return 'Left'\n",
    "    elif 'Right' in location:\n",
    "        return 'Right'\n",
    "    else:\n",
    "        return 'Unknown'\n",
    "    \n",
    "preop_imaging_df['Surgical Side'] = preop_imaging_df['Surgical_Findings'].apply(extract_side)"
   ]
  },
  {
   "cell_type": "code",
   "execution_count": 27,
   "id": "26b7c91f",
   "metadata": {},
   "outputs": [],
   "source": [
    "def check_concordance(row):\n",
    "    imaging = row['Sestamibi']\n",
    "    surgical = row['Surgical_Findings']\n",
    "    \n",
    "    if pd.isnull(imaging) or pd.isnull(surgical):\n",
    "        return 'Unknown'\n",
    "    imaging_glands = [g.strip() for g in imaging.split(',')]\n",
    "    surgical_glands = [g.strip() for g in surgical.split(',')]\n",
    "    \n",
    "    if any(sg in imaging_glands for sg in surgical_glands):\n",
    "        return 'Yes (Exact)'\n",
    "    \n",
    "    imaging_sides = []\n",
    "    for ig in imaging_glands:\n",
    "        if 'Left' in ig:\n",
    "            imaging_sides.append('Left')\n",
    "        if 'Right' in ig:\n",
    "            imaging_sides.append('Right')\n",
    "    \n",
    "    surgical_sides = []\n",
    "    for sg in surgical_glands:\n",
    "        if 'Left' in sg:\n",
    "            surgical_sides.append('Left')\n",
    "        if 'Right' in sg:\n",
    "            surgical_sides.append('Right')\n",
    "    \n",
    "    if any(side in surgical_sides for side in imaging_sides):\n",
    "        return 'Yes (Side)'\n",
    "    \n",
    "    return 'Incorrect Localization'\n"
   ]
  },
  {
   "cell_type": "code",
   "execution_count": 30,
   "id": "9d13ce15",
   "metadata": {},
   "outputs": [
    {
     "data": {
      "text/plain": [
       "113"
      ]
     },
     "execution_count": 30,
     "metadata": {},
     "output_type": "execute_result"
    }
   ],
   "source": [
    "# Define modality\n",
    "modality = 'Sestamibi'\n",
    "\n",
    "# Apply extract_side function if not already done to get imaging sides\n",
    "preop_imaging_df['Sestamibi Imaging Side'] = preop_imaging_df[modality].apply(extract_side)\n",
    "\n",
    "# Filter to scans that localized anywhere (Left, Right)\n",
    "localized_sestamibi = preop_imaging_df[preop_imaging_df['Sestamibi Imaging Side'].isin(['Left', 'Right'])]\n",
    "\n",
    "# Count total localized scans\n",
    "total_localized_sestamibi = localized_sestamibi.shape[0]\n",
    "total_localized_sestamibi\n",
    "\n"
   ]
  },
  {
   "cell_type": "code",
   "execution_count": 31,
   "id": "8672854a",
   "metadata": {},
   "outputs": [
    {
     "data": {
      "text/html": [
       "<div>\n",
       "<style scoped>\n",
       "    .dataframe tbody tr th:only-of-type {\n",
       "        vertical-align: middle;\n",
       "    }\n",
       "\n",
       "    .dataframe tbody tr th {\n",
       "        vertical-align: top;\n",
       "    }\n",
       "\n",
       "    .dataframe thead th {\n",
       "        text-align: right;\n",
       "    }\n",
       "</style>\n",
       "<table border=\"1\" class=\"dataframe\">\n",
       "  <thead>\n",
       "    <tr style=\"text-align: right;\">\n",
       "      <th></th>\n",
       "      <th>Metric</th>\n",
       "      <th>Value</th>\n",
       "    </tr>\n",
       "  </thead>\n",
       "  <tbody>\n",
       "    <tr>\n",
       "      <th>0</th>\n",
       "      <td>Total Sestamibi scans with localization</td>\n",
       "      <td>113</td>\n",
       "    </tr>\n",
       "    <tr>\n",
       "      <th>1</th>\n",
       "      <td>Scans matching surgical side or exact gland</td>\n",
       "      <td>108 (95.58%)</td>\n",
       "    </tr>\n",
       "  </tbody>\n",
       "</table>\n",
       "</div>"
      ],
      "text/plain": [
       "                                        Metric         Value\n",
       "0      Total Sestamibi scans with localization           113\n",
       "1  Scans matching surgical side or exact gland  108 (95.58%)"
      ]
     },
     "metadata": {},
     "output_type": "display_data"
    }
   ],
   "source": [
    "# Compare sides to see if there is at least a side match\n",
    "# First extract surgical sides if not already done\n",
    "preop_imaging_df['Surgical Side'] = preop_imaging_df['Surgical_Findings'].apply(extract_side)\n",
    "\n",
    "# Filter to only rows in localized_4dct for side match calculation\n",
    "localized_sestamibi = localized_sestamibi.copy()\n",
    "localized_sestamibi['Side Match'] = localized_sestamibi['Sestamibi Imaging Side'] == localized_sestamibi['Surgical Side']\n",
    "\n",
    "# Count how many matched on side (including exact matches)\n",
    "side_match_count_sestamibi = localized_sestamibi['Side Match'].sum()\n",
    "\n",
    "# Calculate percentage of scans that correlated with surgery (side match or exact match both count as a win here)\n",
    "side_concordance_percentage_sestamibi = (side_match_count_sestamibi / total_localized_sestamibi) * 100 if total_localized_sestamibi > 0 else None\n",
    "\n",
    "# Create a results dataframe for clean display\n",
    "side_concordance_sestamibi_df = pd.DataFrame({\n",
    "    'Metric': [\n",
    "        'Total Sestamibi scans with localization',\n",
    "        'Scans matching surgical side or exact gland'\n",
    "    ],\n",
    "    'Value': [\n",
    "        total_localized_sestamibi,\n",
    "        f\"{side_match_count_sestamibi} ({side_concordance_percentage_sestamibi:.2f}%)\"\n",
    "    ]\n",
    "})\n",
    "\n",
    "# Display the dataframe\n",
    "display(side_concordance_sestamibi_df)"
   ]
  },
  {
   "cell_type": "code",
   "execution_count": null,
   "id": "888b15fe",
   "metadata": {},
   "outputs": [],
   "source": []
  },
  {
   "cell_type": "code",
   "execution_count": null,
   "id": "38f5fac5",
   "metadata": {},
   "outputs": [],
   "source": []
  }
 ],
 "metadata": {
  "kernelspec": {
   "display_name": "base",
   "language": "python",
   "name": "python3"
  },
  "language_info": {
   "codemirror_mode": {
    "name": "ipython",
    "version": 3
   },
   "file_extension": ".py",
   "mimetype": "text/x-python",
   "name": "python",
   "nbconvert_exporter": "python",
   "pygments_lexer": "ipython3",
   "version": "3.12.4"
  }
 },
 "nbformat": 4,
 "nbformat_minor": 5
}
