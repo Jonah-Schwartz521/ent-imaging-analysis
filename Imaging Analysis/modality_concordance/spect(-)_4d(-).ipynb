{
 "cells": [
  {
   "cell_type": "markdown",
   "id": "4c48738e",
   "metadata": {},
   "source": [
    "# Surgical Outcomes: Both SPECT/CT and 4D CT Non-localizing\n",
    "\n",
    "### Objective\n",
    "\n",
    "Evaluate **surgical cure rates in patients with both negative SPECT/CT and 4D CT scans**, assessing outcomes when imaging fails to localize disease.\n",
    "\n",
    "### Data Source\n",
    "\n",
    "- `side_concordance_results.xlsx` containing pre-operative imaging results and surgical outcomes.\n",
    "\n",
    "### Outputs\n",
    "\n",
    "- Number and percentage of patients cured despite non-localizing imaging\n",
    "\n",
    "- Interpretation notes for manuscript reporting\n",
    "---\n"
   ]
  },
  {
   "cell_type": "code",
   "execution_count": 1,
   "id": "ae61dfb1",
   "metadata": {},
   "outputs": [],
   "source": [
    "import pandas as pd \n",
    "preop_imaging_df = pd.read_excel('../../Data/final_cleaned_with_hyperplasia_concordance.xlsx')"
   ]
  },
  {
   "cell_type": "code",
   "execution_count": 2,
   "id": "a3c93a17",
   "metadata": {},
   "outputs": [],
   "source": [
    "# Define modalities\n",
    "spect_modality = 'SPECT/CT'\n",
    "modality_4dct = '4D CT Scan'"
   ]
  },
  {
   "cell_type": "code",
   "execution_count": 4,
   "id": "5bd9dec0",
   "metadata": {},
   "outputs": [
    {
     "name": "stdout",
     "output_type": "stream",
     "text": [
      "16 cases (93.75%) had both modalities non-localizing but were cured in surgery.\n"
     ]
    },
    {
     "data": {
      "text/html": [
       "<div>\n",
       "<style scoped>\n",
       "    .dataframe tbody tr th:only-of-type {\n",
       "        vertical-align: middle;\n",
       "    }\n",
       "\n",
       "    .dataframe tbody tr th {\n",
       "        vertical-align: top;\n",
       "    }\n",
       "\n",
       "    .dataframe thead th {\n",
       "        text-align: right;\n",
       "    }\n",
       "</style>\n",
       "<table border=\"1\" class=\"dataframe\">\n",
       "  <thead>\n",
       "    <tr style=\"text-align: right;\">\n",
       "      <th></th>\n",
       "      <th>Metric</th>\n",
       "      <th>Count</th>\n",
       "    </tr>\n",
       "  </thead>\n",
       "  <tbody>\n",
       "    <tr>\n",
       "      <th>0</th>\n",
       "      <td>Total cases with both modalities non-localizing</td>\n",
       "      <td>16</td>\n",
       "    </tr>\n",
       "    <tr>\n",
       "      <th>1</th>\n",
       "      <td>Cases cured in surgery</td>\n",
       "      <td>15</td>\n",
       "    </tr>\n",
       "    <tr>\n",
       "      <th>2</th>\n",
       "      <td>Percent cured within both-negative cases</td>\n",
       "      <td>93.75%</td>\n",
       "    </tr>\n",
       "  </tbody>\n",
       "</table>\n",
       "</div>"
      ],
      "text/plain": [
       "                                            Metric   Count\n",
       "0  Total cases with both modalities non-localizing      16\n",
       "1                           Cases cured in surgery      15\n",
       "2         Percent cured within both-negative cases  93.75%"
      ]
     },
     "metadata": {},
     "output_type": "display_data"
    }
   ],
   "source": [
    "negative_spect_and_4d = preop_imaging_df[\n",
    "    (preop_imaging_df['SPECT/CT'] == 'Non-localizing') &\n",
    "    (preop_imaging_df['4D CT Scan'] == 'Non-localizing')\n",
    "]\n",
    "total_cases = negative_spect_and_4d.shape[0]\n",
    "total_surgical_cure = negative_spect_and_4d[negative_spect_and_4d['Surgical Cure'] == 'Yes'].shape[0]\n",
    "percentage = (total_surgical_cure / total_cases) * 100 \n",
    "\n",
    "print(f\"{total_cases} cases ({percentage:.2f}%) had both modalities non-localizing but were cured in surgery.\")\n",
    "\n",
    "negative_spect_4d_summary_df = pd.DataFrame({\n",
    "    'Metric': [\n",
    "        'Total cases with both modalities non-localizing',\n",
    "        'Cases cured in surgery',\n",
    "        'Percent cured within both-negative cases'\n",
    "    ],\n",
    "    'Count': [\n",
    "        total_cases,\n",
    "        total_surgical_cure,\n",
    "        f\"{percentage:.2f}%\"\n",
    "    ]\n",
    "})\n",
    "display(negative_spect_4d_summary_df)"
   ]
  },
  {
   "cell_type": "markdown",
   "id": "42003e7e",
   "metadata": {},
   "source": [
    "---\n",
    "\n",
    "### Interpretation\n",
    "\n",
    "- **Total cases:** 16 patients had **both SPECT/CT and 4D CT scans non-localizing**.\n",
    "\n",
    "- **Surgical cure rate:** 15 out of 16 patients (**93.75%**) were cured at surgery despite negative imaging.\n",
    "\n",
    "> **Clinical implication:** A high surgical cure rate (**~94%**) was achieved even when both imaging modalities were non-localizing, suggesting that **negative imaging does not preclude successful operative management**, likely due to strong intraoperative assessment and surgeon expertise.\n",
    "\n",
    "\n",
    "\n",
    "### **Next Steps**\n",
    "\n",
    "- Compare these findings with cure rates in patients who had positive imaging to guide **pre-operative imaging utility discussions**."
   ]
  },
  {
   "cell_type": "code",
   "execution_count": null,
   "id": "5b85ba92",
   "metadata": {},
   "outputs": [],
   "source": []
  },
  {
   "cell_type": "code",
   "execution_count": null,
   "id": "f4bdd093",
   "metadata": {},
   "outputs": [],
   "source": []
  },
  {
   "cell_type": "code",
   "execution_count": null,
   "id": "132d7569",
   "metadata": {},
   "outputs": [],
   "source": []
  }
 ],
 "metadata": {
  "kernelspec": {
   "display_name": "base",
   "language": "python",
   "name": "python3"
  },
  "language_info": {
   "codemirror_mode": {
    "name": "ipython",
    "version": 3
   },
   "file_extension": ".py",
   "mimetype": "text/x-python",
   "name": "python",
   "nbconvert_exporter": "python",
   "pygments_lexer": "ipython3",
   "version": "3.12.4"
  }
 },
 "nbformat": 4,
 "nbformat_minor": 5
}
