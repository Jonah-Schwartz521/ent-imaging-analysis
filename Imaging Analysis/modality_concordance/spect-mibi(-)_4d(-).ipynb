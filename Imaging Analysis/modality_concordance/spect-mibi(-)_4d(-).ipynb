{
 "cells": [
  {
   "cell_type": "markdown",
   "id": "cc26a5b5",
   "metadata": {},
   "source": [
    "## Surgical Outcomes in Patients with Negative SPECT/CT and 4D CT Scans\n",
    "\n",
    "This section analyzes patients whose **combined SPECT/CT-Sestamibi and 4D CT scans were both non-localizing**, representing diagnostically challenging cases.\n",
    "\n",
    "### **Key Points**\n",
    "\n",
    "- **Combined SPECT/CT-Sestamibi:** This modality combines results from both SPECT/CT and Sestamibi scans for analysis.  \n",
    "- **Both Negative:** Number of patients with non-localizing results from both combined SPECT/CT-Sestamibi and 4D CT scans.  \n",
    "- **Cured Despite Negative:** Number and percentage of these patients who were successfully cured through surgery despite negative imaging.\n"
   ]
  },
  {
   "cell_type": "code",
   "execution_count": null,
   "id": "2d42d8d5",
   "metadata": {},
   "outputs": [],
   "source": [
    "import pandas as pd \n",
    "preop_imaging_df = pd.read_excel('../../Data/final_imaging_data.xlsx')"
   ]
  },
  {
   "cell_type": "code",
   "execution_count": null,
   "id": "8dc6458c",
   "metadata": {},
   "outputs": [
    {
     "name": "stdout",
     "output_type": "stream",
     "text": [
      "34 cases (97.06%) had both modalities non-localizing but were cured in surgery.\n"
     ]
    },
    {
     "data": {
      "text/html": [
       "<div>\n",
       "<style scoped>\n",
       "    .dataframe tbody tr th:only-of-type {\n",
       "        vertical-align: middle;\n",
       "    }\n",
       "\n",
       "    .dataframe tbody tr th {\n",
       "        vertical-align: top;\n",
       "    }\n",
       "\n",
       "    .dataframe thead th {\n",
       "        text-align: right;\n",
       "    }\n",
       "</style>\n",
       "<table border=\"1\" class=\"dataframe\">\n",
       "  <thead>\n",
       "    <tr style=\"text-align: right;\">\n",
       "      <th></th>\n",
       "      <th>Metric</th>\n",
       "      <th>Count</th>\n",
       "    </tr>\n",
       "  </thead>\n",
       "  <tbody>\n",
       "    <tr>\n",
       "      <th>0</th>\n",
       "      <td>Total cases with both modalities non-localizing</td>\n",
       "      <td>34</td>\n",
       "    </tr>\n",
       "    <tr>\n",
       "      <th>1</th>\n",
       "      <td>Cases cured in surgery</td>\n",
       "      <td>33</td>\n",
       "    </tr>\n",
       "    <tr>\n",
       "      <th>2</th>\n",
       "      <td>Percent cured within both-negative cases</td>\n",
       "      <td>97.06%</td>\n",
       "    </tr>\n",
       "  </tbody>\n",
       "</table>\n",
       "</div>"
      ],
      "text/plain": [
       "                                            Metric   Count\n",
       "0  Total cases with both modalities non-localizing      34\n",
       "1                           Cases cured in surgery      33\n",
       "2         Percent cured within both-negative cases  97.06%"
      ]
     },
     "metadata": {},
     "output_type": "display_data"
    }
   ],
   "source": [
    "# Define modality column names\n",
    "spectmibi_modality = 'SPECT/CT-Sestamibi'\n",
    "modality_4dct = '4D CT Scan'\n",
    "\n",
    "# Filter dataset for patients with both SPECT/CT-Sestamibi and 4D CT being non-localizing\n",
    "negative_spectmibi_and_4d = preop_imaging_df[\n",
    "    (preop_imaging_df[spectmibi_modality] == 'Non-localizing') &\n",
    "    (preop_imaging_df[modality_4dct] == 'Non-localizing')\n",
    "]\n",
    "\n",
    "# Calculate total number of such cases, cure rate, and percentage\n",
    "total_cases = negative_spectmibi_and_4d.shape[0]\n",
    "total_surgical_cure = negative_spectmibi_and_4d[negative_spectmibi_and_4d['Surgical Cure'] == 'Yes'].shape[0]\n",
    "percentage = (total_surgical_cure / total_cases) * 100 \n",
    "\n",
    "print(f\"{total_cases} cases ({percentage:.2f}%) had both modalities non-localizing but were cured in surgery.\")\n",
    "\n",
    "negative_spect_4d_summary_df = pd.DataFrame({\n",
    "    'Metric': [\n",
    "        'Total cases with both modalities non-localizing',\n",
    "        'Cases cured in surgery',\n",
    "        'Percent cured within both-negative cases'\n",
    "    ],\n",
    "    'Count': [\n",
    "        total_cases,\n",
    "        total_surgical_cure,\n",
    "        f\"{percentage:.2f}%\"\n",
    "    ]\n",
    "})\n",
    "display(negative_spect_4d_summary_df)"
   ]
  },
  {
   "cell_type": "code",
   "execution_count": null,
   "id": "c90aa813",
   "metadata": {},
   "outputs": [
    {
     "data": {
      "image/png": "[encoded data removed]",
      "text/plain": [
       "<Figure size 600x400 with 1 Axes>"
      ]
     },
     "metadata": {},
     "output_type": "display_data"
    }
   ],
   "source": [
    "# Plotting the surgical outcomes from diagnostically challenging cases \n",
    "import matplotlib.pyplot as plt\n",
    "\n",
    "# Define bar heights and labels\n",
    "counts = [total_cases, total_surgical_cure]\n",
    "labels = ['Both Negative', 'Cured Despite Negative']\n",
    "colors = ['grey', 'green']\n",
    "\n",
    "plt.figure(figsize=(6,4))\n",
    "bars = plt.bar(labels, counts, color=colors)\n",
    "\n",
    "\n",
    "# Annotate bars\n",
    "for bar in bars:\n",
    "    height = bar.get_height()\n",
    "    plt.text(bar.get_x() + bar.get_width()/2, height + 0.5, f'{int(height)}',\n",
    "             ha='center', va='bottom', fontsize=10)\n",
    "    \n",
    "plt.title('Surgical Outcomes in Patients with Negative SPECT/CT and 4D CT')\n",
    "plt.ylabel('Number of Patients')\n",
    "plt.ylim(0, max(counts)*1.2)\n",
    "\n",
    "plt.tight_layout()\n",
    "plt.show()\n"
   ]
  },
  {
   "cell_type": "markdown",
   "id": "094716c6",
   "metadata": {},
   "source": [
    "---\n",
    "\n",
    "### Interpretation\n",
    "\n",
    "Despite **both SPECT/CT + Sestamibi and 4D CT being non-localizing**, **97% of patients achieved surgical cure**, indicating that successful outcomes remain highly likely even when imaging is inconclusive.\n",
    "\n",
    "\n",
    "### Next Steps\n",
    "\n",
    "- Explore potential factors predicting surgical success in imaging-negative patients for manuscript discussion and recommendations."
   ]
  }
 ],
 "metadata": {
  "kernelspec": {
   "display_name": "base",
   "language": "python",
   "name": "python3"
  },
  "language_info": {
   "codemirror_mode": {
    "name": "ipython",
    "version": 3
   },
   "file_extension": ".py",
   "mimetype": "text/x-python",
   "name": "python",
   "nbconvert_exporter": "python",
   "pygments_lexer": "ipython3",
   "version": "3.12.4"
  }
 },
 "nbformat": 4,
 "nbformat_minor": 5
}
