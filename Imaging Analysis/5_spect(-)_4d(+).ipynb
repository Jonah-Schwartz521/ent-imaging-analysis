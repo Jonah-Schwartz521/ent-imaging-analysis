{
 "cells": [
  {
   "cell_type": "code",
   "execution_count": 2,
   "id": "bab4ccaf",
   "metadata": {},
   "outputs": [],
   "source": [
    "import pandas as pd \n",
    "preop_imaging_df = pd.read_excel('../Data/side_concordance_results.xlsx')\n"
   ]
  },
  {
   "cell_type": "code",
   "execution_count": 3,
   "id": "88f53843",
   "metadata": {},
   "outputs": [],
   "source": [
    "# def extract_side(location):\n",
    "#     if pd.isnull(location):\n",
    "#         return 'No Scan'\n",
    "    \n",
    "#     sides = []\n",
    "    \n",
    "#     if 'Left' in location:\n",
    "#         sides.append('Left')\n",
    "#     if 'Right' in location:\n",
    "#         sides.append('Right')\n",
    "    \n",
    "#     if not sides:\n",
    "#         return 'Unknown'\n",
    "#     elif len(sides) == 1:\n",
    "#         return sides[0]\n",
    "#     else:\n",
    "#         return 'Both'\n",
    "\n",
    "def extract_side(location):\n",
    "    if pd.isnull(location):\n",
    "        return 'No Scan'\n",
    "    \n",
    "    if 'Left' in location:\n",
    "        return 'Left'\n",
    "    elif 'Right' in location:\n",
    "        return 'Right'\n",
    "    else:\n",
    "        return 'Unknown'"
   ]
  },
  {
   "cell_type": "code",
   "execution_count": 4,
   "id": "42d361ca",
   "metadata": {},
   "outputs": [],
   "source": [
    "# Define modalities and concordance column\n",
    "spect_modality = 'SPECT/CT'\n",
    "modality_4dct = '4D CT Scan'\n",
    "\n",
    "# Apply extract_side to imaging and surgical findings\n",
    "preop_imaging_df['4D CT Imaging Side'] = preop_imaging_df[modality_4dct].apply(extract_side)\n",
    "preop_imaging_df['Surgical Side'] = preop_imaging_df['Surgical_Findings'].apply(extract_side)\n",
    "\n",
    "negative_spect = preop_imaging_df[preop_imaging_df[spect_modality] == 'Non-localizing'].copy()\n",
    "\n",
    "# Filter for cases with positive 4D CT localization\n",
    "spect_neg_4d_pos = negative_spect[negative_spect['4D CT Imaging Side'].isin(['Left', 'Right'])].copy()\n"
   ]
  },
  {
   "cell_type": "code",
   "execution_count": 5,
   "id": "ea12adbb",
   "metadata": {},
   "outputs": [],
   "source": [
    "def check_concordance(row):\n",
    "    imaging = row['4D CT Scan']\n",
    "    surgical = row['Surgical_Findings']\n",
    "    \n",
    "    if pd.isnull(imaging) or pd.isnull(surgical):\n",
    "        return 'Unknown'\n",
    "    \n",
    "    imaging_glands = [g.strip() for g in imaging.split(',')]\n",
    "    surgical_glands = [g.strip() for g in surgical.split(',')]\n",
    "    \n",
    "    if any(sg in imaging_glands for sg in surgical_glands):\n",
    "        return 'Yes (Exact)'\n",
    "    \n",
    "    imaging_sides = []\n",
    "    for ig in imaging_glands:\n",
    "        if 'Left' in ig:\n",
    "            imaging_sides.append('Left')\n",
    "        if 'Right' in ig:\n",
    "            imaging_sides.append('Right')\n",
    "    \n",
    "    surgical_sides = []\n",
    "    for sg in surgical_glands:\n",
    "        if 'Left' in sg:\n",
    "            surgical_sides.append('Left')\n",
    "        if 'Right' in sg:\n",
    "            surgical_sides.append('Right')\n",
    "    \n",
    "    if any(side in surgical_sides for side in imaging_sides):\n",
    "        return 'Yes (Side)'\n",
    "    \n",
    "    return 'Incorrect Localization'\n"
   ]
  },
  {
   "cell_type": "code",
   "execution_count": 10,
   "id": "d1ed5ba1",
   "metadata": {},
   "outputs": [
    {
     "name": "stdout",
     "output_type": "stream",
     "text": [
      "Total SPECT negative / 4D CT positive cases: 31\n"
     ]
    },
    {
     "data": {
      "text/html": [
       "<div>\n",
       "<style scoped>\n",
       "    .dataframe tbody tr th:only-of-type {\n",
       "        vertical-align: middle;\n",
       "    }\n",
       "\n",
       "    .dataframe tbody tr th {\n",
       "        vertical-align: top;\n",
       "    }\n",
       "\n",
       "    .dataframe thead th {\n",
       "        text-align: right;\n",
       "    }\n",
       "</style>\n",
       "<table border=\"1\" class=\"dataframe\">\n",
       "  <thead>\n",
       "    <tr style=\"text-align: right;\">\n",
       "      <th></th>\n",
       "      <th>Match Type</th>\n",
       "      <th>Count</th>\n",
       "      <th>Percentage</th>\n",
       "    </tr>\n",
       "  </thead>\n",
       "  <tbody>\n",
       "    <tr>\n",
       "      <th>0</th>\n",
       "      <td>Exact Match</td>\n",
       "      <td>16</td>\n",
       "      <td>51.61%</td>\n",
       "    </tr>\n",
       "    <tr>\n",
       "      <th>1</th>\n",
       "      <td>Total Side Match (Exact + Side-only)</td>\n",
       "      <td>20</td>\n",
       "      <td>64.52%</td>\n",
       "    </tr>\n",
       "    <tr>\n",
       "      <th>2</th>\n",
       "      <td>Incorrect Localization</td>\n",
       "      <td>11</td>\n",
       "      <td>35.48%</td>\n",
       "    </tr>\n",
       "  </tbody>\n",
       "</table>\n",
       "</div>"
      ],
      "text/plain": [
       "                             Match Type  Count Percentage\n",
       "0                           Exact Match     16     51.61%\n",
       "1  Total Side Match (Exact + Side-only)     20     64.52%\n",
       "2                Incorrect Localization     11     35.48%"
      ]
     },
     "metadata": {},
     "output_type": "display_data"
    }
   ],
   "source": [
    "spect_neg_4d_pos['Calculated Concordance'] = spect_neg_4d_pos.apply(check_concordance, axis=1)\n",
    "\n",
    "# Total cases\n",
    "total_cases = spect_neg_4d_pos.shape[0]\n",
    "\n",
    "# Count match types\n",
    "exact_count = spect_neg_4d_pos[spect_neg_4d_pos['Calculated Concordance'] == 'Yes (Exact)'].shape[0]\n",
    "side_count = spect_neg_4d_pos[spect_neg_4d_pos['Calculated Concordance'] == 'Yes (Side)'].shape[0]\n",
    "incorrect_count = spect_neg_4d_pos[spect_neg_4d_pos['Calculated Concordance'] == 'Incorrect Localization'].shape[0]\n",
    "\n",
    "\n",
    "exact_pct = (exact_count / total_cases) * 100 if total_cases > 0 else None\n",
    "side_pct = (side_count / total_cases) * 100 if total_cases > 0 else None\n",
    "incorrect_pct = (incorrect_count / total_cases) * 100 if total_cases > 0 else None\n",
    "\n",
    "\n",
    "\n",
    "# Calculate combined side match count and percentage\n",
    "total_side_match_count = exact_count + side_count\n",
    "total_side_match_pct = (total_side_match_count / total_cases) * 100 if total_cases > 0 else None\n",
    "\n",
    "# Create final summary dataframe with correct categories\n",
    "spect_neg_4d_pos_summary_df = pd.DataFrame({\n",
    "    'Match Type': [\n",
    "        'Exact Match',\n",
    "        'Total Side Match (Exact + Side-only)',\n",
    "        'Incorrect Localization'\n",
    "    ],\n",
    "    'Count': [\n",
    "        exact_count,\n",
    "        total_side_match_count,\n",
    "        incorrect_count\n",
    "    ],\n",
    "    'Percentage': [\n",
    "        f\"{exact_pct:.2f}%\" if exact_pct is not None else 'N/A',\n",
    "        f\"{total_side_match_pct:.2f}%\" if total_side_match_pct is not None else 'N/A',\n",
    "        f\"{incorrect_pct:.2f}%\" if incorrect_pct is not None else 'N/A'\n",
    "    ]\n",
    "})\n",
    "\n",
    "# Display results\n",
    "print(f\"Total SPECT negative / 4D CT positive cases: {total_cases}\")\n",
    "display(spect_neg_4d_pos_summary_df)"
   ]
  },
  {
   "cell_type": "code",
   "execution_count": null,
   "id": "b3b1474b",
   "metadata": {},
   "outputs": [
    {
     "data": {
      "text/plain": [
       "Procedure_Date            52\n",
       "Patient_ID                52\n",
       "Age                       51\n",
       "Gender                    52\n",
       "Surgical_Findings         52\n",
       "Surgical Cure             52\n",
       "SPECT/CT                  52\n",
       "Ultrasound                10\n",
       "4D CT Scan                48\n",
       "Sestamibi                  2\n",
       "MRI                        0\n",
       "Ultrasound_Concordance    52\n",
       "SPECT/CT_Concordance      52\n",
       "4D CT Scan_Concordance    52\n",
       "Sestamibi_Concordance     52\n",
       "MRI_Concordance           52\n",
       "4D CT Imaging Side        52\n",
       "Surgical Side             52\n",
       "dtype: int64"
      ]
     },
     "execution_count": 9,
     "metadata": {},
     "output_type": "execute_result"
    }
   ],
   "source": []
  },
  {
   "cell_type": "code",
   "execution_count": null,
   "id": "76043a56",
   "metadata": {},
   "outputs": [],
   "source": []
  }
 ],
 "metadata": {
  "kernelspec": {
   "display_name": "base",
   "language": "python",
   "name": "python3"
  },
  "language_info": {
   "codemirror_mode": {
    "name": "ipython",
    "version": 3
   },
   "file_extension": ".py",
   "mimetype": "text/x-python",
   "name": "python",
   "nbconvert_exporter": "python",
   "pygments_lexer": "ipython3",
   "version": "3.12.4"
  }
 },
 "nbformat": 4,
 "nbformat_minor": 5
}
