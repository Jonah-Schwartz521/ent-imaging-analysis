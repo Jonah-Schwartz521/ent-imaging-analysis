{
 "cells": [
  {
   "cell_type": "markdown",
   "id": "c323285b",
   "metadata": {},
   "source": [
    "### 4D CT Scan Concordance Summary\n",
    "\n",
    "Calculates:\n",
    "\n",
    "- Exact match count and %\n",
    "- Side-only match count and %\n",
    "- Combined positive match %\n",
    "\n",
    "Excludes non-localized scans to assess 4D CT diagnostic effectiveness."
   ]
  },
  {
   "cell_type": "code",
   "execution_count": 3,
   "id": "7640c0fc",
   "metadata": {},
   "outputs": [],
   "source": [
    "import pandas as pd \n",
    "preop_imaging_df = pd.read_excel('../Data/side_concordance_results.xlsx')\n"
   ]
  },
  {
   "cell_type": "code",
   "execution_count": null,
   "id": "abf53524",
   "metadata": {},
   "outputs": [
    {
     "name": "stdout",
     "output_type": "stream",
     "text": [
      "Total Postive Scans: 138\n",
      "Exact Matches: 72 (52.17%)\n",
      "Side-only matches: 66 (47.83%)\n"
     ]
    }
   ],
   "source": [
    "# define modality and corcordance column \n",
    "modality = '4D CT Scan'   \n",
    "concord_col = modality + '_Concordance'\n",
    "# Filter positive scans: exclude 'No' and 'No Scan'\n",
    "positive_scans = preop_imaging_df[\n",
    "    (preop_imaging_df['4D CT Scan_Concordance'] != 'No Scan') &\n",
    "    (preop_imaging_df['4D CT Scan_Concordance'] != 'No')\n",
    "]\n",
    "\n",
    "# Count total positive scans\n",
    "total_positive = positive_scans.shape[0]\n",
    "\n",
    "# Count exact matches\n",
    "exact_matches = positive_scans[positive_scans[concord_col] == 'Yes (Exact)'].shape[0]\n",
    "\n",
    "# Count side-only matches\n",
    "side_matches = positive_scans[positive_scans[concord_col] == 'Yes (Side)'].shape[0]\n",
    "\n",
    "# calculate percentages \n",
    "exact_percentage = (exact_matches / total_positive) * 100 if total_positive > 0 else None\n",
    "side_percentage = (side_matches / total_positive) * 100 if total_positive > 0 else None \n",
    "\n",
    "\n",
    "print(f'Total Postive Scans: {total_positive}')\n",
    "print(f'Exact Matches: {exact_matches} ({exact_percentage:.2f}%)')\n",
    "print(f'Side-only matches: {side_matches} ({side_percentage:.2f}%)')\n",
    "\n"
   ]
  }
 ],
 "metadata": {
  "kernelspec": {
   "display_name": "base",
   "language": "python",
   "name": "python3"
  },
  "language_info": {
   "codemirror_mode": {
    "name": "ipython",
    "version": 3
   },
   "file_extension": ".py",
   "mimetype": "text/x-python",
   "name": "python",
   "nbconvert_exporter": "python",
   "pygments_lexer": "ipython3",
   "version": "3.12.4"
  }
 },
 "nbformat": 4,
 "nbformat_minor": 5
}
