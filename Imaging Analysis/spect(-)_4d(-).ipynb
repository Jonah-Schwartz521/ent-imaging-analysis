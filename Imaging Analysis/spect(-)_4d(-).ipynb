{
 "cells": [
  {
   "cell_type": "code",
   "execution_count": 1,
   "id": "ae61dfb1",
   "metadata": {},
   "outputs": [],
   "source": [
    "import pandas as pd \n",
    "preop_imaging_df = pd.read_excel('../Data/side_concordance_results.xlsx')\n"
   ]
  },
  {
   "cell_type": "code",
   "execution_count": 7,
   "id": "a3c93a17",
   "metadata": {},
   "outputs": [],
   "source": [
    "# Define modalities\n",
    "spect_modality = 'SPECT/CT'\n",
    "modality_4dct = '4D CT Scan'"
   ]
  },
  {
   "cell_type": "code",
   "execution_count": 30,
   "id": "5bd9dec0",
   "metadata": {},
   "outputs": [
    {
     "name": "stdout",
     "output_type": "stream",
     "text": [
      "16 cases (93.75%) had both modalities non-localizing but were cured in surgery.\n"
     ]
    },
    {
     "data": {
      "text/html": [
       "<div>\n",
       "<style scoped>\n",
       "    .dataframe tbody tr th:only-of-type {\n",
       "        vertical-align: middle;\n",
       "    }\n",
       "\n",
       "    .dataframe tbody tr th {\n",
       "        vertical-align: top;\n",
       "    }\n",
       "\n",
       "    .dataframe thead th {\n",
       "        text-align: right;\n",
       "    }\n",
       "</style>\n",
       "<table border=\"1\" class=\"dataframe\">\n",
       "  <thead>\n",
       "    <tr style=\"text-align: right;\">\n",
       "      <th></th>\n",
       "      <th>Metric</th>\n",
       "      <th>Count</th>\n",
       "    </tr>\n",
       "  </thead>\n",
       "  <tbody>\n",
       "    <tr>\n",
       "      <th>0</th>\n",
       "      <td>Total cases with both modalities non-localizing</td>\n",
       "      <td>16</td>\n",
       "    </tr>\n",
       "    <tr>\n",
       "      <th>1</th>\n",
       "      <td>Cases cured in surgery</td>\n",
       "      <td>15</td>\n",
       "    </tr>\n",
       "    <tr>\n",
       "      <th>2</th>\n",
       "      <td>Percent cured within both-negative cases</td>\n",
       "      <td>93.75%</td>\n",
       "    </tr>\n",
       "  </tbody>\n",
       "</table>\n",
       "</div>"
      ],
      "text/plain": [
       "                                            Metric   Count\n",
       "0  Total cases with both modalities non-localizing      16\n",
       "1                           Cases cured in surgery      15\n",
       "2         Percent cured within both-negative cases  93.75%"
      ]
     },
     "metadata": {},
     "output_type": "display_data"
    }
   ],
   "source": [
    "negative_spect_and_4d = preop_imaging_df[\n",
    "    (preop_imaging_df['SPECT/CT'] == 'Non-localizing') &\n",
    "    (preop_imaging_df['4D CT Scan'] == 'Non-localizing')\n",
    "]\n",
    "total_cases = negative_spect_and_4d.shape[0]\n",
    "total_surgical_cure = negative_spect_and_4d[negative_spect_and_4d['Surgical Cure'] == 'Yes'].shape[0]\n",
    "percentage = (total_surgical_cure / total_cases) * 100 \n",
    "\n",
    "print(f\"{total_cases} cases ({percentage:.2f}%) had both modalities non-localizing but were cured in surgery.\")\n",
    "\n",
    "negative_spect_4d_summary_df = pd.DataFrame({\n",
    "    'Metric': [\n",
    "        'Total cases with both modalities non-localizing',\n",
    "        'Cases cured in surgery',\n",
    "        'Percent cured within both-negative cases'\n",
    "    ],\n",
    "    'Count': [\n",
    "        total_cases,\n",
    "        total_surgical_cure,\n",
    "        f\"{percentage:.2f}%\"\n",
    "    ]\n",
    "})\n",
    "display(negative_spect_4d_summary_df)"
   ]
  },
  {
   "cell_type": "code",
   "execution_count": null,
   "id": "5b85ba92",
   "metadata": {},
   "outputs": [],
   "source": []
  },
  {
   "cell_type": "code",
   "execution_count": null,
   "id": "f4bdd093",
   "metadata": {},
   "outputs": [
    {
     "name": "stdout",
     "output_type": "stream",
     "text": [
      "SPECT/CT\n",
      "Right Inferior                   65\n",
      "Non-localizing                   52\n",
      "Left Inferior                    45\n",
      "Right                            23\n",
      "Right Superior                   13\n",
      "Left                             11\n",
      "Left Superior                     5\n",
      "Left Inferior, Right Inferior     4\n",
      "Left, Right                       3\n",
      "Left, Right Inferior              3\n",
      "Left Inferior, Right              2\n",
      "Left Inferior, Left               1\n",
      "Midline                           1\n",
      "Right Ectopic                     1\n",
      "Left Superior, Right Inferior     1\n",
      "Name: count, dtype: int64\n",
      "4D CT Scan\n",
      "Right Inferior                    56\n",
      "Non-localizing                    55\n",
      "Left Inferior                     46\n",
      "Right                             18\n",
      "Left Superior                     15\n",
      "Left                              11\n",
      "Right Superior                    10\n",
      "Left Inferior, Right               4\n",
      "Left, Right                        3\n",
      "Left Superior, Left Inferior       2\n",
      "Right Superior, Right Inferior     2\n",
      "Left, Right Inferior               1\n",
      "Inferior                           1\n",
      "Inferior Mid                       1\n",
      "Left Inferior, Left                1\n",
      "Left Inferior, Right Inferior      1\n",
      "Left Superior, Right Inferior      1\n",
      "Name: count, dtype: int64\n"
     ]
    }
   ],
   "source": []
  },
  {
   "cell_type": "code",
   "execution_count": null,
   "id": "132d7569",
   "metadata": {},
   "outputs": [],
   "source": []
  }
 ],
 "metadata": {
  "kernelspec": {
   "display_name": "base",
   "language": "python",
   "name": "python3"
  },
  "language_info": {
   "codemirror_mode": {
    "name": "ipython",
    "version": 3
   },
   "file_extension": ".py",
   "mimetype": "text/x-python",
   "name": "python",
   "nbconvert_exporter": "python",
   "pygments_lexer": "ipython3",
   "version": "3.12.4"
  }
 },
 "nbformat": 4,
 "nbformat_minor": 5
}
