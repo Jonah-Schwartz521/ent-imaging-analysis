{
 "cells": [
  {
   "cell_type": "code",
   "execution_count": 1,
   "id": "e2ad916a",
   "metadata": {},
   "outputs": [],
   "source": [
    "import pandas as pd \n",
    "preop_imaging_df = pd.read_excel('../../Data/side_concordance_results.xlsx')"
   ]
  },
  {
   "cell_type": "code",
   "execution_count": 2,
   "id": "17364f84",
   "metadata": {},
   "outputs": [],
   "source": [
    "def extract_side(location):\n",
    "    if pd.isnull(location):\n",
    "        return 'No Scan'\n",
    "    \n",
    "    if 'Left' in location:\n",
    "        return 'Left'\n",
    "    elif 'Right' in location:\n",
    "        return 'Right'\n",
    "    else:\n",
    "        return 'Unknown'\n",
    "    \n",
    "preop_imaging_df['Surgical Side'] = preop_imaging_df['Surgical_Findings'].apply(extract_side)"
   ]
  },
  {
   "cell_type": "code",
   "execution_count": 3,
   "id": "c0af0646",
   "metadata": {},
   "outputs": [
    {
     "data": {
      "text/plain": [
       "0    Sestamibi: Right Inferior\n",
       "1               Non-localizing\n",
       "2     Sestamibi: Left Inferior\n",
       "3     Sestamibi: Left Inferior\n",
       "4              Sestamibi: Left\n",
       "Name: SPECT/CT-Sestamibi, dtype: object"
      ]
     },
     "execution_count": 3,
     "metadata": {},
     "output_type": "execute_result"
    }
   ],
   "source": [
    "def check_spect_sestamibi(row):\n",
    "    spect = row['SPECT/CT']\n",
    "    sestamibi = row['Sestamibi']\n",
    "    \n",
    "    spect_localizing = pd.notnull(spect) and spect not in ['No Scan', 'Non-localizing']\n",
    "    sestamibi_localizing = pd.notnull(sestamibi) and sestamibi not in ['No Scan', 'Non-localizing']\n",
    "    \n",
    "    if not pd.notnull(spect) and not pd.notnull(sestamibi):\n",
    "        return 'No SPECT/CT or Sestamibi Recorded'\n",
    "    elif spect_localizing and sestamibi_localizing:\n",
    "        return f\"SPECT: {spect} | Sestamibi: {sestamibi}\"\n",
    "    elif spect_localizing:\n",
    "        return f'SPECT/CT: {spect}'\n",
    "    elif sestamibi_localizing:\n",
    "        return f'Sestamibi: {sestamibi}'\n",
    "    else:\n",
    "        return 'Non-localizing'\n",
    "    \n",
    "preop_imaging_df['SPECT/CT-Sestamibi'] = preop_imaging_df.apply(check_spect_sestamibi, axis=1)\n",
    "preop_imaging_df['SPECT/CT-Sestamibi'].head()"
   ]
  },
  {
   "cell_type": "code",
   "execution_count": 4,
   "id": "50b7f1f2",
   "metadata": {},
   "outputs": [
    {
     "data": {
      "text/plain": [
       "285"
      ]
     },
     "execution_count": 4,
     "metadata": {},
     "output_type": "execute_result"
    }
   ],
   "source": [
    "# Define modality\n",
    "modality = 'SPECT/CT-Sestamibi'\n",
    "\n",
    "# Apply extract_side function if not already done to get imaging sides\n",
    "preop_imaging_df['SPECT/CT-Sestamibi Imaging Side'] = preop_imaging_df[modality].apply(extract_side)\n",
    "\n",
    "# Filter to scans that localized anywhere (Left, Right)\n",
    "localized_spectmibi = preop_imaging_df[preop_imaging_df['SPECT/CT-Sestamibi Imaging Side'].isin(['Left', 'Right'])].copy()\n",
    "\n",
    "# Count total localized scans\n",
    "total_localized_spectmibi = localized_spectmibi.shape[0]\n",
    "total_localized_spectmibi"
   ]
  },
  {
   "cell_type": "code",
   "execution_count": 5,
   "id": "752246e2",
   "metadata": {},
   "outputs": [],
   "source": [
    "def check_concordance(row):\n",
    "    imaging = row['SPECT/CT-Sestamibi']\n",
    "    surgical = row['Surgical_Findings']\n",
    "    \n",
    "    if pd.isnull(imaging) or pd.isnull(surgical):\n",
    "        return 'Unknown'\n",
    "    imaging_glands = [g.strip() for g in imaging.split(',')]\n",
    "    surgical_glands = [g.strip() for g in surgical.split(',')]\n",
    "    \n",
    "    if any(sg in imaging_glands for sg in surgical_glands):\n",
    "        return 'Yes (Exact)'\n",
    "    \n",
    "    imaging_sides = []\n",
    "    for ig in imaging_glands:\n",
    "        if 'Left' in ig:\n",
    "            imaging_sides.append('Left')\n",
    "        if 'Right' in ig:\n",
    "            imaging_sides.append('Right')\n",
    "    \n",
    "    surgical_sides = []\n",
    "    for sg in surgical_glands:\n",
    "        if 'Left' in sg:\n",
    "            surgical_sides.append('Left')\n",
    "        if 'Right' in sg:\n",
    "            surgical_sides.append('Right')\n",
    "    \n",
    "    if any(side in surgical_sides for side in imaging_sides):\n",
    "        return 'Yes (Side)'\n",
    "    \n",
    "    return 'Incorrect Localization'\n"
   ]
  },
  {
   "cell_type": "code",
   "execution_count": 6,
   "id": "30b9c851",
   "metadata": {},
   "outputs": [],
   "source": [
    "localized_spectmibi['Calculated Concordance'] = localized_spectmibi.apply(check_concordance, axis=1)\n",
    "\n",
    "false_positives = (localized_spectmibi['Calculated Concordance'] == 'Incorrect Localization').sum()\n",
    "true_positive = (\n",
    "    (localized_spectmibi['Calculated Concordance'] == 'Yes (Exact)') |\n",
    "    (localized_spectmibi['Calculated Concordance'] == 'Yes (Side)')\n",
    ").sum()\n",
    "\n",
    "ppv = true_positive / (true_positive + false_positives)"
   ]
  },
  {
   "cell_type": "code",
   "execution_count": 7,
   "id": "efea1f9c",
   "metadata": {},
   "outputs": [
    {
     "name": "stdout",
     "output_type": "stream",
     "text": [
      "Positive Predictive Value (PPV) for localized SPECT/CT + Sestamibi scans: 94.74%\n"
     ]
    }
   ],
   "source": [
    "print(f\"Positive Predictive Value (PPV) for localized SPECT/CT + Sestamibi scans: {ppv:.2%}\")"
   ]
  },
  {
   "cell_type": "code",
   "execution_count": null,
   "id": "aa1539ec",
   "metadata": {},
   "outputs": [],
   "source": []
  }
 ],
 "metadata": {
  "kernelspec": {
   "display_name": "base",
   "language": "python",
   "name": "python3"
  },
  "language_info": {
   "codemirror_mode": {
    "name": "ipython",
    "version": 3
   },
   "file_extension": ".py",
   "mimetype": "text/x-python",
   "name": "python",
   "nbconvert_exporter": "python",
   "pygments_lexer": "ipython3",
   "version": "3.12.4"
  }
 },
 "nbformat": 4,
 "nbformat_minor": 5
}
