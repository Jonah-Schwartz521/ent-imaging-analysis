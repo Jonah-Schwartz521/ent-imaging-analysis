{
 "cells": [
  {
   "cell_type": "markdown",
   "id": "49e8a375",
   "metadata": {},
   "source": [
    "## SPECT/CT + Sestamibi Concordance and PPV Analysis\n",
    "\n",
    "This section calculates:\n",
    "\n",
    "- The number and percentage of Exact, Side, Partial, and Incorrect localizations for SPECT/CT + Sestamibi scans.\n",
    "- The Positive Predictive Value (PPV), defined as:\n",
    "\n",
    "\\[\n",
    "PPV = \\frac{\\text{True Positives (Exact + Side + Partial matches)}}{\\text{True Positives + False Positives (Incorrect Localization)}}\n",
    "\\]\n",
    "\n",
    "Only scans that localized (i.e. not Non-localizing or No Scan) are included.\n",
    "\n",
    "The concordance function considers exact gland matches, partial matches (some but not all glands), and side matches (correct side but not exact gland)."
   ]
  },
  {
   "cell_type": "code",
   "execution_count": 2,
   "id": "e2ad916a",
   "metadata": {},
   "outputs": [],
   "source": [
    "import pandas as pd \n",
    "# preop_imaging_df = pd.read_excel('../../Data/side_concordance_results.xlsx')\n",
    "preop_imaging_df = pd.read_excel('../../Data/final_imaging_data.xlsx')"
   ]
  },
  {
   "cell_type": "code",
   "execution_count": 3,
   "id": "0e7cc9ba",
   "metadata": {},
   "outputs": [],
   "source": [
    "def check_concordance(row):\n",
    "    imaging = row['SPECT/CT-Sestamibi']\n",
    "    surgical = row['Surgical Findings']\n",
    "\n",
    "    if pd.isnull(imaging) or pd.isnull(surgical):\n",
    "        return 'Unknown'\n",
    "\n",
    "    # Clean imaging string\n",
    "    imaging_clean = imaging.replace('SPECT/CT:', '').replace('Sestamibi:', '').replace('|', ',').strip()\n",
    "\n",
    "    if imaging_clean == 'No SPECT/CT or Sestamibi Recorded':\n",
    "        return 'Unknown'\n",
    "\n",
    "    # Hyperplasia always Incorrect Localization\n",
    "    if 'hyperplasia' in surgical.lower():\n",
    "        return 'Incorrect Localization'\n",
    "\n",
    "    if imaging_clean == 'Non-localizing':\n",
    "        return 'Non-localizing'\n",
    "\n",
    "    imaging_glands = [g.strip().lower() for g in imaging_clean.split(',')]\n",
    "    surgical_glands = [g.strip().lower() for g in surgical.split(',')]\n",
    "\n",
    "    imaging_set = set(imaging_glands)\n",
    "    surgical_set = set(surgical_glands)\n",
    "\n",
    "    if surgical_set.issubset(imaging_set):\n",
    "        return 'Yes (Exact)'\n",
    "    elif imaging_set & surgical_set:\n",
    "        return 'Yes (Partial)'\n",
    "\n",
    "    # Side match check\n",
    "    imaging_sides = ['left' for ig in imaging_glands if 'left' in ig] + \\\n",
    "                    ['right' for ig in imaging_glands if 'right' in ig]\n",
    "    surgical_sides = ['left' for sg in surgical_glands if 'left' in sg] + \\\n",
    "                     ['right' for sg in surgical_glands if 'right' in sg]\n",
    "\n",
    "    if any(side in surgical_sides for side in imaging_sides):\n",
    "        return 'Yes (Side)'\n",
    "\n",
    "    return 'Incorrect Localization'"
   ]
  },
  {
   "cell_type": "code",
   "execution_count": 4,
   "id": "7cde51b0",
   "metadata": {},
   "outputs": [
    {
     "name": "stdout",
     "output_type": "stream",
     "text": [
      " Total localized SPECT/CT + Sestamibi scans analyzed: 299\n"
     ]
    },
    {
     "data": {
      "text/html": [
       "<div>\n",
       "<style scoped>\n",
       "    .dataframe tbody tr th:only-of-type {\n",
       "        vertical-align: middle;\n",
       "    }\n",
       "\n",
       "    .dataframe tbody tr th {\n",
       "        vertical-align: top;\n",
       "    }\n",
       "\n",
       "    .dataframe thead th {\n",
       "        text-align: right;\n",
       "    }\n",
       "</style>\n",
       "<table border=\"1\" class=\"dataframe\">\n",
       "  <thead>\n",
       "    <tr style=\"text-align: right;\">\n",
       "      <th></th>\n",
       "      <th>Match Type</th>\n",
       "      <th>Count</th>\n",
       "      <th>Percentage</th>\n",
       "    </tr>\n",
       "  </thead>\n",
       "  <tbody>\n",
       "    <tr>\n",
       "      <th>0</th>\n",
       "      <td>Exact Match</td>\n",
       "      <td>117</td>\n",
       "      <td>39.13%</td>\n",
       "    </tr>\n",
       "    <tr>\n",
       "      <th>1</th>\n",
       "      <td>Side Match</td>\n",
       "      <td>137</td>\n",
       "      <td>45.82%</td>\n",
       "    </tr>\n",
       "    <tr>\n",
       "      <th>2</th>\n",
       "      <td>Partial Match</td>\n",
       "      <td>16</td>\n",
       "      <td>5.35%</td>\n",
       "    </tr>\n",
       "    <tr>\n",
       "      <th>3</th>\n",
       "      <td>Incorrect Localization</td>\n",
       "      <td>16</td>\n",
       "      <td>5.35%</td>\n",
       "    </tr>\n",
       "  </tbody>\n",
       "</table>\n",
       "</div>"
      ],
      "text/plain": [
       "               Match Type  Count Percentage\n",
       "0             Exact Match    117     39.13%\n",
       "1              Side Match    137     45.82%\n",
       "2           Partial Match     16      5.35%\n",
       "3  Incorrect Localization     16      5.35%"
      ]
     },
     "metadata": {},
     "output_type": "display_data"
    }
   ],
   "source": [
    "# Apply to dataframe\n",
    "preop_imaging_df['SPECT/CT-Sestamibi Calculated Concordance'] = preop_imaging_df.apply(check_concordance, axis=1)\n",
    "\n",
    "# Filter only localized scans (exclude Non-localizing and No Scan)\n",
    "localized_df = preop_imaging_df[\n",
    "    ~preop_imaging_df['SPECT/CT-Sestamibi'].isin(['No Scan', 'Non-localizing'])\n",
    "]\n",
    "\n",
    "# Calculate counts\n",
    "concordance_col = 'SPECT/CT-Sestamibi Calculated Concordance'\n",
    "total = localized_df.shape[0]\n",
    "exact = (localized_df[concordance_col] == 'Yes (Exact)').sum()\n",
    "side = (localized_df[concordance_col] == 'Yes (Side)').sum()\n",
    "partial = (localized_df[concordance_col] == 'Yes (Partial)').sum()\n",
    "incorrect = (localized_df[concordance_col] == 'Incorrect Localization').sum()\n",
    "\n",
    "\n",
    "# Create summary table\n",
    "summary_df = pd.DataFrame({\n",
    "    'Match Type': ['Exact Match', 'Side Match', 'Partial Match', 'Incorrect Localization'],\n",
    "    'Count': [exact, side, partial, incorrect],\n",
    "    'Percentage': [f\"{(c/total)*100:.2f}%\" if total > 0 else 'N/A' for c in [exact, side, partial, incorrect]]\n",
    "})\n",
    "\n",
    "print(f\" Total localized SPECT/CT + Sestamibi scans analyzed: {total}\")\n",
    "display(summary_df)\n"
   ]
  },
  {
   "cell_type": "code",
   "execution_count": 7,
   "id": "813ec41d",
   "metadata": {},
   "outputs": [
    {
     "name": "stdout",
     "output_type": "stream",
     "text": [
      "PPV for localized SPECT/CT + Sestamibi scans: 94.41%\n"
     ]
    }
   ],
   "source": [
    "# Apply to dataframe\n",
    "preop_imaging_df['SPECT/CT-Sestamibi Calculated Concordance'] = preop_imaging_df.apply(check_concordance, axis=1)\n",
    "\n",
    "# Filter only localized scans (exclude Non-localizing and No Scan)\n",
    "localized_df = preop_imaging_df[\n",
    "    ~preop_imaging_df['SPECT/CT-Sestamibi'].isin(['No Scan', 'Non-localizing'])\n",
    "]\n",
    "\n",
    "# Calculate counts directly from localized_df\n",
    "concordance_col = 'SPECT/CT-Sestamibi Calculated Concordance'\n",
    "exact = (localized_df[concordance_col] == 'Yes (Exact)').sum()\n",
    "side = (localized_df[concordance_col] == 'Yes (Side)').sum()\n",
    "partial = (localized_df[concordance_col] == 'Yes (Partial)').sum()\n",
    "incorrect = (localized_df[concordance_col] == 'Incorrect Localization').sum()\n",
    "\n",
    "# Calculate PPV\n",
    "true_positives = exact + side + partial\n",
    "false_positives = incorrect\n",
    "\n",
    "ppv = true_positives / (true_positives + false_positives) if (true_positives + false_positives) > 0 else None\n",
    "\n",
    "print(f\"PPV for localized SPECT/CT + Sestamibi scans: {ppv:.2%}\" if ppv is not None else \"PPV cannot be calculated.\")"
   ]
  },
  {
   "cell_type": "code",
   "execution_count": null,
   "id": "52061ba5",
   "metadata": {},
   "outputs": [],
   "source": []
  }
 ],
 "metadata": {
  "kernelspec": {
   "display_name": "base",
   "language": "python",
   "name": "python3"
  },
  "language_info": {
   "codemirror_mode": {
    "name": "ipython",
    "version": 3
   },
   "file_extension": ".py",
   "mimetype": "text/x-python",
   "name": "python",
   "nbconvert_exporter": "python",
   "pygments_lexer": "ipython3",
   "version": "3.12.4"
  }
 },
 "nbformat": 4,
 "nbformat_minor": 5
}
