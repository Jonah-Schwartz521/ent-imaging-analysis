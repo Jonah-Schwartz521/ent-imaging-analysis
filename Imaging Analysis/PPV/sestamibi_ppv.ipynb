{
 "cells": [
  {
   "cell_type": "code",
   "execution_count": 20,
   "id": "178977cc",
   "metadata": {},
   "outputs": [],
   "source": [
    "import pandas as pd \n",
    "preop_imaging_df = pd.read_excel('../../Data/side_concordance_results.xlsx')"
   ]
  },
  {
   "cell_type": "code",
   "execution_count": 21,
   "id": "e1b87100",
   "metadata": {},
   "outputs": [],
   "source": [
    "def extract_side(location):\n",
    "    if pd.isnull(location):\n",
    "        return 'No Scan'\n",
    "    \n",
    "    if 'Left' in location:\n",
    "        return 'Left'\n",
    "    elif 'Right' in location:\n",
    "        return 'Right'\n",
    "    else:\n",
    "        return 'Unknown'\n",
    "    \n",
    "preop_imaging_df['Surgical Side'] = preop_imaging_df['Surgical_Findings'].apply(extract_side)\n"
   ]
  },
  {
   "cell_type": "code",
   "execution_count": 22,
   "id": "305f5459",
   "metadata": {},
   "outputs": [
    {
     "data": {
      "text/plain": [
       "113"
      ]
     },
     "execution_count": 22,
     "metadata": {},
     "output_type": "execute_result"
    }
   ],
   "source": [
    "# Define modality\n",
    "modality = 'Sestamibi'\n",
    "\n",
    "# Apply extract_side function if not already done to get imaging sides\n",
    "preop_imaging_df['Sestamibi Imaging Side'] = preop_imaging_df[modality].apply(extract_side)\n",
    "\n",
    "# Filter to scans that localized anywhere (Left, Right)\n",
    "localized_sestamibi = preop_imaging_df[preop_imaging_df['Sestamibi Imaging Side'].isin(['Left', 'Right'])].copy()\n",
    "\n",
    "# Count total localized scans\n",
    "total_localized_sestamibi = localized_sestamibi.shape[0]\n",
    "total_localized_sestamibi"
   ]
  },
  {
   "cell_type": "code",
   "execution_count": 23,
   "id": "303dcc94",
   "metadata": {},
   "outputs": [],
   "source": [
    "def check_concordance(row):\n",
    "    imaging = row['Sestamibi']\n",
    "    surgical = row['Surgical_Findings']\n",
    "    \n",
    "    if pd.isnull(imaging) or pd.isnull(surgical):\n",
    "        return 'Unknown'\n",
    "    imaging_glands = [g.strip() for g in imaging.split(',')]\n",
    "    surgical_glands = [g.strip() for g in surgical.split(',')]\n",
    "    \n",
    "    if any(sg in imaging_glands for sg in surgical_glands):\n",
    "        return 'Yes (Exact)'\n",
    "    \n",
    "    imaging_sides = []\n",
    "    for ig in imaging_glands:\n",
    "        if 'Left' in ig:\n",
    "            imaging_sides.append('Left')\n",
    "        if 'Right' in ig:\n",
    "            imaging_sides.append('Right')\n",
    "    \n",
    "    surgical_sides = []\n",
    "    for sg in surgical_glands:\n",
    "        if 'Left' in sg:\n",
    "            surgical_sides.append('Left')\n",
    "        if 'Right' in sg:\n",
    "            surgical_sides.append('Right')\n",
    "    \n",
    "    if any(side in surgical_sides for side in imaging_sides):\n",
    "        return 'Yes (Side)'\n",
    "    \n",
    "    return 'Incorrect Localization'\n"
   ]
  },
  {
   "cell_type": "code",
   "execution_count": 25,
   "id": "4229a739",
   "metadata": {},
   "outputs": [],
   "source": [
    "localized_sestamibi['Calculated Concordance'] = localized_sestamibi.apply(check_concordance, axis=1)\n",
    "\n",
    "false_positives = (localized_sestamibi['Calculated Concordance'] == 'Incorrect Localization').sum()\n",
    "true_positive = (\n",
    "    (localized_sestamibi['Calculated Concordance'] == 'Yes (Exact)') |\n",
    "    (localized_sestamibi['Calculated Concordance'] == 'Yes (Side)')\n",
    ").sum()\n",
    "\n",
    "ppv = true_positive / (true_positive + false_positives)"
   ]
  },
  {
   "cell_type": "code",
   "execution_count": 28,
   "id": "4dd358dc",
   "metadata": {},
   "outputs": [
    {
     "name": "stdout",
     "output_type": "stream",
     "text": [
      "Positive Predictive Value (PPV) for localized Sestamibi scans: 99.12%\n"
     ]
    }
   ],
   "source": [
    "print(f\"Positive Predictive Value (PPV) for localized Sestamibi scans: {ppv:.2%}\")"
   ]
  },
  {
   "cell_type": "code",
   "execution_count": null,
   "id": "3d20f976",
   "metadata": {},
   "outputs": [],
   "source": []
  }
 ],
 "metadata": {
  "kernelspec": {
   "display_name": "base",
   "language": "python",
   "name": "python3"
  },
  "language_info": {
   "codemirror_mode": {
    "name": "ipython",
    "version": 3
   },
   "file_extension": ".py",
   "mimetype": "text/x-python",
   "name": "python",
   "nbconvert_exporter": "python",
   "pygments_lexer": "ipython3",
   "version": "3.12.4"
  }
 },
 "nbformat": 4,
 "nbformat_minor": 5
}
