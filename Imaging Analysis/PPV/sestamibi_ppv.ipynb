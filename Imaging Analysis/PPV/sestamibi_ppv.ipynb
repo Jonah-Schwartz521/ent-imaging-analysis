{
 "cells": [
  {
   "cell_type": "markdown",
   "id": "c3419c6d",
   "metadata": {},
   "source": [
    "### Sestamibi PPV\n",
    "\n",
    "Calculates PPV for Sestamibi scans that localized, using Exact and Side matches as true positives."
   ]
  },
  {
   "cell_type": "code",
   "execution_count": null,
   "id": "178977cc",
   "metadata": {},
   "outputs": [],
   "source": [
    "import pandas as pd \n",
    "preop_imaging_df = pd.read_excel('../../Data/final_imaging_data.xlsx')"
   ]
  },
  {
   "cell_type": "code",
   "execution_count": 10,
   "id": "305f5459",
   "metadata": {},
   "outputs": [
    {
     "data": {
      "text/plain": [
       "113"
      ]
     },
     "execution_count": 10,
     "metadata": {},
     "output_type": "execute_result"
    }
   ],
   "source": [
    "# Define modality\n",
    "modality = 'Sestamibi'\n",
    "\n",
    "# Apply extract_side function if not already done to get imaging sides\n",
    "# preop_imaging_df['Sestamibi Imaging Side'] = preop_imaging_df[modality].apply(extract_side)\n",
    "\n",
    "# Filter to scans that localized anywhere (Left, Right)\n",
    "localized_sestamibi = preop_imaging_df[preop_imaging_df['Sestamibi Imaging Side'].isin(['Left', 'Right'])].copy()\n",
    "\n",
    "# Count total localized scans\n",
    "total_localized_sestamibi = localized_sestamibi.shape[0]\n",
    "total_localized_sestamibi"
   ]
  },
  {
   "cell_type": "code",
   "execution_count": 12,
   "id": "4229a739",
   "metadata": {},
   "outputs": [
    {
     "name": "stdout",
     "output_type": "stream",
     "text": [
      "Positive Predictive Value (PPV) for localized Sestamibi scans: 99.05%\n"
     ]
    }
   ],
   "source": [
    "# Calculate PPV for localized Sestamibi scans using pre-calculated concordance\n",
    "\n",
    "false_positives = (localized_sestamibi['Sestamibi Calculated Concordance'] == 'Incorrect Localization').sum()\n",
    "true_positive = (\n",
    "    (localized_sestamibi['Sestamibi Calculated Concordance'] == 'Yes (Exact)') |\n",
    "    (localized_sestamibi['Sestamibi Calculated Concordance'] == 'Yes (Side)')\n",
    ").sum()\n",
    "\n",
    "# Calculate PPV\n",
    "ppv = true_positive / (true_positive + false_positives) if (true_positive + false_positives) > 0 else None\n",
    "\n",
    "# Print PPV result\n",
    "print(f\"Positive Predictive Value (PPV) for localized Sestamibi scans: {ppv:.2%}\" if ppv is not None else \"PPV cannot be calculated (no positive or negative cases).\")"
   ]
  },
  {
   "cell_type": "code",
   "execution_count": null,
   "id": "9f1a646d",
   "metadata": {},
   "outputs": [],
   "source": []
  }
 ],
 "metadata": {
  "kernelspec": {
   "display_name": "base",
   "language": "python",
   "name": "python3"
  },
  "language_info": {
   "codemirror_mode": {
    "name": "ipython",
    "version": 3
   },
   "file_extension": ".py",
   "mimetype": "text/x-python",
   "name": "python",
   "nbconvert_exporter": "python",
   "pygments_lexer": "ipython3",
   "version": "3.12.4"
  }
 },
 "nbformat": 4,
 "nbformat_minor": 5
}
