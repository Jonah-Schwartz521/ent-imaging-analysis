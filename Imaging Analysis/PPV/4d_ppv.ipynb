{
 "cells": [
  {
   "cell_type": "code",
   "execution_count": 2,
   "id": "fb273c98",
   "metadata": {},
   "outputs": [],
   "source": [
    "import pandas as pd \n",
    "preop_imaging_df = pd.read_excel('../../Data/side_concordance_results.xlsx')"
   ]
  },
  {
   "cell_type": "code",
   "execution_count": 3,
   "id": "444c1747",
   "metadata": {},
   "outputs": [],
   "source": [
    "def extract_side(location):\n",
    "    if pd.isnull(location):\n",
    "        return 'No Scan'\n",
    "    \n",
    "    if 'Left' in location:\n",
    "        return 'Left'\n",
    "    elif 'Right' in location:\n",
    "        return 'Right'\n",
    "    else:\n",
    "        return 'Unknown'\n",
    "    \n",
    "preop_imaging_df['Surgical Side'] = preop_imaging_df['Surgical_Findings'].apply(extract_side)\n"
   ]
  },
  {
   "cell_type": "code",
   "execution_count": 4,
   "id": "e74c8a33",
   "metadata": {},
   "outputs": [
    {
     "data": {
      "text/plain": [
       "171"
      ]
     },
     "execution_count": 4,
     "metadata": {},
     "output_type": "execute_result"
    }
   ],
   "source": [
    "# Define modality\n",
    "modality = '4D CT Scan'\n",
    "\n",
    "# Apply extract_side function if not already done to get imaging sides\n",
    "preop_imaging_df['4D CT Imaging Side'] = preop_imaging_df[modality].apply(extract_side)\n",
    "\n",
    "# Filter to scans that localized anywhere (Left, Right)\n",
    "localized_4dct = preop_imaging_df[preop_imaging_df['4D CT Imaging Side'].isin(['Left', 'Right'])].copy()\n",
    "\n",
    "# Count total localized scans\n",
    "total_localized_4dct = localized_4dct.shape[0]\n",
    "total_localized_4dct"
   ]
  },
  {
   "cell_type": "code",
   "execution_count": 6,
   "id": "6f354ec0",
   "metadata": {},
   "outputs": [],
   "source": [
    "def check_concordance(row):\n",
    "    imaging = row['Sestamibi']\n",
    "    surgical = row['Surgical_Findings']\n",
    "    \n",
    "    if pd.isnull(imaging) or pd.isnull(surgical):\n",
    "        return 'Unknown'\n",
    "    imaging_glands = [g.strip() for g in imaging.split(',')]\n",
    "    surgical_glands = [g.strip() for g in surgical.split(',')]\n",
    "    \n",
    "    if any(sg in imaging_glands for sg in surgical_glands):\n",
    "        return 'Yes (Exact)'\n",
    "    \n",
    "    imaging_sides = []\n",
    "    for ig in imaging_glands:\n",
    "        if 'Left' in ig:\n",
    "            imaging_sides.append('Left')\n",
    "        if 'Right' in ig:\n",
    "            imaging_sides.append('Right')\n",
    "    \n",
    "    surgical_sides = []\n",
    "    for sg in surgical_glands:\n",
    "        if 'Left' in sg:\n",
    "            surgical_sides.append('Left')\n",
    "        if 'Right' in sg:\n",
    "            surgical_sides.append('Right')\n",
    "    \n",
    "    if any(side in surgical_sides for side in imaging_sides):\n",
    "        return 'Yes (Side)'\n",
    "    \n",
    "    return 'Incorrect Localization'\n"
   ]
  },
  {
   "cell_type": "code",
   "execution_count": 7,
   "id": "dba3f792",
   "metadata": {},
   "outputs": [
    {
     "name": "stdout",
     "output_type": "stream",
     "text": [
      "Positive Predictive Value (PPV) for localized 4D CT scans: 62.71%\n"
     ]
    }
   ],
   "source": [
    "localized_4dct['Calculated Concordance'] = localized_4dct.apply(check_concordance, axis=1)\n",
    "\n",
    "false_positives = (localized_4dct['Calculated Concordance'] == 'Incorrect Localization').sum()\n",
    "true_positive = (\n",
    "    (localized_4dct['Calculated Concordance'] == 'Yes (Exact)') |\n",
    "    (localized_4dct['Calculated Concordance'] == 'Yes (Side)')\n",
    ").sum()\n",
    "\n",
    "ppv = true_positive / (true_positive + false_positives)\n",
    "\n",
    "print(f\"Positive Predictive Value (PPV) for localized 4D CT scans: {ppv:.2%}\")"
   ]
  },
  {
   "cell_type": "code",
   "execution_count": null,
   "id": "2331101d",
   "metadata": {},
   "outputs": [],
   "source": []
  }
 ],
 "metadata": {
  "kernelspec": {
   "display_name": "base",
   "language": "python",
   "name": "python3"
  },
  "language_info": {
   "codemirror_mode": {
    "name": "ipython",
    "version": 3
   },
   "file_extension": ".py",
   "mimetype": "text/x-python",
   "name": "python",
   "nbconvert_exporter": "python",
   "pygments_lexer": "ipython3",
   "version": "3.12.4"
  }
 },
 "nbformat": 4,
 "nbformat_minor": 5
}
