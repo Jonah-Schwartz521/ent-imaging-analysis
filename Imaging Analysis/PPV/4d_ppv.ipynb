{
 "cells": [
  {
   "cell_type": "markdown",
   "id": "5b2507d2",
   "metadata": {},
   "source": [
    "### 4D CT PPV Analysis\n",
    "\n",
    "Calculates the **Positive Predictive Value (PPV)** for 4D CT scans:\n",
    "\n",
    "- **PPV = True Positives / (True Positives + False Positives)**\n",
    "- **True Positives:** Exact, Side, or Partial matches\n",
    "- **False Positives:** Incorrect Localization\n",
    "\n",
    "Outputs total localized scans, match counts, and PPV %."
   ]
  },
  {
   "cell_type": "code",
   "execution_count": null,
   "id": "fb273c98",
   "metadata": {},
   "outputs": [],
   "source": [
    "import pandas as pd \n",
    "preop_imaging_df = pd.read_excel('../../Data/final_imaging_data.xlsx')"
   ]
  },
  {
   "cell_type": "code",
   "execution_count": 7,
   "id": "444c1747",
   "metadata": {},
   "outputs": [],
   "source": [
    "# Filter to 4D CT scans that localized (Left or Right)\n",
    "localized_4dct = preop_imaging_df[\n",
    "    preop_imaging_df['4D CT Imaging Side'].isin(['Left', 'Right'])\n",
    "].copy()\n",
    "\n",
    "# Calculate total localized scans\n",
    "total_localized_4dct = localized_4dct.shape[0]\n",
    "\n",
    "# Calculate true positives (Exact, Side, Partial) and false positives (Incorrect Localization)\n",
    "true_positives = localized_4dct['4D CT Scan Calculated Concordance'].isin(\n",
    "    ['Yes (Exact)', 'Yes (Side)', 'Yes (Partial)']\n",
    ").sum()\n",
    "\n",
    "false_positives = (localized_4dct['4D CT Scan Calculated Concordance'] == 'Incorrect Localization').sum()\n",
    "\n",
    "# Calculate PPV\n",
    "ppv = true_positives / (true_positives + false_positives) if (true_positives + false_positives) > 0 else None"
   ]
  },
  {
   "cell_type": "code",
   "execution_count": 9,
   "id": "7db57251",
   "metadata": {},
   "outputs": [
    {
     "name": "stdout",
     "output_type": "stream",
     "text": [
      "4D CT Positive Predictive Value (PPV) Summary\n"
     ]
    },
    {
     "data": {
      "text/html": [
       "<div>\n",
       "<style scoped>\n",
       "    .dataframe tbody tr th:only-of-type {\n",
       "        vertical-align: middle;\n",
       "    }\n",
       "\n",
       "    .dataframe tbody tr th {\n",
       "        vertical-align: top;\n",
       "    }\n",
       "\n",
       "    .dataframe thead th {\n",
       "        text-align: right;\n",
       "    }\n",
       "</style>\n",
       "<table border=\"1\" class=\"dataframe\">\n",
       "  <thead>\n",
       "    <tr style=\"text-align: right;\">\n",
       "      <th></th>\n",
       "      <th>Metric</th>\n",
       "      <th>Value</th>\n",
       "    </tr>\n",
       "  </thead>\n",
       "  <tbody>\n",
       "    <tr>\n",
       "      <th>0</th>\n",
       "      <td>Total localized 4D CT scans</td>\n",
       "      <td>171</td>\n",
       "    </tr>\n",
       "    <tr>\n",
       "      <th>1</th>\n",
       "      <td>True Positives (Exact/Side/Partial)</td>\n",
       "      <td>146</td>\n",
       "    </tr>\n",
       "    <tr>\n",
       "      <th>2</th>\n",
       "      <td>False Positives (Incorrect Localization)</td>\n",
       "      <td>25</td>\n",
       "    </tr>\n",
       "    <tr>\n",
       "      <th>3</th>\n",
       "      <td>PPV</td>\n",
       "      <td>85.38%</td>\n",
       "    </tr>\n",
       "  </tbody>\n",
       "</table>\n",
       "</div>"
      ],
      "text/plain": [
       "                                     Metric   Value\n",
       "0               Total localized 4D CT scans     171\n",
       "1       True Positives (Exact/Side/Partial)     146\n",
       "2  False Positives (Incorrect Localization)      25\n",
       "3                                       PPV  85.38%"
      ]
     },
     "metadata": {},
     "output_type": "display_data"
    }
   ],
   "source": [
    "# Create results summary dataframe\n",
    "ppv_summary_df = pd.DataFrame({\n",
    "    'Metric': [\n",
    "        'Total localized 4D CT scans',\n",
    "        'True Positives (Exact/Side/Partial)',\n",
    "        'False Positives (Incorrect Localization)',\n",
    "        'PPV'\n",
    "    ],\n",
    "    'Value': [\n",
    "        total_localized_4dct,\n",
    "        true_positives,\n",
    "        false_positives,\n",
    "        f\"{ppv:.2%}\" if ppv is not None else 'N/A'\n",
    "    ]\n",
    "})\n",
    "\n",
    "# Display results\n",
    "print(\"4D CT Positive Predictive Value (PPV) Summary\")\n",
    "display(ppv_summary_df)"
   ]
  },
  {
   "cell_type": "code",
   "execution_count": null,
   "id": "e4d0e45f",
   "metadata": {},
   "outputs": [],
   "source": []
  }
 ],
 "metadata": {
  "kernelspec": {
   "display_name": "base",
   "language": "python",
   "name": "python3"
  },
  "language_info": {
   "codemirror_mode": {
    "name": "ipython",
    "version": 3
   },
   "file_extension": ".py",
   "mimetype": "text/x-python",
   "name": "python",
   "nbconvert_exporter": "python",
   "pygments_lexer": "ipython3",
   "version": "3.12.4"
  }
 },
 "nbformat": 4,
 "nbformat_minor": 5
}
