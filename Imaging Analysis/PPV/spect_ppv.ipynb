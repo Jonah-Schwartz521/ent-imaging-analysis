{
 "cells": [
  {
   "cell_type": "markdown",
   "id": "869c11dc",
   "metadata": {},
   "source": [
    "### SPECT/CT PPV Calculation\n",
    "\n",
    "- Calculates PPV for localized SPECT/CT scans using updated concordance logic.\n",
    "- Includes exact and side matches as true positives.\n",
    "\n",
    "Output: PPV percentage for SPECT/CT."
   ]
  },
  {
   "cell_type": "code",
   "execution_count": 5,
   "id": "0e612af9",
   "metadata": {},
   "outputs": [],
   "source": [
    "import pandas as pd \n",
    "preop_imaging_df = pd.read_excel('../../Data/final_imaging_data.xlsx')"
   ]
  },
  {
   "cell_type": "code",
   "execution_count": 6,
   "id": "9931a825",
   "metadata": {},
   "outputs": [],
   "source": [
    "def check_concordance(row, modality_col):\n",
    "    imaging = row[modality_col]\n",
    "    surgical = row['Surgical Findings']\n",
    "\n",
    "    # Return Unknown if imaging or surgical data is missing\n",
    "    if pd.isnull(imaging) or pd.isnull(surgical):\n",
    "        return 'Unknown'\n",
    "\n",
    "    # Handle special cases\n",
    "    if imaging == 'No Scan':\n",
    "        return 'No Scan'\n",
    "    if imaging == 'Non-localizing':\n",
    "        return 'Non-localizing'\n",
    "    if 'hyperplasia' in surgical.lower():\n",
    "        return 'Incorrect Localization'\n",
    "\n",
    "    imaging_glands = [g.strip().lower() for g in imaging.split(',')]\n",
    "    surgical_glands = [g.strip().lower() for g in surgical.split(',')]\n",
    "    imaging_set = set(imaging_glands)\n",
    "    surgical_set = set(surgical_glands)\n",
    "\n",
    "    if surgical_set.issubset(imaging_set):\n",
    "        return 'Yes (Exact)'\n",
    "    if imaging_set & surgical_set:\n",
    "        return 'Yes (Partial)'\n",
    "\n",
    "    imaging_sides = ['left' for ig in imaging_glands if 'left' in ig] + \\\n",
    "                    ['right' for ig in imaging_glands if 'right' in ig]\n",
    "    surgical_sides = ['left' for sg in surgical_glands if 'left' in sg] + \\\n",
    "                     ['right' for sg in surgical_glands if 'right' in sg]\n",
    "\n",
    "    if any(side in surgical_sides for side in imaging_sides):\n",
    "        if len(surgical_glands) > 1:\n",
    "            return 'Yes (Partial)'\n",
    "        else:\n",
    "            return 'Yes (Side)'\n",
    "\n",
    "    return 'Incorrect Localization'\n"
   ]
  },
  {
   "cell_type": "code",
   "execution_count": null,
   "id": "861f6290",
   "metadata": {},
   "outputs": [
    {
     "name": "stdout",
     "output_type": "stream",
     "text": [
      "Positive Predictive Value (PPV) for localized SPECT/CT scans: 90.26%\n"
     ]
    }
   ],
   "source": [
    "# Define modality\n",
    "modality = 'SPECT/CT'\n",
    "\n",
    "# Calculate concordance \n",
    "preop_imaging_df['SPECT/CT Calculated Concordance'] = preop_imaging_df.apply(\n",
    "    lambda row: check_concordance(row, modality),\n",
    "    axis=1\n",
    ")\n",
    "\n",
    "# Filter to scans that localized (exclude Non-localizing, No Scan, Unknown)\n",
    "localized_spect = preop_imaging_df[\n",
    "    ~preop_imaging_df['SPECT/CT Calculated Concordance'].isin(['Non-localizing', 'No Scan', 'Unknown'])\n",
    "].copy()\n",
    "\n",
    "# Count total localized scans\n",
    "total_localized_spect = localized_spect.shape[0]\n",
    "\n",
    "# Calculate true positives (Exact + Side matches)\n",
    "true_positive = (\n",
    "    (localized_spect['SPECT/CT Calculated Concordance'] == 'Yes (Exact)') |\n",
    "    (localized_spect['SPECT/CT Calculated Concordance'] == 'Yes (Side)')\n",
    ").sum()\n",
    "\n",
    "# Calculate false positives and ppv\n",
    "false_positive = (localized_spect['SPECT/CT Calculated Concordance'] == 'Incorrect Localization').sum()\n",
    "ppv = true_positive / (true_positive + false_positive) if (true_positive + false_positive) > 0 else None\n",
    "\n",
    "print(f\"Positive Predictive Value (PPV) for localized SPECT/CT scans: {ppv:.2%}\" if ppv is not None else \"PPV cannot be calculated (no positive or negative cases).\")"
   ]
  }
 ],
 "metadata": {
  "kernelspec": {
   "display_name": "base",
   "language": "python",
   "name": "python3"
  },
  "language_info": {
   "codemirror_mode": {
    "name": "ipython",
    "version": 3
   },
   "file_extension": ".py",
   "mimetype": "text/x-python",
   "name": "python",
   "nbconvert_exporter": "python",
   "pygments_lexer": "ipython3",
   "version": "3.12.4"
  }
 },
 "nbformat": 4,
 "nbformat_minor": 5
}
