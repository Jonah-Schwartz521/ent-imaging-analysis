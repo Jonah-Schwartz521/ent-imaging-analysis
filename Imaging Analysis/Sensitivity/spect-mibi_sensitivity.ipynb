{
 "cells": [
  {
   "cell_type": "markdown",
   "id": "eb541085",
   "metadata": {},
   "source": [
    "### SPECT/CT + Sestamibi Sensitivity\n",
    "\n",
    "- Applied custom concordance logic to classify scan outcomes.\n",
    "- Counted true positives: `Yes (Exact)` or `Yes (Side)`.\n",
    "- Counted false negatives: `Non-localizing` scans.\n",
    "- Calculated sensitivity:  \n",
    "  **Sensitivity = TP / (TP + FN)**"
   ]
  },
  {
   "cell_type": "code",
   "execution_count": 1,
   "id": "985a2d38",
   "metadata": {},
   "outputs": [],
   "source": [
    "import pandas as pd \n",
    "# preop_imaging_df = pd.read_excel('../../Data/side_concordance_results.xlsx')\n",
    "preop_imaging_df = pd.read_excel('../../Data/final_imaging_data.xlsx')"
   ]
  },
  {
   "cell_type": "code",
   "execution_count": 9,
   "id": "cd698921",
   "metadata": {},
   "outputs": [],
   "source": [
    "def check_concordance(row):\n",
    "    imaging = row['SPECT/CT-Sestamibi']\n",
    "    surgical = row['Surgical Findings']\n",
    "\n",
    "    if pd.isnull(imaging) or pd.isnull(surgical):\n",
    "        return 'Unknown'\n",
    "\n",
    "    # Clean imaging string\n",
    "    imaging_clean = imaging.replace('SPECT/CT:', '').replace('Sestamibi:', '').replace('|', ',').strip()\n",
    "\n",
    "    if imaging_clean == 'No SPECT/CT or Sestamibi Recorded':\n",
    "        return 'Unknown'\n",
    "\n",
    "    # Hyperplasia always Incorrect Localization\n",
    "    if 'hyperplasia' in surgical.lower():\n",
    "        return 'Incorrect Localization'\n",
    "\n",
    "    if imaging_clean == 'Non-localizing':\n",
    "        return 'Non-localizing'\n",
    "\n",
    "    imaging_glands = [g.strip().lower() for g in imaging_clean.split(',')]\n",
    "    surgical_glands = [g.strip().lower() for g in surgical.split(',')]\n",
    "\n",
    "    imaging_set = set(imaging_glands)\n",
    "    surgical_set = set(surgical_glands)\n",
    "\n",
    "    if surgical_set.issubset(imaging_set):\n",
    "        return 'Yes (Exact)'\n",
    "    elif imaging_set & surgical_set:\n",
    "        return 'Yes (Partial)'\n",
    "\n",
    "    # Side match check\n",
    "    imaging_sides = ['left' for ig in imaging_glands if 'left' in ig] + \\\n",
    "                    ['right' for ig in imaging_glands if 'right' in ig]\n",
    "    surgical_sides = ['left' for sg in surgical_glands if 'left' in sg] + \\\n",
    "                     ['right' for sg in surgical_glands if 'right' in sg]\n",
    "\n",
    "    if any(side in surgical_sides for side in imaging_sides):\n",
    "        return 'Yes (Side)'\n",
    "\n",
    "    return 'Incorrect Localization'"
   ]
  },
  {
   "cell_type": "code",
   "execution_count": 13,
   "id": "894c14e3",
   "metadata": {},
   "outputs": [
    {
     "name": "stdout",
     "output_type": "stream",
     "text": [
      "SPECT/CT + Sestamibi Sensitivity: 72.78% (254 TP / 349 total)\n"
     ]
    }
   ],
   "source": [
    "# Apply concordance function\n",
    "preop_imaging_df['Calculated Concordance'] = preop_imaging_df.apply(check_concordance, axis=1)\n",
    "\n",
    "# Filter for localized scans\n",
    "localized_spectmibi = preop_imaging_df[\n",
    "    preop_imaging_df['Calculated Concordance'].isin(['Yes (Exact)', 'Yes (Side)'])\n",
    "].copy()\n",
    "\n",
    "nonlocalized = preop_imaging_df[\n",
    "    preop_imaging_df['Calculated Concordance'] == 'Non-localizing'\n",
    "].copy()\n",
    "\n",
    "# Sensitivity calculation\n",
    "true_positives = localized_spectmibi['Calculated Concordance'].isin(['Yes (Exact)', 'Yes (Side)']).sum()\n",
    "false_negatives = nonlocalized.shape[0]\n",
    "sensitivity = true_positives / (true_positives + false_negatives)\n",
    "\n",
    "print(f\"SPECT/CT + Sestamibi Sensitivity: {sensitivity:.2%} ({true_positives} TP / {true_positives + false_negatives} total)\")"
   ]
  },
  {
   "cell_type": "code",
   "execution_count": null,
   "id": "cfc86dff",
   "metadata": {},
   "outputs": [],
   "source": []
  }
 ],
 "metadata": {
  "kernelspec": {
   "display_name": "base",
   "language": "python",
   "name": "python3"
  },
  "language_info": {
   "codemirror_mode": {
    "name": "ipython",
    "version": 3
   },
   "file_extension": ".py",
   "mimetype": "text/x-python",
   "name": "python",
   "nbconvert_exporter": "python",
   "pygments_lexer": "ipython3",
   "version": "3.12.4"
  }
 },
 "nbformat": 4,
 "nbformat_minor": 5
}
