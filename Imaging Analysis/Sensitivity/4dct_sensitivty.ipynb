{
 "cells": [
  {
   "cell_type": "markdown",
   "id": "c341d8be",
   "metadata": {},
   "source": [
    "## 4D CT Sensitivity\n",
    "\n",
    "This cell calculates the **sensitivity** of 4D CT scans:\n",
    "\n",
    "**Sensitivity = True Positives / (True Positives + False Negatives)**\n",
    "\n",
    "- **True Positives**: Scans with Exact or Side match\n",
    "- **False Negatives**: Scans labeled as *Non-localizing*"
   ]
  },
  {
   "cell_type": "code",
   "execution_count": null,
   "id": "9f081bcf",
   "metadata": {},
   "outputs": [],
   "source": [
    "import pandas as pd \n",
    "preop_imaging_df = pd.read_excel('../../Data/final_imaging_data.xlsx')"
   ]
  },
  {
   "cell_type": "code",
   "execution_count": 2,
   "id": "9f779c52",
   "metadata": {},
   "outputs": [
    {
     "data": {
      "text/plain": [
       "125"
      ]
     },
     "execution_count": 2,
     "metadata": {},
     "output_type": "execute_result"
    }
   ],
   "source": [
    "# Define modality\n",
    "modality = '4D CT Scan'\n",
    "\n",
    "# Apply extract_side function if not already done to get imaging sides\n",
    "# preop_imaging_df['4D CT Imaging Side'] = preop_imaging_df[modality].apply(extract_side)\n",
    "\n",
    "# Filter to scans that localized anywhere (Left, Right)\n",
    "localized_4dct = preop_imaging_df[preop_imaging_df['4D CT Imaging Side'].isin(['Left', 'Right'])].copy()\n",
    "nonlocalized_4dct = preop_imaging_df[preop_imaging_df[modality] == 'Non-localizing'].copy()\n",
    "# total localized and non-localized sestamibi\n",
    "# localized_4dct['Calculated Concordance'] =localized_4dct.apply(check_concordance, axis=1)\n",
    "\n",
    "\n",
    "true_positives = localized_4dct['4D CT Scan Calculated Concordance'].isin(['Yes (Exact)', 'Yes (Side)']).sum()\n",
    "false_negatives = nonlocalized_4dct.shape[0]\n",
    "false_negatives \n",
    "true_positives\n",
    "\n"
   ]
  },
  {
   "cell_type": "code",
   "execution_count": 3,
   "id": "ee111a5a",
   "metadata": {},
   "outputs": [
    {
     "name": "stdout",
     "output_type": "stream",
     "text": [
      "4D CT Sensitivity: 69.44% (125 True Positive / 180 total with disease)\n"
     ]
    }
   ],
   "source": [
    "sensitivity = true_positives / (true_positives + false_negatives)\n",
    "print(f\"4D CT Sensitivity: {sensitivity:.2%} ({true_positives} True Positive / {true_positives + false_negatives} total with disease)\")"
   ]
  },
  {
   "cell_type": "code",
   "execution_count": null,
   "id": "75bfeb80",
   "metadata": {},
   "outputs": [],
   "source": []
  },
  {
   "cell_type": "code",
   "execution_count": null,
   "id": "01fc0544",
   "metadata": {},
   "outputs": [],
   "source": []
  }
 ],
 "metadata": {
  "kernelspec": {
   "display_name": "base",
   "language": "python",
   "name": "python3"
  },
  "language_info": {
   "codemirror_mode": {
    "name": "ipython",
    "version": 3
   },
   "file_extension": ".py",
   "mimetype": "text/x-python",
   "name": "python",
   "nbconvert_exporter": "python",
   "pygments_lexer": "ipython3",
   "version": "3.12.4"
  }
 },
 "nbformat": 4,
 "nbformat_minor": 5
}
