{
 "cells": [
  {
   "cell_type": "markdown",
   "id": "899f8b62",
   "metadata": {},
   "source": [
    "## SPECT/CT Sensitivity\n",
    "\n",
    "Calculates sensitivity as:\n",
    "\n",
    "**True Positives / (True Positives + False Negatives)**\n",
    "\n",
    "- True positives: Exact or Side matches  \n",
    "- False negatives: Non-localizing scans"
   ]
  },
  {
   "cell_type": "code",
   "execution_count": 1,
   "id": "5f043b16",
   "metadata": {},
   "outputs": [],
   "source": [
    "import pandas as pd \n",
    "preop_imaging_df = pd.read_excel('../../Data/final_imaging_data.xlsx')"
   ]
  },
  {
   "cell_type": "code",
   "execution_count": 18,
   "id": "7b417975",
   "metadata": {},
   "outputs": [],
   "source": [
    "def check_concordance(row, modality_col):\n",
    "    imaging = row[modality_col]\n",
    "    surgical = row['Surgical Findings']\n",
    "\n",
    "    # Return Unknown if imaging or surgical data is missing\n",
    "    if pd.isnull(imaging) or pd.isnull(surgical):\n",
    "        return 'Unknown'\n",
    "\n",
    "    # Handle special cases\n",
    "    if imaging == 'No Scan':\n",
    "        return 'No Scan'\n",
    "    if imaging == 'Non-localizing':\n",
    "        return 'Non-localizing'\n",
    "    if 'hyperplasia' in surgical.lower():\n",
    "        return 'Incorrect Localization'\n",
    "\n",
    "    imaging_glands = [g.strip().lower() for g in imaging.split(',')]\n",
    "    surgical_glands = [g.strip().lower() for g in surgical.split(',')]\n",
    "    imaging_set = set(imaging_glands)\n",
    "    surgical_set = set(surgical_glands)\n",
    "\n",
    "    if surgical_set.issubset(imaging_set):\n",
    "        return 'Yes (Exact)'\n",
    "    if imaging_set & surgical_set:\n",
    "        return 'Yes (Partial)'\n",
    "\n",
    "    imaging_sides = ['left' for ig in imaging_glands if 'left' in ig] + \\\n",
    "                    ['right' for ig in imaging_glands if 'right' in ig]\n",
    "    surgical_sides = ['left' for sg in surgical_glands if 'left' in sg] + \\\n",
    "                     ['right' for sg in surgical_glands if 'right' in sg]\n",
    "\n",
    "    if any(side in surgical_sides for side in imaging_sides):\n",
    "        if len(surgical_glands) > 1:\n",
    "            return 'Yes (Partial)'\n",
    "        else:\n",
    "            return 'Yes (Side)'\n",
    "\n",
    "    return 'Incorrect Localization'\n",
    "\n",
    "    "
   ]
  },
  {
   "cell_type": "code",
   "execution_count": 19,
   "id": "dae6f067",
   "metadata": {},
   "outputs": [
    {
     "data": {
      "text/plain": [
       "139"
      ]
     },
     "execution_count": 19,
     "metadata": {},
     "output_type": "execute_result"
    }
   ],
   "source": [
    "# Define modality\n",
    "modality = 'SPECT/CT'\n",
    "\n",
    "# Calculate concordance using your robust function\n",
    "preop_imaging_df['SPECT/CT Calculated Concordance'] = preop_imaging_df.apply(\n",
    "    lambda row: check_concordance(row, modality),\n",
    "    axis=1\n",
    ")\n",
    "\n",
    "\n",
    "localized_spect = preop_imaging_df[\n",
    "    preop_imaging_df['SPECT/CT Calculated Concordance'].isin(['Yes (Exact)', 'Yes (Side)', 'Yes (Partial)'])\n",
    "].copy()\n",
    "\n",
    "nonlocalized_spect = preop_imaging_df[\n",
    "    preop_imaging_df['SPECT/CT'] == 'Non-localizing'\n",
    "].copy()\n",
    "\n",
    "\n",
    "true_positives = localized_spect['SPECT/CT Calculated Concordance'].isin(['Yes (Exact)', 'Yes (Side)']).sum()\n",
    "false_negatives = nonlocalized_spect.shape[0]\n",
    "false_negatives \n",
    "true_positives"
   ]
  },
  {
   "cell_type": "code",
   "execution_count": 20,
   "id": "2432e58c",
   "metadata": {},
   "outputs": [
    {
     "name": "stdout",
     "output_type": "stream",
     "text": [
      "SPECT/CT Sensitivity: 72.77% (139 True Positive / 191 total with disease)\n"
     ]
    }
   ],
   "source": [
    "sensitivity = true_positives / (true_positives + false_negatives)\n",
    "print(f\"SPECT/CT Sensitivity: {sensitivity:.2%} ({true_positives} True Positive / {true_positives + false_negatives} total with disease)\")"
   ]
  },
  {
   "cell_type": "code",
   "execution_count": null,
   "id": "5970077a",
   "metadata": {},
   "outputs": [],
   "source": []
  }
 ],
 "metadata": {
  "kernelspec": {
   "display_name": "base",
   "language": "python",
   "name": "python3"
  },
  "language_info": {
   "codemirror_mode": {
    "name": "ipython",
    "version": 3
   },
   "file_extension": ".py",
   "mimetype": "text/x-python",
   "name": "python",
   "nbconvert_exporter": "python",
   "pygments_lexer": "ipython3",
   "version": "3.12.4"
  }
 },
 "nbformat": 4,
 "nbformat_minor": 5
}
