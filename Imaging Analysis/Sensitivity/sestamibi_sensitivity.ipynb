{
 "cells": [
  {
   "cell_type": "markdown",
   "id": "02e61552",
   "metadata": {},
   "source": [
    "## Sestamibi Sensitivity\n",
    "\n",
    "This cell computes the **sensitivity** of Sestamibi scans:\n",
    "\n",
    "**Sensitivity = True Positives / (True Positives + False Negatives)**\n",
    "\n",
    "- **True Positives**: Scans with Exact or Side match  \n",
    "- **False Negatives**: Scans labeled as *Non-localizing*"
   ]
  },
  {
   "cell_type": "code",
   "execution_count": 1,
   "id": "79f31b0a",
   "metadata": {},
   "outputs": [],
   "source": [
    "import pandas as pd \n",
    "preop_imaging_df = pd.read_excel('../../Data/final_imaging_data.xlsx')\n"
   ]
  },
  {
   "cell_type": "code",
   "execution_count": null,
   "id": "af4d027a",
   "metadata": {},
   "outputs": [
    {
     "data": {
      "text/plain": [
       "104"
      ]
     },
     "execution_count": 4,
     "metadata": {},
     "output_type": "execute_result"
    }
   ],
   "source": [
    "# Define modality\n",
    "modality = 'Sestamibi'\n",
    "\n",
    "\n",
    "# Filter to scans that localized anywhere (Left, Right)\n",
    "localized_sestamibi = preop_imaging_df[preop_imaging_df['Sestamibi Imaging Side'].isin(['Left', 'Right'])].copy()\n",
    "nonlocalized_sestamibi = preop_imaging_df[preop_imaging_df[modality] == 'Non-localizing'].copy()\n",
    "\n",
    "# Calculate true positives and false negatives\n",
    "true_positives = localized_sestamibi['Sestamibi Calculated Concordance'].isin(['Yes (Exact)', 'Yes (Side)']).sum()\n",
    "false_negatives = nonlocalized_sestamibi.shape[0]\n",
    "false_negatives \n",
    "true_positives\n"
   ]
  },
  {
   "cell_type": "code",
   "execution_count": 5,
   "id": "6f29ddfc",
   "metadata": {},
   "outputs": [
    {
     "name": "stdout",
     "output_type": "stream",
     "text": [
      "Sestamibi Sensitivity: 63.03% (104 True Positive / 165 total with disease)\n"
     ]
    }
   ],
   "source": [
    "sensitivity = true_positives / (true_positives + false_negatives)\n",
    "print(f\"Sestamibi Sensitivity: {sensitivity:.2%} ({true_positives} True Positive / {true_positives + false_negatives} total with disease)\")"
   ]
  },
  {
   "cell_type": "code",
   "execution_count": null,
   "id": "2fcb7026",
   "metadata": {},
   "outputs": [],
   "source": []
  }
 ],
 "metadata": {
  "kernelspec": {
   "display_name": "base",
   "language": "python",
   "name": "python3"
  },
  "language_info": {
   "codemirror_mode": {
    "name": "ipython",
    "version": 3
   },
   "file_extension": ".py",
   "mimetype": "text/x-python",
   "name": "python",
   "nbconvert_exporter": "python",
   "pygments_lexer": "ipython3",
   "version": "3.12.4"
  }
 },
 "nbformat": 4,
 "nbformat_minor": 5
}
