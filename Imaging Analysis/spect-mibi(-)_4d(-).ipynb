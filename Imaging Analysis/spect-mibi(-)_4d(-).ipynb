{
 "cells": [
  {
   "cell_type": "code",
   "execution_count": 3,
   "id": "2d42d8d5",
   "metadata": {},
   "outputs": [],
   "source": [
    "import pandas as pd \n",
    "preop_imaging_df = pd.read_excel('../Data/side_concordance_results.xlsx')"
   ]
  },
  {
   "cell_type": "code",
   "execution_count": 4,
   "id": "6186b3d3",
   "metadata": {},
   "outputs": [],
   "source": [
    "def extract_side(location):\n",
    "    if pd.isnull(location):\n",
    "        return 'No Scan'\n",
    "    \n",
    "    if 'Left' in location:\n",
    "        return 'Left'\n",
    "    elif 'Right' in location:\n",
    "        return 'Right'\n",
    "    else:\n",
    "        return 'Unknown'"
   ]
  },
  {
   "cell_type": "code",
   "execution_count": 5,
   "id": "286a5620",
   "metadata": {},
   "outputs": [],
   "source": [
    "def check_spect_sestamibi(row):\n",
    "    spect = row['SPECT/CT']\n",
    "    sestamibi = row['Sestamibi']\n",
    "    \n",
    "    spect_localizing = pd.notnull(spect) and spect not in ['No Scan', 'Non-localizing']\n",
    "    sestamibi_localizing = pd.notnull(sestamibi) and sestamibi not in ['No Scan', 'Non-localizing']\n",
    "    \n",
    "    if not pd.notnull(spect) and not pd.notnull(sestamibi):\n",
    "        return 'No SPECT/CT or Sestamibi Recorded'\n",
    "    elif spect_localizing and sestamibi_localizing:\n",
    "        return f\"SPECT: {spect} | Sestamibi: {sestamibi}\"\n",
    "    elif spect_localizing:\n",
    "        return f'SPECT/CT: {spect}'\n",
    "    elif sestamibi_localizing:\n",
    "        return f'Sestamibi: {sestamibi}'\n",
    "    else:\n",
    "        return 'Non-localizing'"
   ]
  },
  {
   "cell_type": "code",
   "execution_count": 6,
   "id": "3958f18f",
   "metadata": {},
   "outputs": [
    {
     "data": {
      "text/plain": [
       "0    Sestamibi: Right Inferior\n",
       "1               Non-localizing\n",
       "2     Sestamibi: Left Inferior\n",
       "3     Sestamibi: Left Inferior\n",
       "4              Sestamibi: Left\n",
       "Name: SPECT/CT-Sestamibi, dtype: object"
      ]
     },
     "execution_count": 6,
     "metadata": {},
     "output_type": "execute_result"
    }
   ],
   "source": [
    "preop_imaging_df['SPECT/CT-Sestamibi'] = preop_imaging_df.apply(check_spect_sestamibi, axis=1)\n",
    "preop_imaging_df['SPECT/CT-Sestamibi'].head()"
   ]
  },
  {
   "cell_type": "code",
   "execution_count": 7,
   "id": "8e5168fb",
   "metadata": {},
   "outputs": [],
   "source": [
    "spectmibi_modality = 'SPECT/CT-Sestamibi'\n",
    "modality_4dct = '4D CT Scan'"
   ]
  },
  {
   "cell_type": "code",
   "execution_count": 8,
   "id": "0bac649d",
   "metadata": {},
   "outputs": [],
   "source": [
    "negative_spectmibi_and_4d = preop_imaging_df[\n",
    "    (preop_imaging_df[spectmibi_modality] == 'Non-localizing') &\n",
    "    (preop_imaging_df[modality_4dct] == 'Non-localizing')\n",
    "]"
   ]
  },
  {
   "cell_type": "code",
   "execution_count": 9,
   "id": "8dc6458c",
   "metadata": {},
   "outputs": [
    {
     "name": "stdout",
     "output_type": "stream",
     "text": [
      "34 cases (97.06%) had both modalities non-localizing but were cured in surgery.\n"
     ]
    },
    {
     "data": {
      "text/html": [
       "<div>\n",
       "<style scoped>\n",
       "    .dataframe tbody tr th:only-of-type {\n",
       "        vertical-align: middle;\n",
       "    }\n",
       "\n",
       "    .dataframe tbody tr th {\n",
       "        vertical-align: top;\n",
       "    }\n",
       "\n",
       "    .dataframe thead th {\n",
       "        text-align: right;\n",
       "    }\n",
       "</style>\n",
       "<table border=\"1\" class=\"dataframe\">\n",
       "  <thead>\n",
       "    <tr style=\"text-align: right;\">\n",
       "      <th></th>\n",
       "      <th>Metric</th>\n",
       "      <th>Count</th>\n",
       "    </tr>\n",
       "  </thead>\n",
       "  <tbody>\n",
       "    <tr>\n",
       "      <th>0</th>\n",
       "      <td>Total cases with both modalities non-localizing</td>\n",
       "      <td>34</td>\n",
       "    </tr>\n",
       "    <tr>\n",
       "      <th>1</th>\n",
       "      <td>Cases cured in surgery</td>\n",
       "      <td>33</td>\n",
       "    </tr>\n",
       "    <tr>\n",
       "      <th>2</th>\n",
       "      <td>Percent cured within both-negative cases</td>\n",
       "      <td>97.06%</td>\n",
       "    </tr>\n",
       "  </tbody>\n",
       "</table>\n",
       "</div>"
      ],
      "text/plain": [
       "                                            Metric   Count\n",
       "0  Total cases with both modalities non-localizing      34\n",
       "1                           Cases cured in surgery      33\n",
       "2         Percent cured within both-negative cases  97.06%"
      ]
     },
     "metadata": {},
     "output_type": "display_data"
    }
   ],
   "source": [
    "total_cases = negative_spectmibi_and_4d.shape[0]\n",
    "total_surgical_cure = negative_spectmibi_and_4d[negative_spectmibi_and_4d['Surgical Cure'] == 'Yes'].shape[0]\n",
    "percentage = (total_surgical_cure / total_cases) * 100 \n",
    "\n",
    "print(f\"{total_cases} cases ({percentage:.2f}%) had both modalities non-localizing but were cured in surgery.\")\n",
    "\n",
    "negative_spect_4d_summary_df = pd.DataFrame({\n",
    "    'Metric': [\n",
    "        'Total cases with both modalities non-localizing',\n",
    "        'Cases cured in surgery',\n",
    "        'Percent cured within both-negative cases'\n",
    "    ],\n",
    "    'Count': [\n",
    "        total_cases,\n",
    "        total_surgical_cure,\n",
    "        f\"{percentage:.2f}%\"\n",
    "    ]\n",
    "})\n",
    "display(negative_spect_4d_summary_df)"
   ]
  }
 ],
 "metadata": {
  "kernelspec": {
   "display_name": "base",
   "language": "python",
   "name": "python3"
  },
  "language_info": {
   "codemirror_mode": {
    "name": "ipython",
    "version": 3
   },
   "file_extension": ".py",
   "mimetype": "text/x-python",
   "name": "python",
   "nbconvert_exporter": "python",
   "pygments_lexer": "ipython3",
   "version": "3.12.4"
  }
 },
 "nbformat": 4,
 "nbformat_minor": 5
}
