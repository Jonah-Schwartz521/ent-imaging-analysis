{
 "cells": [
  {
   "cell_type": "markdown",
   "id": "c323285b",
   "metadata": {},
   "source": [
    "### 4D CT Scan Concordance Summary\n",
    "\n",
    "- **Total Positive Scans:** 138\n",
    "- **Exact Matches:** 72 (52.17%)\n",
    "- **Side-only Matches:** 66 (47.83%)\n",
    "\n",
    "These results show that just over half of positive 4D CT scans were exact matches with surgical findings, while nearly half provided side-only localization."
   ]
  },
  {
   "cell_type": "code",
   "execution_count": 18,
   "id": "7640c0fc",
   "metadata": {},
   "outputs": [],
   "source": [
    "import pandas as pd \n",
    "preop_imaging_df = pd.read_excel('../Data/side_concordance_results.xlsx')\n"
   ]
  },
  {
   "cell_type": "code",
   "execution_count": 22,
   "id": "abf53524",
   "metadata": {},
   "outputs": [
    {
     "name": "stdout",
     "output_type": "stream",
     "text": [
      "Total Postive 4D CT Scans: 138\n",
      "Exact Matches: 72 (52.17%)\n",
      "Side-only matches: 66 (47.83%)\n"
     ]
    }
   ],
   "source": [
    "# define modality and corcordance column \n",
    "modality = '4D CT Scan'   \n",
    "concord_col = modality + '_Concordance'\n",
    "# Filter positive scans: exclude 'No' and 'No Scan'\n",
    "positive_4dct = preop_imaging_df[\n",
    "    (preop_imaging_df[concord_col] != 'No Scan') &\n",
    "    (preop_imaging_df[concord_col] != 'No')\n",
    "]\n",
    "# Count total positive scans\n",
    "total_positive_4dct = positive_4dct.shape[0]\n",
    "\n",
    "# Count exact matches\n",
    "exact_4dct_matches = positive_4dct[positive_4dct[concord_col] == 'Yes (Exact)'].shape[0]\n",
    "\n",
    "# Count side-only matches\n",
    "side_4dct_matches = positive_4dct[positive_4dct[concord_col] == 'Yes (Side)'].shape[0]\n",
    "\n",
    "# calculate percentages \n",
    "exact_4dct_percentage = (exact_4dct_matches / total_positive_4dct) * 100 if total_positive_4dct > 0 else None\n",
    "side_4dct_percentage = (side_4dct_matches / total_positive_4dct) * 100 if total_positive_4dct > 0 else None \n",
    "\n",
    "\n",
    "print(f'Total Postive 4D CT Scans: {total_positive_4dct}')\n",
    "print(f'Exact Matches: {exact_4dct_matches} ({exact_4dct_percentage:.2f}%)')\n",
    "print(f'Side-only matches: {side_4dct_matches} ({side_4dct_percentage:.2f}%)')\n",
    "\n"
   ]
  },
  {
   "cell_type": "markdown",
   "id": "67d78b95",
   "metadata": {},
   "source": [
    "### SPECT/CT Results\n",
    "\n",
    "- **Total Positives:** 160\n",
    "- **Exact Matches:** 70 (43.75%)\n",
    "- **Side-only Matches:** 90 (56.25%)\n",
    "\n",
    "Less than half were exact matches; over half provided side-only localization."
   ]
  },
  {
   "cell_type": "code",
   "execution_count": 23,
   "id": "986b44df",
   "metadata": {},
   "outputs": [
    {
     "name": "stdout",
     "output_type": "stream",
     "text": [
      "Total Postive SPECT/CT Scans: 160\n",
      "Exact Matches: 70 (43.75%)\n",
      "Side-only matches: 90 (56.25%)\n"
     ]
    }
   ],
   "source": [
    "# define modality and corcordance column \n",
    "modality2 = 'SPECT/CT'   \n",
    "concord_col2 = modality2 + '_Concordance'\n",
    "# Filter positive scans: exclude 'No' and 'No Scan'\n",
    "positive_spect = preop_imaging_df[\n",
    "    (preop_imaging_df[concord_col2] != 'No Scan') &\n",
    "    (preop_imaging_df[concord_col2] != 'No')\n",
    "]\n",
    "\n",
    "# Count total positive scans\n",
    "total_positive_spect = positive_spect.shape[0]\n",
    "\n",
    "# Count exact matches\n",
    "exact_spect_matches = positive_spect[positive_spect[concord_col2] == 'Yes (Exact)'].shape[0]\n",
    "\n",
    "# Count side-only matches\n",
    "side_spect_matches = positive_spect[positive_spect[concord_col2] == 'Yes (Side)'].shape[0]\n",
    "\n",
    "# calculate percentages \n",
    "exact_spect_percentage = (exact_spect_matches / total_positive_spect) * 100 if total_positive_spect > 0 else None\n",
    "side_spect_percentage = (side_spect_matches / total_positive_spect) * 100 if total_positive_spect > 0 else None \n",
    "\n",
    "\n",
    "print(f'Total Postive SPECT/CT Scans: {total_positive_spect}')\n",
    "print(f'Exact Matches: {exact_spect_matches} ({exact_spect_percentage:.2f}%)')\n",
    "print(f'Side-only matches: {side_spect_matches} ({side_spect_percentage:.2f}%)')\n",
    "\n"
   ]
  },
  {
   "cell_type": "code",
   "execution_count": 21,
   "id": "70edc166",
   "metadata": {},
   "outputs": [
    {
     "name": "stdout",
     "output_type": "stream",
     "text": [
      "['No Scan' 'Yes (Exact)' 'No' 'Yes (Side)']\n"
     ]
    }
   ],
   "source": [
    "print(preop_imaging_df['SPECT/CT_Concordance'].unique())"
   ]
  },
  {
   "cell_type": "code",
   "execution_count": null,
   "id": "3bb4eeaa",
   "metadata": {},
   "outputs": [],
   "source": []
  }
 ],
 "metadata": {
  "kernelspec": {
   "display_name": "base",
   "language": "python",
   "name": "python3"
  },
  "language_info": {
   "codemirror_mode": {
    "name": "ipython",
    "version": 3
   },
   "file_extension": ".py",
   "mimetype": "text/x-python",
   "name": "python",
   "nbconvert_exporter": "python",
   "pygments_lexer": "ipython3",
   "version": "3.12.4"
  }
 },
 "nbformat": 4,
 "nbformat_minor": 5
}
