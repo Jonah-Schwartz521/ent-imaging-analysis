{
 "cells": [
  {
   "cell_type": "code",
   "execution_count": 33,
   "id": "bab4ccaf",
   "metadata": {},
   "outputs": [],
   "source": [
    "import pandas as pd \n",
    "preop_imaging_df = pd.read_excel('../Data/side_concordance_results.xlsx')\n"
   ]
  },
  {
   "cell_type": "code",
   "execution_count": 34,
   "id": "88f53843",
   "metadata": {},
   "outputs": [],
   "source": [
    "def extract_side(location):\n",
    "    if pd.isnull(location):\n",
    "        return 'No Scan'\n",
    "    elif 'Left' in location:\n",
    "        return 'Left'\n",
    "    elif 'Right' in location:\n",
    "        return 'Right'\n",
    "    else:\n",
    "        return 'Unknown'"
   ]
  },
  {
   "cell_type": "code",
   "execution_count": 35,
   "id": "42d361ca",
   "metadata": {},
   "outputs": [],
   "source": [
    "# Define modalities and concordance column\n",
    "spect_modality = 'SPECT/CT'\n",
    "modality_4d = '4D CT Scan'\n",
    "concord_col_4d = modality_4d + '_Concordance'\n",
    "\n",
    "# Filter for SPECT negative (non-localizing)\n",
    "negative_spect = preop_imaging_df[preop_imaging_df[spect_modality] == 'Non-localizing'].copy()\n",
    "\n",
    "# Apply extract_side to 4D CT Scan results within the negative_spect dataframe\n",
    "negative_spect['4D CT Imaging Side'] = negative_spect[modality_4d].apply(extract_side)\n",
    "\n",
    "# Filter for rows where 4D CT localized to Left or Right (i.e. positive scan)\n",
    "spect_neg_4d_pos = negative_spect[\n",
    "    negative_spect['4D CT Imaging Side'].isin(['Left', 'Right'])\n",
    "].copy()\n"
   ]
  },
  {
   "cell_type": "code",
   "execution_count": 36,
   "id": "089a0523",
   "metadata": {},
   "outputs": [],
   "source": [
    "# Calculate total number of SPECT- / 4D CT+ cases\n",
    "total_cases = spect_neg_4d_pos.shape[0]\n",
    "\n",
    "# Count exact matches\n",
    "exact_count = spect_neg_4d_pos[spect_neg_4d_pos[concord_col_4d] == 'Yes (Exact)'].shape[0]\n",
    "\n",
    "# Count side-only matches\n",
    "side_count = spect_neg_4d_pos[spect_neg_4d_pos[concord_col_4d] == 'Yes (Side)'].shape[0]\n",
    "\n",
    "# Count incorrect localizations (i.e. any positive that wasn't exact or side match)\n",
    "incorrect_count = total_cases - (exact_count + side_count)\n",
    "\n",
    "# Calculate percentages\n",
    "exact_pct = (exact_count / total_cases) * 100 if total_cases > 0 else None\n",
    "side_pct = (side_count / total_cases) * 100 if total_cases > 0 else None\n",
    "incorrect_pct = (incorrect_count / total_cases) * 100 if total_cases > 0 else None"
   ]
  },
  {
   "cell_type": "code",
   "execution_count": null,
   "id": "4529111a",
   "metadata": {},
   "outputs": [
    {
     "name": "stdout",
     "output_type": "stream",
     "text": [
      "Total SPECT negative / 4D CT positive cases: 31\n"
     ]
    },
    {
     "data": {
      "text/html": [
       "<div>\n",
       "<style scoped>\n",
       "    .dataframe tbody tr th:only-of-type {\n",
       "        vertical-align: middle;\n",
       "    }\n",
       "\n",
       "    .dataframe tbody tr th {\n",
       "        vertical-align: top;\n",
       "    }\n",
       "\n",
       "    .dataframe thead th {\n",
       "        text-align: right;\n",
       "    }\n",
       "</style>\n",
       "<table border=\"1\" class=\"dataframe\">\n",
       "  <thead>\n",
       "    <tr style=\"text-align: right;\">\n",
       "      <th></th>\n",
       "      <th>Match Type</th>\n",
       "      <th>Count</th>\n",
       "      <th>Percentage</th>\n",
       "    </tr>\n",
       "  </thead>\n",
       "  <tbody>\n",
       "    <tr>\n",
       "      <th>0</th>\n",
       "      <td>Exact Match</td>\n",
       "      <td>13</td>\n",
       "      <td>41.94%</td>\n",
       "    </tr>\n",
       "    <tr>\n",
       "      <th>1</th>\n",
       "      <td>Side-only Match</td>\n",
       "      <td>6</td>\n",
       "      <td>19.35%</td>\n",
       "    </tr>\n",
       "    <tr>\n",
       "      <th>2</th>\n",
       "      <td>Incorrect Localization</td>\n",
       "      <td>12</td>\n",
       "      <td>38.71%</td>\n",
       "    </tr>\n",
       "  </tbody>\n",
       "</table>\n",
       "</div>"
      ],
      "text/plain": [
       "               Match Type  Count Percentage\n",
       "0             Exact Match     13     41.94%\n",
       "1         Side-only Match      6     19.35%\n",
       "2  Incorrect Localization     12     38.71%"
      ]
     },
     "metadata": {},
     "output_type": "display_data"
    }
   ],
   "source": [
    "# Create final results dataframe\n",
    "spect_neg_4d_pos_summary_df = pd.DataFrame({\n",
    "    'Match Type': ['Exact Match', 'Side-only Match', 'Incorrect Localization'],\n",
    "    'Count': [exact_count, side_count, incorrect_count],\n",
    "    'Percentage': [\n",
    "        f\"{exact_pct:.2f}%\" if exact_pct is not None else 'N/A',\n",
    "        f\"{side_pct:.2f}%\" if side_pct is not None else 'N/A',\n",
    "        f\"{incorrect_pct:.2f}%\" if incorrect_pct is not None else 'N/A'\n",
    "    ]\n",
    "})\n",
    "\n",
    "# Display results\n",
    "print(f\"Total SPECT negative / 4D CT positive cases: {total_cases}\")\n",
    "display(spect_neg_4d_pos_summary_df)"
   ]
  },
  {
   "cell_type": "code",
   "execution_count": null,
   "id": "a3e7ed90",
   "metadata": {},
   "outputs": [],
   "source": [
    "   \n",
    "    \n",
    "    \n",
    "    \n",
    "    \n",
    "    \n",
    "    "
   ]
  }
 ],
 "metadata": {
  "kernelspec": {
   "display_name": "base",
   "language": "python",
   "name": "python3"
  },
  "language_info": {
   "codemirror_mode": {
    "name": "ipython",
    "version": 3
   },
   "file_extension": ".py",
   "mimetype": "text/x-python",
   "name": "python",
   "nbconvert_exporter": "python",
   "pygments_lexer": "ipython3",
   "version": "3.12.4"
  }
 },
 "nbformat": 4,
 "nbformat_minor": 5
}
