{
 "cells": [
  {
   "cell_type": "code",
   "execution_count": 2,
   "id": "f8ba7969",
   "metadata": {},
   "outputs": [],
   "source": [
    "import pandas as pd \n",
    "import numpy as np \n",
    "import matplotlib.pyplot as plt \n",
    "import seaborn as sns \n",
    "\n",
    "\n",
    "preop_imaging_df = pd.read_excel('data/final_cleaned_with_concordance.xlsx')"
   ]
  },
  {
   "cell_type": "code",
   "execution_count": null,
   "id": "0667573b",
   "metadata": {},
   "outputs": [],
   "source": [
    "modalities = ['Ultrasound', 'SPECT/CT', '4D CT Scan', 'Sestamibi', 'MRI']"
   ]
  },
  {
   "cell_type": "code",
   "execution_count": 8,
   "id": "a006abd8",
   "metadata": {},
   "outputs": [],
   "source": [
    "# function that extracts the side from a location string \n",
    "def extract_side(location):\n",
    "    \n",
    "    # return 'No Scan' if location is missing\n",
    "    if pd.isnull(location):\n",
    "        return 'No Scan'\n",
    "    \n",
    "    # return 'Left' if location mentions 'Left'\n",
    "    elif 'Left' in location:\n",
    "        return 'Left'\n",
    "    \n",
    "    # return 'Right' if location mentions 'Right'\n",
    "    elif 'Right' in location:\n",
    "        return 'Right'\n",
    "    "
   ]
  },
  {
   "cell_type": "code",
   "execution_count": 9,
   "id": "7b028b2e",
   "metadata": {},
   "outputs": [],
   "source": [
    "def check_concordance_exact_or_side(row, modality_col):\n",
    "    \n",
    "    # If imaging result is missing\n",
    "    if pd.isnull(row[modality_col]):\n",
    "        return 'No Scan'\n",
    "    \n",
    "    # If imaging result matches surgical finding exactly\n",
    "    elif row[modality_col] == row['Surgical Findings']:\n",
    "        return 'Yes (Exact)'\n",
    "    \n",
    "    # If imaging side matches surgical side\n",
    "    elif extract_side(row[modality_col]) == extract_side(row['Surgical Findings']):\n",
    "        return 'Yes (Side)'\n",
    "    \n",
    "    # Otherwise, not concordant\n",
    "    else:\n",
    "        return 'No'"
   ]
  },
  {
   "cell_type": "code",
   "execution_count": null,
   "id": "fdf98ab0",
   "metadata": {},
   "outputs": [
    {
     "name": "stdout",
     "output_type": "stream",
     "text": [
      "Yes (Exact)\n",
      "Yes (Side)\n",
      "No\n",
      "No Scan\n"
     ]
    }
   ],
   "source": [
    "# iterate through the list of imaging modalities \n",
    "for modality in modalities:\n",
    "    "
   ]
  },
  {
   "cell_type": "code",
   "execution_count": null,
   "id": "75a218be",
   "metadata": {},
   "outputs": [],
   "source": []
  }
 ],
 "metadata": {
  "kernelspec": {
   "display_name": "base",
   "language": "python",
   "name": "python3"
  },
  "language_info": {
   "codemirror_mode": {
    "name": "ipython",
    "version": 3
   },
   "file_extension": ".py",
   "mimetype": "text/x-python",
   "name": "python",
   "nbconvert_exporter": "python",
   "pygments_lexer": "ipython3",
   "version": "3.12.4"
  }
 },
 "nbformat": 4,
 "nbformat_minor": 5
}
