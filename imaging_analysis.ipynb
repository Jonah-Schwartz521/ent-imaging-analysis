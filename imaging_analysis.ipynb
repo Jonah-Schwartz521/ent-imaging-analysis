{
 "cells": [
  {
   "cell_type": "code",
   "execution_count": 20,
   "id": "cf3ffcc2",
   "metadata": {},
   "outputs": [],
   "source": [
    "import pandas as pd \n",
    "import numpy as np \n",
    "import matplotlib.pyplot as plt \n",
    "import seaborn as sns \n",
    "\n",
    "preop_imaging_df = pd.read_excel('Data/imaging_data.xlsx')"
   ]
  },
  {
   "cell_type": "code",
   "execution_count": 21,
   "id": "5ed8e51d",
   "metadata": {},
   "outputs": [
    {
     "data": {
      "text/html": [
       "<div>\n",
       "<style scoped>\n",
       "    .dataframe tbody tr th:only-of-type {\n",
       "        vertical-align: middle;\n",
       "    }\n",
       "\n",
       "    .dataframe tbody tr th {\n",
       "        vertical-align: top;\n",
       "    }\n",
       "\n",
       "    .dataframe thead th {\n",
       "        text-align: right;\n",
       "    }\n",
       "</style>\n",
       "<table border=\"1\" class=\"dataframe\">\n",
       "  <thead>\n",
       "    <tr style=\"text-align: right;\">\n",
       "      <th></th>\n",
       "      <th>Date of Procedure</th>\n",
       "      <th>Patient ID</th>\n",
       "      <th>Age</th>\n",
       "      <th>Gender</th>\n",
       "      <th>Surgical Findings</th>\n",
       "      <th>Surgical Cure</th>\n",
       "      <th>SPECT/CT</th>\n",
       "      <th>Ultrasound</th>\n",
       "      <th>4D CT Scan</th>\n",
       "      <th>Sestamibi</th>\n",
       "      <th>MRI</th>\n",
       "    </tr>\n",
       "  </thead>\n",
       "  <tbody>\n",
       "    <tr>\n",
       "      <th>0</th>\n",
       "      <td>2012-04-24</td>\n",
       "      <td>156895</td>\n",
       "      <td>77</td>\n",
       "      <td>F</td>\n",
       "      <td>Right Inferior</td>\n",
       "      <td>Yes</td>\n",
       "      <td>NaN</td>\n",
       "      <td>NaN</td>\n",
       "      <td>NaN</td>\n",
       "      <td>Right Inferior</td>\n",
       "      <td>Right Inferior</td>\n",
       "    </tr>\n",
       "    <tr>\n",
       "      <th>1</th>\n",
       "      <td>2012-05-08</td>\n",
       "      <td>182059</td>\n",
       "      <td>70</td>\n",
       "      <td>F</td>\n",
       "      <td>Left Inferior</td>\n",
       "      <td>Yes</td>\n",
       "      <td>NaN</td>\n",
       "      <td>Non-localizing</td>\n",
       "      <td>NaN</td>\n",
       "      <td>Non-localizing</td>\n",
       "      <td>Right Inferior</td>\n",
       "    </tr>\n",
       "    <tr>\n",
       "      <th>2</th>\n",
       "      <td>2012-05-22</td>\n",
       "      <td>150593</td>\n",
       "      <td>65</td>\n",
       "      <td>F</td>\n",
       "      <td>Left Inferior</td>\n",
       "      <td>Yes</td>\n",
       "      <td>NaN</td>\n",
       "      <td>Left Inferior</td>\n",
       "      <td>NaN</td>\n",
       "      <td>Left Inferior</td>\n",
       "      <td>NaN</td>\n",
       "    </tr>\n",
       "    <tr>\n",
       "      <th>3</th>\n",
       "      <td>2012-07-03</td>\n",
       "      <td>183346</td>\n",
       "      <td>69</td>\n",
       "      <td>F</td>\n",
       "      <td>Left Superior, Right Superior</td>\n",
       "      <td>Yes</td>\n",
       "      <td>NaN</td>\n",
       "      <td>NaN</td>\n",
       "      <td>NaN</td>\n",
       "      <td>Left Inferior</td>\n",
       "      <td>Non-localizing</td>\n",
       "    </tr>\n",
       "    <tr>\n",
       "      <th>4</th>\n",
       "      <td>2012-07-18</td>\n",
       "      <td>183255</td>\n",
       "      <td>74</td>\n",
       "      <td>F</td>\n",
       "      <td>Left Superior</td>\n",
       "      <td>Yes</td>\n",
       "      <td>NaN</td>\n",
       "      <td>Left</td>\n",
       "      <td>NaN</td>\n",
       "      <td>Left</td>\n",
       "      <td>NaN</td>\n",
       "    </tr>\n",
       "  </tbody>\n",
       "</table>\n",
       "</div>"
      ],
      "text/plain": [
       "  Date of Procedure  Patient ID Age  Gender              Surgical Findings  \\\n",
       "0        2012-04-24      156895   77      F                 Right Inferior   \n",
       "1        2012-05-08      182059   70      F                  Left Inferior   \n",
       "2        2012-05-22      150593   65      F                  Left Inferior   \n",
       "3        2012-07-03      183346   69      F  Left Superior, Right Superior   \n",
       "4        2012-07-18      183255   74      F                  Left Superior   \n",
       "\n",
       "  Surgical Cure SPECT/CT      Ultrasound 4D CT Scan       Sestamibi  \\\n",
       "0           Yes      NaN             NaN        NaN  Right Inferior   \n",
       "1           Yes      NaN  Non-localizing        NaN  Non-localizing   \n",
       "2           Yes      NaN   Left Inferior        NaN   Left Inferior   \n",
       "3           Yes      NaN             NaN        NaN   Left Inferior   \n",
       "4           Yes      NaN            Left        NaN            Left   \n",
       "\n",
       "              MRI  \n",
       "0  Right Inferior  \n",
       "1  Right Inferior  \n",
       "2             NaN  \n",
       "3  Non-localizing  \n",
       "4             NaN  "
      ]
     },
     "execution_count": 21,
     "metadata": {},
     "output_type": "execute_result"
    }
   ],
   "source": [
    "preop_imaging_df.head()"
   ]
  },
  {
   "cell_type": "code",
   "execution_count": 22,
   "id": "0cf0da96",
   "metadata": {},
   "outputs": [
    {
     "name": "stdout",
     "output_type": "stream",
     "text": [
      "<class 'pandas.core.frame.DataFrame'>\n",
      "RangeIndex: 405 entries, 0 to 404\n",
      "Data columns (total 11 columns):\n",
      " #   Column             Non-Null Count  Dtype         \n",
      "---  ------             --------------  -----         \n",
      " 0   Date of Procedure  405 non-null    datetime64[ns]\n",
      " 1   Patient ID         405 non-null    int64         \n",
      " 2   Age                403 non-null    object        \n",
      " 3   Gender             405 non-null    object        \n",
      " 4   Surgical Findings  405 non-null    object        \n",
      " 5   Surgical Cure      405 non-null    object        \n",
      " 6   SPECT/CT           230 non-null    object        \n",
      " 7   Ultrasound         145 non-null    object        \n",
      " 8   4D CT Scan         228 non-null    object        \n",
      " 9   Sestamibi          174 non-null    object        \n",
      " 10  MRI                15 non-null     object        \n",
      "dtypes: datetime64[ns](1), int64(1), object(9)\n",
      "memory usage: 34.9+ KB\n"
     ]
    }
   ],
   "source": [
    "preop_imaging_df.info()"
   ]
  },
  {
   "cell_type": "code",
   "execution_count": 23,
   "id": "1b604073",
   "metadata": {},
   "outputs": [
    {
     "data": {
      "text/plain": [
       "(405, 11)"
      ]
     },
     "execution_count": 23,
     "metadata": {},
     "output_type": "execute_result"
    }
   ],
   "source": [
    "preop_imaging_df.shape"
   ]
  },
  {
   "cell_type": "code",
   "execution_count": 24,
   "id": "f2072591",
   "metadata": {},
   "outputs": [
    {
     "data": {
      "text/plain": [
       "Index(['Date of Procedure', 'Patient ID', 'Age ', 'Gender',\n",
       "       'Surgical Findings', 'Surgical Cure', 'SPECT/CT', 'Ultrasound',\n",
       "       '4D CT Scan', 'Sestamibi', 'MRI'],\n",
       "      dtype='object')"
      ]
     },
     "execution_count": 24,
     "metadata": {},
     "output_type": "execute_result"
    }
   ],
   "source": [
    "preop_imaging_df.columns"
   ]
  },
  {
   "cell_type": "code",
   "execution_count": 25,
   "id": "c1795075",
   "metadata": {},
   "outputs": [
    {
     "data": {
      "text/plain": [
       "Date of Procedure      0\n",
       "Patient ID             0\n",
       "Age                    2\n",
       "Gender                 0\n",
       "Surgical Findings      0\n",
       "Surgical Cure          0\n",
       "SPECT/CT             175\n",
       "Ultrasound           260\n",
       "4D CT Scan           177\n",
       "Sestamibi            231\n",
       "MRI                  390\n",
       "dtype: int64"
      ]
     },
     "execution_count": 25,
     "metadata": {},
     "output_type": "execute_result"
    }
   ],
   "source": [
    "preop_imaging_df.isnull().sum()"
   ]
  },
  {
   "cell_type": "code",
   "execution_count": null,
   "id": "a0cd4215",
   "metadata": {},
   "outputs": [],
   "source": []
  },
  {
   "cell_type": "code",
   "execution_count": null,
   "id": "d171d43f",
   "metadata": {},
   "outputs": [],
   "source": []
  }
 ],
 "metadata": {
  "kernelspec": {
   "display_name": "base",
   "language": "python",
   "name": "python3"
  },
  "language_info": {
   "codemirror_mode": {
    "name": "ipython",
    "version": 3
   },
   "file_extension": ".py",
   "mimetype": "text/x-python",
   "name": "python",
   "nbconvert_exporter": "python",
   "pygments_lexer": "ipython3",
   "version": "3.12.4"
  }
 },
 "nbformat": 4,
 "nbformat_minor": 5
}
